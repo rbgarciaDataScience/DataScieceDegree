{
 "cells": [
  {
   "cell_type": "markdown",
   "id": "3e8d684b",
   "metadata": {},
   "source": [
    "Módulo: Estatística com Python<br>\n",
    "Lista: Estatística básica<br>\n",
    "Data: 10/2021"
   ]
  },
  {
   "cell_type": "markdown",
   "id": "bf41096b",
   "metadata": {},
   "source": [
    "# Exercícios - Estatística I"
   ]
  },
  {
   "cell_type": "markdown",
   "id": "f0f7505b",
   "metadata": {},
   "source": [
    "### Os exercícios de 1 a 5 serão desenvolvidos utilizando o _dataset_ `Titanic.csv`\n",
    "   "
   ]
  },
  {
   "cell_type": "markdown",
   "id": "02cce555",
   "metadata": {},
   "source": [
    "##### Carregando as principais bibliotecas"
   ]
  },
  {
   "cell_type": "code",
   "execution_count": 1,
   "id": "35fab489",
   "metadata": {
    "ExecuteTime": {
     "end_time": "2021-10-08T18:56:44.331870Z",
     "start_time": "2021-10-08T18:56:39.679403Z"
    }
   },
   "outputs": [],
   "source": [
    "import pandas as pd\n",
    "import numpy as np\n",
    "import matplotlib.pyplot as plt\n",
    "import seaborn as sns"
   ]
  },
  {
   "cell_type": "code",
   "execution_count": 2,
   "id": "21d68928",
   "metadata": {},
   "outputs": [
    {
     "data": {
      "text/html": [
       "<div>\n",
       "<style scoped>\n",
       "    .dataframe tbody tr th:only-of-type {\n",
       "        vertical-align: middle;\n",
       "    }\n",
       "\n",
       "    .dataframe tbody tr th {\n",
       "        vertical-align: top;\n",
       "    }\n",
       "\n",
       "    .dataframe thead th {\n",
       "        text-align: right;\n",
       "    }\n",
       "</style>\n",
       "<table border=\"1\" class=\"dataframe\">\n",
       "  <thead>\n",
       "    <tr style=\"text-align: right;\">\n",
       "      <th></th>\n",
       "      <th>survived</th>\n",
       "      <th>pclass</th>\n",
       "      <th>sex</th>\n",
       "      <th>age</th>\n",
       "      <th>sibsp</th>\n",
       "      <th>parch</th>\n",
       "      <th>fare</th>\n",
       "      <th>embarked</th>\n",
       "      <th>class</th>\n",
       "      <th>who</th>\n",
       "      <th>adult_male</th>\n",
       "      <th>deck</th>\n",
       "      <th>embark_town</th>\n",
       "      <th>alive</th>\n",
       "      <th>alone</th>\n",
       "    </tr>\n",
       "  </thead>\n",
       "  <tbody>\n",
       "    <tr>\n",
       "      <th>0</th>\n",
       "      <td>0</td>\n",
       "      <td>3</td>\n",
       "      <td>male</td>\n",
       "      <td>22.0</td>\n",
       "      <td>1</td>\n",
       "      <td>0</td>\n",
       "      <td>7.2500</td>\n",
       "      <td>S</td>\n",
       "      <td>Third</td>\n",
       "      <td>man</td>\n",
       "      <td>True</td>\n",
       "      <td>NaN</td>\n",
       "      <td>Southampton</td>\n",
       "      <td>no</td>\n",
       "      <td>False</td>\n",
       "    </tr>\n",
       "    <tr>\n",
       "      <th>1</th>\n",
       "      <td>1</td>\n",
       "      <td>1</td>\n",
       "      <td>female</td>\n",
       "      <td>38.0</td>\n",
       "      <td>1</td>\n",
       "      <td>0</td>\n",
       "      <td>71.2833</td>\n",
       "      <td>C</td>\n",
       "      <td>First</td>\n",
       "      <td>woman</td>\n",
       "      <td>False</td>\n",
       "      <td>C</td>\n",
       "      <td>Cherbourg</td>\n",
       "      <td>yes</td>\n",
       "      <td>False</td>\n",
       "    </tr>\n",
       "    <tr>\n",
       "      <th>2</th>\n",
       "      <td>1</td>\n",
       "      <td>3</td>\n",
       "      <td>female</td>\n",
       "      <td>26.0</td>\n",
       "      <td>0</td>\n",
       "      <td>0</td>\n",
       "      <td>7.9250</td>\n",
       "      <td>S</td>\n",
       "      <td>Third</td>\n",
       "      <td>woman</td>\n",
       "      <td>False</td>\n",
       "      <td>NaN</td>\n",
       "      <td>Southampton</td>\n",
       "      <td>yes</td>\n",
       "      <td>True</td>\n",
       "    </tr>\n",
       "  </tbody>\n",
       "</table>\n",
       "</div>"
      ],
      "text/plain": [
       "   survived  pclass     sex   age  sibsp  parch     fare embarked  class  \\\n",
       "0         0       3    male  22.0      1      0   7.2500        S  Third   \n",
       "1         1       1  female  38.0      1      0  71.2833        C  First   \n",
       "2         1       3  female  26.0      0      0   7.9250        S  Third   \n",
       "\n",
       "     who  adult_male deck  embark_town alive  alone  \n",
       "0    man        True  NaN  Southampton    no  False  \n",
       "1  woman       False    C    Cherbourg   yes  False  \n",
       "2  woman       False  NaN  Southampton   yes   True  "
      ]
     },
     "execution_count": 2,
     "metadata": {},
     "output_type": "execute_result"
    }
   ],
   "source": [
    "# Carregando o dataset a partir da biblioteca seaborn\n",
    "df_titanic = sns.load_dataset('titanic')\n",
    "df_titanic.head(3)"
   ]
  },
  {
   "cell_type": "markdown",
   "id": "dc9efb9e",
   "metadata": {},
   "source": [
    "**Q1:** Calcule a frequência absoluta para os sobreviventes no _Titanic_. "
   ]
  },
  {
   "cell_type": "code",
   "execution_count": 3,
   "id": "00f2ab1a",
   "metadata": {},
   "outputs": [
    {
     "data": {
      "text/plain": [
       "0    549\n",
       "1    342\n",
       "Name: survived, dtype: int64"
      ]
     },
     "execution_count": 3,
     "metadata": {},
     "output_type": "execute_result"
    }
   ],
   "source": [
    "# Mostra a frequência absoluta (contagem simples) dos sobreviventes\n",
    "df_titanic['survived'].value_counts()"
   ]
  },
  {
   "cell_type": "code",
   "execution_count": 4,
   "id": "b7262aec",
   "metadata": {},
   "outputs": [
    {
     "name": "stdout",
     "output_type": "stream",
     "text": [
      "Sobreviventes: 342\n"
     ]
    }
   ],
   "source": [
    "print('Sobreviventes:', df_titanic['survived'].value_counts()[1])"
   ]
  },
  {
   "cell_type": "markdown",
   "id": "26ebb4fc",
   "metadata": {},
   "source": [
    "**Q2:** Calcule a frequência relativa, relativa percentual e acumulativa para os sobreviventes no _Titanic_.\n"
   ]
  },
  {
   "cell_type": "code",
   "execution_count": 5,
   "id": "1b111474",
   "metadata": {},
   "outputs": [
    {
     "name": "stdout",
     "output_type": "stream",
     "text": [
      "Frequência relativa (proporção): 0.38\n",
      "Frequência relativa (percentual): 38.38\n"
     ]
    }
   ],
   "source": [
    "# Mostra a frequência relativa (proporção) dos sobreviventes, relativa percentual\n",
    "print('Frequência relativa (proporção):',round(df_titanic['survived'].value_counts(normalize=True)[1],2))\n",
    "print('Frequência relativa (percentual):',round(100*df_titanic['survived'].value_counts(normalize=True)[1],2))"
   ]
  },
  {
   "cell_type": "code",
   "execution_count": 6,
   "id": "48c69fa5",
   "metadata": {},
   "outputs": [
    {
     "data": {
      "text/html": [
       "<div>\n",
       "<style scoped>\n",
       "    .dataframe tbody tr th:only-of-type {\n",
       "        vertical-align: middle;\n",
       "    }\n",
       "\n",
       "    .dataframe tbody tr th {\n",
       "        vertical-align: top;\n",
       "    }\n",
       "\n",
       "    .dataframe thead th {\n",
       "        text-align: right;\n",
       "    }\n",
       "</style>\n",
       "<table border=\"1\" class=\"dataframe\">\n",
       "  <thead>\n",
       "    <tr style=\"text-align: right;\">\n",
       "      <th></th>\n",
       "      <th>survived</th>\n",
       "      <th>freq_relativa</th>\n",
       "      <th>freq_relativa %</th>\n",
       "      <th>freq_acumulada %</th>\n",
       "    </tr>\n",
       "  </thead>\n",
       "  <tbody>\n",
       "    <tr>\n",
       "      <th>0</th>\n",
       "      <td>549</td>\n",
       "      <td>0.62</td>\n",
       "      <td>61.62</td>\n",
       "      <td>61.62</td>\n",
       "    </tr>\n",
       "    <tr>\n",
       "      <th>1</th>\n",
       "      <td>342</td>\n",
       "      <td>0.38</td>\n",
       "      <td>38.38</td>\n",
       "      <td>100.00</td>\n",
       "    </tr>\n",
       "  </tbody>\n",
       "</table>\n",
       "</div>"
      ],
      "text/plain": [
       "   survived  freq_relativa  freq_relativa %  freq_acumulada %\n",
       "0       549           0.62            61.62             61.62\n",
       "1       342           0.38            38.38            100.00"
      ]
     },
     "execution_count": 6,
     "metadata": {},
     "output_type": "execute_result"
    }
   ],
   "source": [
    "# Contruindo uma representação em tabela\n",
    "freq_titanic_survivors = pd.DataFrame()\n",
    "freq_titanic_survivors['survived'] = df_titanic['survived'].value_counts()\n",
    "freq_titanic_survivors['freq_relativa'] = df_titanic['survived'].value_counts(normalize=True)\n",
    "freq_titanic_survivors['freq_relativa %'] = 100* df_titanic['survived'].value_counts(normalize=True)\n",
    "freq_titanic_survivors['freq_acumulada %'] =  freq_titanic_survivors['freq_relativa %'].cumsum()\n",
    "round(freq_titanic_survivors,2)"
   ]
  },
  {
   "cell_type": "markdown",
   "id": "045b0f2a",
   "metadata": {},
   "source": [
    "**Q3:** Utilizando a coluna `Age` do _dataset Titanic_, defina as principais métricas estatísticas para essa variável tais como:\n",
    "- Média;\n",
    "- Desvio Padrão;\n",
    "- Mínimo;\n",
    "- Primeiro Quartil;\n",
    "- Segundo Quartil (Mediana);\n",
    "- Terceiro Quartil;\n",
    "- Distância Interquartil (IQR);\n",
    "- Máximo;\n",
    "- Skewness;\n",
    "- Moda."
   ]
  },
  {
   "cell_type": "markdown",
   "id": "3bdbff78",
   "metadata": {},
   "source": [
    "##### Verificando diferentes maneiras de extrair os dados"
   ]
  },
  {
   "cell_type": "code",
   "execution_count": 7,
   "id": "70c58f1a",
   "metadata": {},
   "outputs": [
    {
     "name": "stdout",
     "output_type": "stream",
     "text": [
      "Média:\t\t 29.7\n",
      "Desvio padrão:\t 14.53\n",
      "Mínimo:\t\t 0.42\n",
      "Q1:\t\t 20.125\n",
      "Q2 (mediana):\t 28.0\n",
      "Q3:\t\t 38.0\n",
      "Interq. (IQR):\t 17.875\n",
      "Máximo:\t\t 80.0\n",
      "Skewness:\t 0.389\n",
      "Moda:\t\t 24.0\n"
     ]
    }
   ],
   "source": [
    "print('Média:\\t\\t', round(df_titanic['age'].mean(), 2))\n",
    "print('Desvio padrão:\\t', round(df_titanic['age'].std(), 2))\n",
    "print('Mínimo:\\t\\t', df_titanic['age'].min())\n",
    "print('Q1:\\t\\t', np.nanquantile(df_titanic['age'], 0.25))\n",
    "print('Q2 (mediana):\\t', np.nanquantile(df_titanic['age'], 0.50))\n",
    "print('Q3:\\t\\t', np.nanquantile(df_titanic['age'], 0.75))\n",
    "q3, q1 = np.nanpercentile(df_titanic['age'],[75, 25])\n",
    "print('Interq. (IQR):\\t', q3-q1)\n",
    "print('Máximo:\\t\\t',df_titanic['age'].max())\n",
    "print('Skewness:\\t', round(df_titanic['age'].skew(),3))\n",
    "print('Moda:\\t\\t', df_titanic['age'].mode()[0])"
   ]
  },
  {
   "cell_type": "markdown",
   "id": "e7e562d1",
   "metadata": {},
   "source": [
    "###### O método .describe() do Pandas traz diversas dessas medidas "
   ]
  },
  {
   "cell_type": "code",
   "execution_count": 8,
   "id": "3c468ac4",
   "metadata": {},
   "outputs": [
    {
     "data": {
      "text/plain": [
       "count    714.000000\n",
       "mean      29.699118\n",
       "std       14.526497\n",
       "min        0.420000\n",
       "25%       20.125000\n",
       "50%       28.000000\n",
       "75%       38.000000\n",
       "max       80.000000\n",
       "Name: age, dtype: float64"
      ]
     },
     "execution_count": 8,
     "metadata": {},
     "output_type": "execute_result"
    }
   ],
   "source": [
    "# Pandas describe:\n",
    "df_titanic['age'].describe()"
   ]
  },
  {
   "cell_type": "markdown",
   "id": "02b13cc4",
   "metadata": {},
   "source": [
    "**Q4:** Crie um gráfico da dispersão das idades dos passageiros do _Titanic_ e identifique os pontos onde se encontram a média, mediana e moda das idades."
   ]
  },
  {
   "cell_type": "code",
   "execution_count": 9,
   "id": "379adf78",
   "metadata": {},
   "outputs": [
    {
     "data": {
      "image/png": "[encoded data removed]",
      "text/plain": [
       "<Figure size 432x288 with 1 Axes>"
      ]
     },
     "metadata": {
      "needs_background": "light"
     },
     "output_type": "display_data"
    }
   ],
   "source": [
    "# Na representação gráfica\n",
    "sns.histplot(df_titanic['age'])\n",
    "\n",
    "# plotando a mediana\n",
    "plt.axvline(df_titanic['age'].min(), color=\"magenta\", label=\"Mínimo\")\n",
    "plt.axvline(df_titanic['age'].max(), color=\"tomato\", label=\"Máximo\")\n",
    "plt.axvline(df_titanic['age'].mode()[0], color=\"orange\", label=\"Moda\")\n",
    "\n",
    "plt.title('Distribuição da idade dos passageiros do Titanic')\n",
    "\n",
    "# Cria uma legenda\n",
    "plt.legend();"
   ]
  },
  {
   "cell_type": "markdown",
   "id": "a722484e",
   "metadata": {},
   "source": [
    "**Q5:** Ainda trabalhando com os valores das idades crie três _Boxplots_:\n",
    "- _Boxplot_ das idades para todos os passageiros;\n",
    "- _Boxplot_ das idades dos passageiros separados pelo sexo.\n",
    "- _Boxplot_ das idades dos passageiros separados pelo sexo e por sobreviventes."
   ]
  },
  {
   "cell_type": "code",
   "execution_count": 10,
   "id": "2f888d33",
   "metadata": {},
   "outputs": [
    {
     "data": {
      "image/png": "[encoded data removed]",
      "text/plain": [
       "<Figure size 432x288 with 1 Axes>"
      ]
     },
     "metadata": {
      "needs_background": "light"
     },
     "output_type": "display_data"
    }
   ],
   "source": [
    "sns.boxplot(data=df_titanic,y='age');"
   ]
  },
  {
   "cell_type": "code",
   "execution_count": 11,
   "id": "c031f82b",
   "metadata": {},
   "outputs": [
    {
     "data": {
      "image/png": "[encoded data removed]",
      "text/plain": [
       "<Figure size 432x288 with 1 Axes>"
      ]
     },
     "metadata": {
      "needs_background": "light"
     },
     "output_type": "display_data"
    }
   ],
   "source": [
    "sns.boxplot(data=df_titanic,y='age',x='sex');"
   ]
  },
  {
   "cell_type": "code",
   "execution_count": 12,
   "id": "0c406435",
   "metadata": {},
   "outputs": [
    {
     "data": {
      "image/png": "[encoded data removed]",
      "text/plain": [
       "<Figure size 432x288 with 1 Axes>"
      ]
     },
     "metadata": {
      "needs_background": "light"
     },
     "output_type": "display_data"
    }
   ],
   "source": [
    "sns.boxplot(data=df_titanic,y='age',x='survived', hue='sex');"
   ]
  },
  {
   "cell_type": "markdown",
   "id": "d0eda9fb",
   "metadata": {
    "ExecuteTime": {
     "end_time": "2021-10-08T18:58:25.038529Z",
     "start_time": "2021-10-08T18:58:25.027559Z"
    }
   },
   "source": [
    "### Com o dataset `penguins`, responda as questões abaixo:"
   ]
  },
  {
   "cell_type": "code",
   "execution_count": 13,
   "id": "846ebe37",
   "metadata": {},
   "outputs": [
    {
     "data": {
      "text/html": [
       "<div>\n",
       "<style scoped>\n",
       "    .dataframe tbody tr th:only-of-type {\n",
       "        vertical-align: middle;\n",
       "    }\n",
       "\n",
       "    .dataframe tbody tr th {\n",
       "        vertical-align: top;\n",
       "    }\n",
       "\n",
       "    .dataframe thead th {\n",
       "        text-align: right;\n",
       "    }\n",
       "</style>\n",
       "<table border=\"1\" class=\"dataframe\">\n",
       "  <thead>\n",
       "    <tr style=\"text-align: right;\">\n",
       "      <th></th>\n",
       "      <th>species</th>\n",
       "      <th>island</th>\n",
       "      <th>bill_length_mm</th>\n",
       "      <th>bill_depth_mm</th>\n",
       "      <th>flipper_length_mm</th>\n",
       "      <th>body_mass_g</th>\n",
       "      <th>sex</th>\n",
       "    </tr>\n",
       "  </thead>\n",
       "  <tbody>\n",
       "    <tr>\n",
       "      <th>0</th>\n",
       "      <td>Adelie</td>\n",
       "      <td>Torgersen</td>\n",
       "      <td>39.1</td>\n",
       "      <td>18.7</td>\n",
       "      <td>181.0</td>\n",
       "      <td>3750.0</td>\n",
       "      <td>Male</td>\n",
       "    </tr>\n",
       "    <tr>\n",
       "      <th>1</th>\n",
       "      <td>Adelie</td>\n",
       "      <td>Torgersen</td>\n",
       "      <td>39.5</td>\n",
       "      <td>17.4</td>\n",
       "      <td>186.0</td>\n",
       "      <td>3800.0</td>\n",
       "      <td>Female</td>\n",
       "    </tr>\n",
       "    <tr>\n",
       "      <th>2</th>\n",
       "      <td>Adelie</td>\n",
       "      <td>Torgersen</td>\n",
       "      <td>40.3</td>\n",
       "      <td>18.0</td>\n",
       "      <td>195.0</td>\n",
       "      <td>3250.0</td>\n",
       "      <td>Female</td>\n",
       "    </tr>\n",
       "  </tbody>\n",
       "</table>\n",
       "</div>"
      ],
      "text/plain": [
       "  species     island  bill_length_mm  bill_depth_mm  flipper_length_mm  \\\n",
       "0  Adelie  Torgersen            39.1           18.7              181.0   \n",
       "1  Adelie  Torgersen            39.5           17.4              186.0   \n",
       "2  Adelie  Torgersen            40.3           18.0              195.0   \n",
       "\n",
       "   body_mass_g     sex  \n",
       "0       3750.0    Male  \n",
       "1       3800.0  Female  \n",
       "2       3250.0  Female  "
      ]
     },
     "execution_count": 13,
     "metadata": {},
     "output_type": "execute_result"
    }
   ],
   "source": [
    "df_pinguins = sns.load_dataset('penguins')\n",
    "df_pinguins.head(3)"
   ]
  },
  {
   "cell_type": "markdown",
   "id": "e8e2272c",
   "metadata": {},
   "source": [
    "**Q6:** Classifique o tipo de dado de cada coluna"
   ]
  },
  {
   "cell_type": "code",
   "execution_count": 14,
   "id": "6c8561b5",
   "metadata": {},
   "outputs": [
    {
     "name": "stdout",
     "output_type": "stream",
     "text": [
      "<class 'pandas.core.frame.DataFrame'>\n",
      "RangeIndex: 344 entries, 0 to 343\n",
      "Data columns (total 7 columns):\n",
      " #   Column             Non-Null Count  Dtype  \n",
      "---  ------             --------------  -----  \n",
      " 0   species            344 non-null    object \n",
      " 1   island             344 non-null    object \n",
      " 2   bill_length_mm     342 non-null    float64\n",
      " 3   bill_depth_mm      342 non-null    float64\n",
      " 4   flipper_length_mm  342 non-null    float64\n",
      " 5   body_mass_g        342 non-null    float64\n",
      " 6   sex                333 non-null    object \n",
      "dtypes: float64(4), object(3)\n",
      "memory usage: 18.9+ KB\n"
     ]
    }
   ],
   "source": [
    "df_pinguins.info()"
   ]
  },
  {
   "cell_type": "code",
   "execution_count": 15,
   "id": "661ba68f",
   "metadata": {},
   "outputs": [
    {
     "data": {
      "text/plain": [
       "species                3\n",
       "island                 3\n",
       "bill_length_mm       164\n",
       "bill_depth_mm         80\n",
       "flipper_length_mm     55\n",
       "body_mass_g           94\n",
       "sex                    2\n",
       "dtype: int64"
      ]
     },
     "execution_count": 15,
     "metadata": {},
     "output_type": "execute_result"
    }
   ],
   "source": [
    "df_pinguins.nunique()"
   ]
  },
  {
   "cell_type": "code",
   "execution_count": 16,
   "id": "090a4166",
   "metadata": {},
   "outputs": [
    {
     "data": {
      "text/html": [
       "<div>\n",
       "<style scoped>\n",
       "    .dataframe tbody tr th:only-of-type {\n",
       "        vertical-align: middle;\n",
       "    }\n",
       "\n",
       "    .dataframe tbody tr th {\n",
       "        vertical-align: top;\n",
       "    }\n",
       "\n",
       "    .dataframe thead th {\n",
       "        text-align: right;\n",
       "    }\n",
       "</style>\n",
       "<table border=\"1\" class=\"dataframe\">\n",
       "  <thead>\n",
       "    <tr style=\"text-align: right;\">\n",
       "      <th></th>\n",
       "      <th>species</th>\n",
       "      <th>island</th>\n",
       "      <th>bill_length_mm</th>\n",
       "      <th>bill_depth_mm</th>\n",
       "      <th>flipper_length_mm</th>\n",
       "      <th>body_mass_g</th>\n",
       "      <th>sex</th>\n",
       "    </tr>\n",
       "  </thead>\n",
       "  <tbody>\n",
       "    <tr>\n",
       "      <th>0</th>\n",
       "      <td>Adelie</td>\n",
       "      <td>Torgersen</td>\n",
       "      <td>39.1</td>\n",
       "      <td>18.7</td>\n",
       "      <td>181.0</td>\n",
       "      <td>3750.0</td>\n",
       "      <td>Male</td>\n",
       "    </tr>\n",
       "  </tbody>\n",
       "</table>\n",
       "</div>"
      ],
      "text/plain": [
       "  species     island  bill_length_mm  bill_depth_mm  flipper_length_mm  \\\n",
       "0  Adelie  Torgersen            39.1           18.7              181.0   \n",
       "\n",
       "   body_mass_g   sex  \n",
       "0       3750.0  Male  "
      ]
     },
     "execution_count": 16,
     "metadata": {},
     "output_type": "execute_result"
    }
   ],
   "source": [
    "df_pinguins.head(1)"
   ]
  },
  {
   "cell_type": "markdown",
   "id": "9909c262",
   "metadata": {},
   "source": [
    "Pelas informações acima, as colunas com dados categóricos são 'species', 'island' e 'sex', e as demais colunas possuem dados contínuos."
   ]
  },
  {
   "cell_type": "markdown",
   "id": "cd8fe357",
   "metadata": {},
   "source": [
    "**Q7:** Calcule a frequência absoluta para cada espécie de pinguim"
   ]
  },
  {
   "cell_type": "code",
   "execution_count": 17,
   "id": "820b61a5",
   "metadata": {},
   "outputs": [
    {
     "data": {
      "text/plain": [
       "Adelie       152\n",
       "Gentoo       124\n",
       "Chinstrap     68\n",
       "Name: species, dtype: int64"
      ]
     },
     "execution_count": 17,
     "metadata": {},
     "output_type": "execute_result"
    }
   ],
   "source": [
    "df_pinguins['species'].value_counts()"
   ]
  },
  {
   "cell_type": "markdown",
   "id": "620b2761",
   "metadata": {
    "ExecuteTime": {
     "end_time": "2021-10-08T19:01:38.859000Z",
     "start_time": "2021-10-08T19:01:38.844322Z"
    }
   },
   "source": [
    "**Q8:** Calcule a frequência relativa, relativa percentual e acumulativa para cada espécie de pinguim."
   ]
  },
  {
   "cell_type": "code",
   "execution_count": 18,
   "id": "4e52e2ba",
   "metadata": {},
   "outputs": [
    {
     "data": {
      "text/html": [
       "<div>\n",
       "<style scoped>\n",
       "    .dataframe tbody tr th:only-of-type {\n",
       "        vertical-align: middle;\n",
       "    }\n",
       "\n",
       "    .dataframe tbody tr th {\n",
       "        vertical-align: top;\n",
       "    }\n",
       "\n",
       "    .dataframe thead th {\n",
       "        text-align: right;\n",
       "    }\n",
       "</style>\n",
       "<table border=\"1\" class=\"dataframe\">\n",
       "  <thead>\n",
       "    <tr style=\"text-align: right;\">\n",
       "      <th></th>\n",
       "      <th>freq. absoluta</th>\n",
       "      <th>freq. relativa</th>\n",
       "      <th>freq. relativa %</th>\n",
       "      <th>freq. acumulativa</th>\n",
       "    </tr>\n",
       "  </thead>\n",
       "  <tbody>\n",
       "    <tr>\n",
       "      <th>Adelie</th>\n",
       "      <td>152</td>\n",
       "      <td>0.44</td>\n",
       "      <td>44.19</td>\n",
       "      <td>44.19</td>\n",
       "    </tr>\n",
       "    <tr>\n",
       "      <th>Gentoo</th>\n",
       "      <td>124</td>\n",
       "      <td>0.36</td>\n",
       "      <td>36.05</td>\n",
       "      <td>80.23</td>\n",
       "    </tr>\n",
       "    <tr>\n",
       "      <th>Chinstrap</th>\n",
       "      <td>68</td>\n",
       "      <td>0.20</td>\n",
       "      <td>19.77</td>\n",
       "      <td>100.00</td>\n",
       "    </tr>\n",
       "  </tbody>\n",
       "</table>\n",
       "</div>"
      ],
      "text/plain": [
       "           freq. absoluta  freq. relativa  freq. relativa %  freq. acumulativa\n",
       "Adelie                152            0.44             44.19              44.19\n",
       "Gentoo                124            0.36             36.05              80.23\n",
       "Chinstrap              68            0.20             19.77             100.00"
      ]
     },
     "execution_count": 18,
     "metadata": {},
     "output_type": "execute_result"
    }
   ],
   "source": [
    "# Contruindo uma representação em tabela\n",
    "df_especies_pinguins = pd.DataFrame()\n",
    "df_especies_pinguins['freq. absoluta'] = df_pinguins['species'].value_counts()\n",
    "df_especies_pinguins['freq. relativa'] = df_pinguins['species'].value_counts(normalize=True)\n",
    "df_especies_pinguins['freq. relativa %'] = df_pinguins['species'].value_counts(normalize=True)*100\n",
    "df_especies_pinguins['freq. acumulativa'] = df_especies_pinguins['freq. relativa %'].cumsum()\n",
    "\n",
    "round(df_especies_pinguins,2)"
   ]
  },
  {
   "cell_type": "markdown",
   "id": "8c784572",
   "metadata": {},
   "source": [
    "**Q9:**: Utilizando a coluna `body_mass_g` do dataset Penguins, defina as principais métricas estatísticas para essa variável tais como:\n",
    "\n",
    "- Média;\n",
    "- Desvio Padrão;\n",
    "- Mínimo;\n",
    "- Primeiro Quartil;\n",
    "- Segundo Quartil (Mediana);\n",
    "- Terceiro Quartil;\n",
    "- Distância Interquartil (IQR);\n",
    "- Máximo;\n",
    "- Skewness;\n",
    "- Moda."
   ]
  },
  {
   "cell_type": "code",
   "execution_count": 19,
   "id": "4a426802",
   "metadata": {},
   "outputs": [
    {
     "data": {
      "text/plain": [
       "count     342.000000\n",
       "mean     4201.754386\n",
       "std       801.954536\n",
       "min      2700.000000\n",
       "25%      3550.000000\n",
       "50%      4050.000000\n",
       "75%      4750.000000\n",
       "max      6300.000000\n",
       "Name: body_mass_g, dtype: float64"
      ]
     },
     "execution_count": 19,
     "metadata": {},
     "output_type": "execute_result"
    }
   ],
   "source": [
    "df_pinguins['body_mass_g'].describe()"
   ]
  },
  {
   "cell_type": "code",
   "execution_count": 20,
   "id": "8853226c",
   "metadata": {},
   "outputs": [
    {
     "data": {
      "text/plain": [
       "0.470329330480123"
      ]
     },
     "execution_count": 20,
     "metadata": {},
     "output_type": "execute_result"
    }
   ],
   "source": [
    "df_pinguins['body_mass_g'].skew()"
   ]
  },
  {
   "cell_type": "code",
   "execution_count": 21,
   "id": "574849d4",
   "metadata": {},
   "outputs": [
    {
     "data": {
      "text/plain": [
       "0    3800.0\n",
       "dtype: float64"
      ]
     },
     "execution_count": 21,
     "metadata": {},
     "output_type": "execute_result"
    }
   ],
   "source": [
    "df_pinguins['body_mass_g'].mode()"
   ]
  },
  {
   "cell_type": "markdown",
   "id": "13c53261",
   "metadata": {},
   "source": [
    "**Q10:** Crie um gráfico da dispersão da massa dos pinguins e identifique os pontos onde se encontram a média, mediana e moda das idades."
   ]
  },
  {
   "cell_type": "code",
   "execution_count": 22,
   "id": "10ac9d4d",
   "metadata": {},
   "outputs": [
    {
     "data": {
      "image/png": "[encoded data removed]",
      "text/plain": [
       "<Figure size 360x360 with 1 Axes>"
      ]
     },
     "metadata": {
      "needs_background": "light"
     },
     "output_type": "display_data"
    }
   ],
   "source": [
    "sns.displot(df_pinguins['body_mass_g'])\n",
    "\n",
    "# plotando a mediana\n",
    "plt.axvline(df_pinguins['body_mass_g'].mean(), color=\"magenta\", label=\"Média\")\n",
    "plt.axvline(df_pinguins['body_mass_g'].median(), color=\"tomato\", label=\"Mediana\")\n",
    "plt.axvline(df_pinguins['body_mass_g'].mode()[0], color=\"orange\", label=\"Moda\")\n",
    "\n",
    "plt.title('Dispersão da massa corporal dos pinguins',loc='left')\n",
    "\n",
    "# Cria uma legenda\n",
    "plt.legend();"
   ]
  },
  {
   "cell_type": "markdown",
   "id": "312a2d79",
   "metadata": {
    "ExecuteTime": {
     "end_time": "2021-10-08T19:07:27.672797Z",
     "start_time": "2021-10-08T19:07:27.657230Z"
    }
   },
   "source": [
    "**Q11:** Ainda trabalhando com os valores das massas dos pinguins crie três Boxplots:\n",
    "\n",
    "- Boxplot das massas para todos os pinguins\n",
    "- Boxplot das massas dos pinguins separados pelo sexo.\n",
    "- Boxplot das massas dos pinguins separados pelo sexo e pela espécies."
   ]
  },
  {
   "cell_type": "code",
   "execution_count": 23,
   "id": "c82a0953",
   "metadata": {},
   "outputs": [
    {
     "data": {
      "image/png": "[encoded data removed]",
      "text/plain": [
       "<Figure size 432x288 with 1 Axes>"
      ]
     },
     "metadata": {
      "needs_background": "light"
     },
     "output_type": "display_data"
    }
   ],
   "source": [
    "sns.boxplot(data=df_pinguins, y='body_mass_g')\n",
    "plt.title('Distribuição da massa corporal dos pinguins',loc='left');"
   ]
  },
  {
   "cell_type": "code",
   "execution_count": 24,
   "id": "6b4f87a4",
   "metadata": {},
   "outputs": [
    {
     "data": {
      "image/png": "[encoded data removed]",
      "text/plain": [
       "<Figure size 432x288 with 1 Axes>"
      ]
     },
     "metadata": {
      "needs_background": "light"
     },
     "output_type": "display_data"
    }
   ],
   "source": [
    "sns.boxplot(data=df_pinguins, y='body_mass_g',x='sex')\n",
    "plt.title('Distribuição da massa corporal dos pinguins por sexo',loc='left');"
   ]
  },
  {
   "cell_type": "code",
   "execution_count": 25,
   "id": "3a6d5c92",
   "metadata": {},
   "outputs": [
    {
     "data": {
      "image/png": "[encoded data removed]",
      "text/plain": [
       "<Figure size 432x288 with 1 Axes>"
      ]
     },
     "metadata": {
      "needs_background": "light"
     },
     "output_type": "display_data"
    }
   ],
   "source": [
    "sns.boxplot(data=df_pinguins, y='body_mass_g',x='species',hue='sex')\n",
    "plt.title('Massa corporal dos pinguins por espécie e sexo',loc='left');"
   ]
  }
 ],
 "metadata": {
  "kernelspec": {
   "display_name": "Python 3 (ipykernel)",
   "language": "python",
   "name": "python3"
  },
  "language_info": {
   "codemirror_mode": {
    "name": "ipython",
    "version": 3
   },
   "file_extension": ".py",
   "mimetype": "text/x-python",
   "name": "python",
   "nbconvert_exporter": "python",
   "pygments_lexer": "ipython3",
   "version": "3.9.5"
  },
  "varInspector": {
   "cols": {
    "lenName": 16,
    "lenType": 16,
    "lenVar": 40
   },
   "kernels_config": {
    "python": {
     "delete_cmd_postfix": "",
     "delete_cmd_prefix": "del ",
     "library": "var_list.py",
     "varRefreshCmd": "print(var_dic_list())"
    },
    "r": {
     "delete_cmd_postfix": ") ",
     "delete_cmd_prefix": "rm(",
     "library": "var_list.r",
     "varRefreshCmd": "cat(var_dic_list()) "
    }
   },
   "types_to_exclude": [
    "module",
    "function",
    "builtin_function_or_method",
    "instance",
    "_Feature"
   ],
   "window_display": false
  }
 },
 "nbformat": 4,
 "nbformat_minor": 5
}
