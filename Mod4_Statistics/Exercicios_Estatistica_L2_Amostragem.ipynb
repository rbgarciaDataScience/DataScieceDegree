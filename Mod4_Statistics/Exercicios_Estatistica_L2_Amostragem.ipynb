{
 "cells": [
  {
   "cell_type": "markdown",
   "id": "4f4fcb25",
   "metadata": {},
   "source": [
    "Módulo: Estatística com Python<br>\n",
    "Lista: População e amostragem<br>\n",
    "Data: 10/2021"
   ]
  },
  {
   "cell_type": "markdown",
   "id": "615f2026",
   "metadata": {
    "id": "615f2026"
   },
   "source": [
    "# Exercícios - Estatística II"
   ]
  },
  {
   "cell_type": "code",
   "execution_count": 1,
   "id": "735bed44",
   "metadata": {
    "id": "735bed44"
   },
   "outputs": [],
   "source": [
    "# Importação das bibliotecas\n",
    "import numpy as np\n",
    "import pandas as pd"
   ]
  },
  {
   "cell_type": "markdown",
   "id": "b3fd867e",
   "metadata": {
    "id": "b3fd867e"
   },
   "source": [
    "### Questão 1"
   ]
  },
  {
   "cell_type": "markdown",
   "id": "1a47d0ed",
   "metadata": {
    "id": "1a47d0ed"
   },
   "source": [
    "Uma relação bem importante entre uma população e uma amostra, é que uma amostra pode ser significativa daquela população (ou seja, podemos inferir que a média e variância da amostra será bem próximo do valor real da população), isto quando essa amostra for grande o suficiente para isso. Vamos fazer algumas simulações utilizando o _Python_ para testar esses conceicos, resolvendo os itens a seguir:\n",
    "\n",
    "__A)__ Crie uma lista com número aleatórios entre 20 e 50 e que essa lista contenham 1 milhão de elementos;\n",
    "\n",
    "__B)__ Calcule a média e a variância para essa lista;\n",
    "\n",
    "__C)__ Faça amostra aleatórias de diversos tamanhos (10, 100, 1.000 e 10.000 elementos) e calcule as mesmas métricas que o item anterior, para avaliar o conceito proposto no enunciado"
   ]
  },
  {
   "cell_type": "markdown",
   "id": "9f757ba4",
   "metadata": {
    "id": "9f757ba4"
   },
   "source": [
    "### Resolução:"
   ]
  },
  {
   "cell_type": "markdown",
   "id": "6f267fca",
   "metadata": {
    "id": "6f267fca"
   },
   "source": [
    "__A)__ Crie uma lista com número aleatórios entre 20 e 50 e que essa lista contenham 1 milhão de elementos;"
   ]
  },
  {
   "cell_type": "code",
   "execution_count": 2,
   "id": "408f5dab",
   "metadata": {
    "id": "408f5dab",
    "outputId": "e76735b1-a7a0-40e3-d6cc-7b3945dc0a81"
   },
   "outputs": [
    {
     "name": "stdout",
     "output_type": "stream",
     "text": [
      "Tamanho: 1000000\n",
      "Mínimo: 20\n",
      "Máximo: 50\n",
      "Amostra de 5 elementos: [29, 49, 24, 35, 20]\n"
     ]
    }
   ],
   "source": [
    "# Define uma semente aleatória\n",
    "np.random.seed(10)\n",
    "\n",
    "# tamanho da população\n",
    "n = 1000000\n",
    "\n",
    "# Criando a população\n",
    "pop = list(np.random.randint(20, 51, size = n))\n",
    "\n",
    "# Dados da população\n",
    "print('Tamanho:', len(pop))\n",
    "print('Mínimo:', min(pop))\n",
    "print('Máximo:',max(pop))\n",
    "\n",
    "\n",
    "# Print de 5 elementos da população\n",
    "print('Amostra de 5 elementos:',pop[:5])"
   ]
  },
  {
   "cell_type": "markdown",
   "id": "8b553c44",
   "metadata": {
    "id": "8b553c44"
   },
   "source": [
    "__B)__ Calcule a média e a variância para essa lista;"
   ]
  },
  {
   "cell_type": "code",
   "execution_count": 3,
   "id": "dea1a965",
   "metadata": {
    "id": "dea1a965",
    "outputId": "60404f7a-993a-4ab6-c9de-8351a54ba203"
   },
   "outputs": [
    {
     "name": "stdout",
     "output_type": "stream",
     "text": [
      "Média:\t   34.98\n",
      "Variância: 79.93\n"
     ]
    }
   ],
   "source": [
    "# Metricas da população - usando numpy\n",
    "print('Média:\\t  ', np.round(np.mean(pop),2))\n",
    "print('Variância:', np.round(np.var(pop),2))"
   ]
  },
  {
   "cell_type": "markdown",
   "id": "69551007",
   "metadata": {
    "id": "69551007"
   },
   "source": [
    "__C)__ Faça amostra aleatórias de diversos tamanhos (10, 100, 1.000 e 10.000 elementos) e calcule as mesmas métricas que o item anterior, para avaliar o conceito proposto no enunciado"
   ]
  },
  {
   "cell_type": "code",
   "execution_count": 4,
   "id": "166cf6c7",
   "metadata": {
    "id": "166cf6c7",
    "outputId": "f46151d0-729c-49c6-c3ee-3c8269432d71"
   },
   "outputs": [
    {
     "name": "stdout",
     "output_type": "stream",
     "text": [
      "Amostra com 10 elementos\n",
      "Média:      36.9\n",
      "Variância:  68.29\n",
      "=================================\n",
      "Amostra com 100 elementos\n",
      "Média:      35.03\n",
      "Variância:  77.25\n",
      "=================================\n",
      "Amostra com 1000 elementos\n",
      "Média:      35.13\n",
      "Variância:  83.43\n",
      "=================================\n",
      "Amostra com 10000 elementos\n",
      "Média:      35.01\n",
      "Variância:  80.81\n",
      "=================================\n"
     ]
    }
   ],
   "source": [
    "# Import da biblioteca random para os samples\n",
    "import random\n",
    "\n",
    "# Cria uma lista com os diversos tamanhos de amostras\n",
    "n_amostras = [10, 100, 1000, 10000]\n",
    "\n",
    "# Loop para fazer a amostra aleatória e calcular as métricas\n",
    "for n in n_amostras:\n",
    "    amostra = list(random.sample(pop, n))\n",
    "    print('Amostra com {} elementos'.format(n))\n",
    "    print('Média:     ', np.round(np.mean(amostra),2))\n",
    "    print('Variância: ', np.round(np.var(amostra),2))\n",
    "    print('=================================')"
   ]
  },
  {
   "cell_type": "markdown",
   "id": "b4e34140",
   "metadata": {
    "id": "b4e34140"
   },
   "source": [
    "**Obs.:** Podemos observar que a partir de 1000 elementos já temos valores bem próximos com a realidade da população de 1 milhão de elementos, apesar de representarem apenas 0,1% da população, corroborando com o conceito de amostragem tratado no enunciado."
   ]
  },
  {
   "cell_type": "markdown",
   "id": "3502aea3",
   "metadata": {
    "id": "3502aea3"
   },
   "source": [
    "### Questão 2"
   ]
  },
  {
   "cell_type": "markdown",
   "id": "97416ea6",
   "metadata": {
    "id": "97416ea6"
   },
   "source": [
    "Neste exercício vamos demonstrar a importância de uma amostragem estratificada quando temos grupos significantes dentro da população. Faça os seguintes itens:\n",
    "\n",
    "__A)__ Crie 3 listas de números aleatórios sendo elas:\n",
    "    - uma lista com números aleatórios entre 40 e 50 contendo 10.000 elementos;\n",
    "    - uma lista com números aleatórios entre 10 e 20 contendo 6.000 elementos;\n",
    "    - uma lista com números aleatórios entre 80 e 90 contendo 4.000 elementos.\n",
    "    \n",
    "__B)__ Calcule a média e a variância para cada uma das 3 listas;\n",
    "\n",
    "__C)__ Calcule a média e a variância para a população, onde a população seja as 3 listas juntas;\n",
    "\n",
    "__Dica.:__ Neste caso, temos que trabalhar com média e variância ponderada!\n",
    "\n",
    "__D)__ Una as 3 listas em uma só e retire uma amostra de 1% da lista resultante. Calcule a média e a variância para esta amostra;\n",
    "\n",
    "__E)__ Por fim, faça uma amostra estratificada da seguinte forma: faça uma amostra aleatória de 1% de cada uma das 3 listas e em seguida calcule a média e a variância para a amostra estratificada (será necessário utilizar a média e variância ponderada!).\n",
    "\n",
    "__F)__ Compare o resultado das métricas para a amostra e a amostra estratificada com o valor das métricas da população."
   ]
  },
  {
   "cell_type": "markdown",
   "id": "50d02fb4",
   "metadata": {
    "id": "50d02fb4"
   },
   "source": [
    "### Resolução:"
   ]
  },
  {
   "cell_type": "markdown",
   "id": "ada9c96f",
   "metadata": {
    "id": "ada9c96f"
   },
   "source": [
    "__A)__ Crie 3 listas de números aleatórios sendo elas:\n",
    "- uma lista com números aleatórios entre 40 e 50 contendo 10.000 elementos;\n",
    "- uma lista com números aleatórios entre 10 e 20 contendo 6.000 elementos;\n",
    "- uma lista com números aleatórios entre 80 e 90 contendo 4.000 elementos."
   ]
  },
  {
   "cell_type": "code",
   "execution_count": 5,
   "id": "e382fd95",
   "metadata": {
    "id": "e382fd95",
    "outputId": "236af398-32da-4fb4-feb5-5d49a073ae9b"
   },
   "outputs": [
    {
     "name": "stdout",
     "output_type": "stream",
     "text": [
      "Listas: \n",
      "Lista 1 - Tamanho: 10000, Intervalo: [40, 50], 5 Elementos: [43, 50, 50, 49, 44]\n",
      "Lista 2 - Tamanho:  6000, Intervalo: [10, 20], 5 Elementos: [14, 11, 12, 17, 11]\n",
      "Lista 3 - Tamanho:  4000, Intervalo: [80, 90], 5 Elementos: [87, 85, 84, 81, 81]\n"
     ]
    }
   ],
   "source": [
    "# Define uma semente aleatória\n",
    "np.random.seed(20)\n",
    "\n",
    "# tamanho das listas\n",
    "n1 = 10000\n",
    "n2 = 6000\n",
    "n3 = 4000\n",
    "\n",
    "# Criando as listas\n",
    "lista1 = list(np.random.randint(40, 51, size = n1))\n",
    "lista2 = list(np.random.randint(10, 21, size = n2))\n",
    "lista3 = list(np.random.randint(80, 91, size = n3))\n",
    "\n",
    "\n",
    "# Print de 5 elementos das listas\n",
    "print('Listas: ')\n",
    "print('Lista 1 - Tamanho: {}, Intervalo: [{}, {}], 5 Elementos: {}'.format(len(lista1), min(lista1), max(lista1), lista1[:5]))\n",
    "print('Lista 2 - Tamanho:  {}, Intervalo: [{}, {}], 5 Elementos: {}'.format(len(lista2), min(lista2), max(lista2), lista2[:5]))\n",
    "print('Lista 3 - Tamanho:  {}, Intervalo: [{}, {}], 5 Elementos: {}'.format(len(lista3), min(lista3), max(lista3), lista3[:5]))"
   ]
  },
  {
   "cell_type": "markdown",
   "id": "4432ce57",
   "metadata": {
    "id": "4432ce57"
   },
   "source": [
    "__B)__ Calcule a média e a variância para cada uma das 3 listas;\n"
   ]
  },
  {
   "cell_type": "code",
   "execution_count": 6,
   "id": "2c811e6a",
   "metadata": {
    "id": "2c811e6a",
    "outputId": "2e9bbd1e-eced-4a72-b4a9-a0a11fedcb40"
   },
   "outputs": [
    {
     "name": "stdout",
     "output_type": "stream",
     "text": [
      "Métricas - Lista 1: \n",
      "Amostra com 10000 elementos\n",
      "Média:      44.96\n",
      "Variância:  10.05\n",
      "=================================\n",
      "Métricas - Lista 2: \n",
      "Amostra com 6000 elementos\n",
      "Média:      15.0\n",
      "Variância:  9.9\n",
      "=================================\n",
      "Métricas - Lista 3: \n",
      "Amostra com 4000 elementos\n",
      "Média:      84.9\n",
      "Variância:  10.07\n",
      "=================================\n"
     ]
    }
   ],
   "source": [
    "# Calculo métricas lista 1\n",
    "mean1 = np.round(np.mean(lista1),2)\n",
    "var1  = np.round(np.var(lista1),2)\n",
    "\n",
    "# Calculo métricas lista 2\n",
    "mean2 = np.round(np.mean(lista2),2)\n",
    "var2  = np.round(np.var(lista2),2)\n",
    "\n",
    "# Calculo métricas lista 3\n",
    "mean3 = np.round(np.mean(lista3),2)\n",
    "var3  = np.round(np.var(lista3),2)\n",
    "\n",
    "# Print dos resultados\n",
    "print('Métricas - Lista 1: ')\n",
    "print('Amostra com {} elementos'.format(n1))\n",
    "print('Média:     ', mean1)\n",
    "print('Variância: ', var1)\n",
    "print('=================================')\n",
    "print('Métricas - Lista 2: ')\n",
    "print('Amostra com {} elementos'.format(n2))\n",
    "print('Média:     ', mean2)\n",
    "print('Variância: ', var2)\n",
    "print('=================================')\n",
    "print('Métricas - Lista 3: ')\n",
    "print('Amostra com {} elementos'.format(n3))\n",
    "print('Média:     ', mean3)\n",
    "print('Variância: ', var3)\n",
    "print('=================================')"
   ]
  },
  {
   "cell_type": "markdown",
   "id": "5803e4bf",
   "metadata": {
    "id": "5803e4bf"
   },
   "source": [
    "__C)__ Calcule a média e a variância para a população, onde a população seja as 3 listas juntas;\n",
    "\n",
    "__Dica.:__ Neste caso, temos que trabalhar com média e variância ponderada!\n"
   ]
  },
  {
   "cell_type": "markdown",
   "id": "2d02be79",
   "metadata": {
    "id": "2d02be79"
   },
   "source": [
    "Para calcular a média ponderada devemos seguir a fórmula abaixo:\n",
    "    \n",
    "$$\\overline{x}_{p} = \\sum_{i=1}^{k} p_i \\overline{x}_i$$\n",
    "\n",
    "onde $k$ e o número de grupos dentro da população e $p_i$ os pesos de cada grupo definido por $p_i = n_i/N$\n",
    "\n",
    "Já para o variância ponderada, deve-se calcular da seguinte forma:\n",
    "\n",
    "$$S_{p}^{2} = \\sum_{i=1}^{k} S_{i}^{2}$$"
   ]
  },
  {
   "cell_type": "code",
   "execution_count": 7,
   "id": "6b41bdec",
   "metadata": {
    "id": "6b41bdec",
    "outputId": "662aeaee-bfec-44e4-8742-b2700962263f"
   },
   "outputs": [
    {
     "name": "stdout",
     "output_type": "stream",
     "text": [
      "Métricas da População: \n",
      "Amostra com 20000 elementos\n",
      "Média Ponderada:      43.96\n",
      "Variância Ponderada:  30.020000000000003\n"
     ]
    }
   ],
   "source": [
    "# Total da população\n",
    "N = n1 + n2 + n3\n",
    "\n",
    "# peso 1\n",
    "p1 = n1/N\n",
    "\n",
    "# peso 2\n",
    "p2 = n2/N\n",
    "\n",
    "# peso 3\n",
    "p3 = n3/N\n",
    "\n",
    "# Média Ponderada das listas\n",
    "mean_N = p1*mean1 + p2*mean2 + p3*mean3\n",
    "\n",
    "# Variância Ponderada das listas\n",
    "var_N = var1 + var2 + var3\n",
    "\n",
    "# Print das métricas da população\n",
    "print('Métricas da População: ')\n",
    "print('Amostra com {} elementos'.format(N))\n",
    "print('Média Ponderada:     ', mean_N)\n",
    "print('Variância Ponderada: ', var_N)"
   ]
  },
  {
   "cell_type": "markdown",
   "id": "a31bb879",
   "metadata": {
    "id": "a31bb879"
   },
   "source": [
    "__D)__ Una as 3 listas em uma só e retire uma amostra de 1% da lista resultante. Calcule a média e a variância para esta amostra;\n"
   ]
  },
  {
   "cell_type": "code",
   "execution_count": 8,
   "id": "215b2275",
   "metadata": {
    "id": "215b2275",
    "outputId": "b4296c46-b111-41dc-d89e-0ccd5e63bce3"
   },
   "outputs": [
    {
     "data": {
      "text/plain": [
       "20000"
      ]
     },
     "execution_count": 8,
     "metadata": {},
     "output_type": "execute_result"
    }
   ],
   "source": [
    "# Cria a população\n",
    "pop = lista1 + lista2 + lista3\n",
    "\n",
    "# Tamanho da população\n",
    "len(pop)"
   ]
  },
  {
   "cell_type": "code",
   "execution_count": 9,
   "id": "b1e4de97",
   "metadata": {
    "id": "b1e4de97",
    "outputId": "743f28e2-d2c3-4778-a67f-62b8a75c787e"
   },
   "outputs": [
    {
     "name": "stdout",
     "output_type": "stream",
     "text": [
      "Amostra com 200 elementos\n",
      "Média:      43.2\n",
      "Variância:  642.51\n",
      "=================================\n"
     ]
    }
   ],
   "source": [
    "# Define a amostra de uma população\n",
    "amostra = list(random.sample(pop, 200))\n",
    "\n",
    "# Print das metricas da amostra\n",
    "print('Amostra com {} elementos'.format(200))\n",
    "print('Média:     ', np.round(np.mean(amostra),2))\n",
    "print('Variância: ', np.round(np.var(amostra),2))\n",
    "print('=================================')"
   ]
  },
  {
   "cell_type": "markdown",
   "id": "4d7f9391",
   "metadata": {
    "id": "4d7f9391"
   },
   "source": [
    "__E)__ Por fim, faça uma amostra estratificada da seguinte forma: faça uma amostra aleatória de 1% de cada uma das 3 listas e em seguida calcule a média e a variância para a amostra estratificada (será necessário utilizar a média e variância ponderada!).\n"
   ]
  },
  {
   "cell_type": "code",
   "execution_count": 10,
   "id": "6cf8d23e",
   "metadata": {
    "id": "6cf8d23e",
    "outputId": "9a758fba-1472-4eab-da58-23f34f1cc59f"
   },
   "outputs": [
    {
     "name": "stdout",
     "output_type": "stream",
     "text": [
      "Amostra 1 com 100 elementos\n",
      "Média:      44.74\n",
      "Variância:  10.13\n",
      "=================================\n",
      "Amostra 2 com 60 elementos\n",
      "Média:      15.18\n",
      "Variância:  9.38\n",
      "=================================\n",
      "Amostra 3 com 40 elementos\n",
      "Média:      84.55\n",
      "Variância:  10.55\n",
      "=================================\n"
     ]
    }
   ],
   "source": [
    "# Amostra 1\n",
    "# Define a amostra de uma população\n",
    "import random\n",
    "amostra1 = list(random.sample(lista1, 100))\n",
    "\n",
    "# Metricas amostra 1\n",
    "mean_amostra1 = np.round(np.mean(amostra1),2)\n",
    "var_amostra1 = np.round(np.var(amostra1),2)\n",
    "\n",
    "# Print das metricas da amostra\n",
    "print('Amostra 1 com {} elementos'.format(100))\n",
    "print('Média:     ', mean_amostra1)\n",
    "print('Variância: ', var_amostra1)\n",
    "print('=================================')\n",
    "\n",
    "# Amostra 2\n",
    "# Define a amostra de uma população\n",
    "amostra2 = list(random.sample(lista2, 60))\n",
    "\n",
    "# Metricas amostra 1\n",
    "mean_amostra2 = np.round(np.mean(amostra2),2)\n",
    "var_amostra2 = np.round(np.var(amostra2),2)\n",
    "\n",
    "# Print das metricas da amostra\n",
    "print('Amostra 2 com {} elementos'.format(60))\n",
    "print('Média:     ', mean_amostra2)\n",
    "print('Variância: ', var_amostra2)\n",
    "print('=================================')\n",
    "\n",
    "# Amostra3\n",
    "# Define a amostra de uma população\n",
    "amostra3 = list(random.sample(lista3, 40))\n",
    "\n",
    "# Metricas amostra 1\n",
    "mean_amostra3 = np.round(np.mean(amostra3),2)\n",
    "var_amostra3 = np.round(np.var(amostra3),2)\n",
    "\n",
    "# Print das metricas da amostra\n",
    "print('Amostra 3 com {} elementos'.format(40))\n",
    "print('Média:     ', mean_amostra3)\n",
    "print('Variância: ', var_amostra3)\n",
    "print('=================================')"
   ]
  },
  {
   "cell_type": "code",
   "execution_count": 11,
   "id": "9a65bc56",
   "metadata": {
    "id": "9a65bc56",
    "outputId": "bab85f6d-f802-4d4d-84ac-406dcd6223e8"
   },
   "outputs": [
    {
     "name": "stdout",
     "output_type": "stream",
     "text": [
      "Métricas da Amostra total: \n",
      "Amostra com 200 elementos\n",
      "Média Ponderada:      43.834\n",
      "Variância Ponderada:  30.060000000000002\n"
     ]
    }
   ],
   "source": [
    "# Média Ponderada das listas\n",
    "mean_amostra_N = p1*mean_amostra1 + p2*mean_amostra2 + p3*mean_amostra3\n",
    "\n",
    "# Variância Ponderada das listas\n",
    "var_amostra_N = var_amostra1 + var_amostra2 + var_amostra3\n",
    "\n",
    "# Print das métricas da população\n",
    "print('Métricas da Amostra total: ')\n",
    "print('Amostra com {} elementos'.format(200))\n",
    "print('Média Ponderada:     ', mean_amostra_N)\n",
    "print('Variância Ponderada: ', var_amostra_N)"
   ]
  },
  {
   "cell_type": "markdown",
   "id": "e2996c3d",
   "metadata": {
    "id": "e2996c3d"
   },
   "source": [
    "__F)__ Compare o resultado das métricas para a amostra e a amostra estratificada com o valor das métricas da população."
   ]
  },
  {
   "cell_type": "markdown",
   "id": "ded0377d",
   "metadata": {
    "id": "ded0377d"
   },
   "source": [
    "**Resp.:** Os resultados para amostras estratificada ficou bem mais próximo do que para uma maostragem simples, principalmente levando em consideração a variância. O que demonstra a importância de levarmos em consideração uma amostra estratificada quando sabemos que tem grupos bem definidos e distintos dentro da população."
   ]
  },
  {
   "cell_type": "markdown",
   "id": "653413fb",
   "metadata": {
    "id": "653413fb"
   },
   "source": [
    "## "
   ]
  },
  {
   "cell_type": "markdown",
   "id": "2e3a7b3a",
   "metadata": {
    "id": "2e3a7b3a"
   },
   "source": [
    "### Questão 3"
   ]
  },
  {
   "cell_type": "markdown",
   "id": "8d8b9db9",
   "metadata": {
    "id": "8d8b9db9"
   },
   "source": [
    " Uma máquina de sorvete está regulada de modo a servir uma média de 120g por casquinha. Se a quantidade servida por casquinha seguir uma distribuição normal com desvio padrão de 18g, determine a porcentagem de casquinhas que conterão mais de 150g de sorvete."
   ]
  },
  {
   "cell_type": "markdown",
   "id": "8390409b",
   "metadata": {
    "id": "8390409b"
   },
   "source": [
    "### Resolução:"
   ]
  },
  {
   "cell_type": "markdown",
   "id": "94c0fb4d",
   "metadata": {
    "id": "94c0fb4d"
   },
   "source": [
    "Sabendo que as casquinhas seguem uma distribuição normal, temos que:\n",
    "\n",
    "$$\n",
    "P(X \\geq 150) = P\\left( \\frac{X-\\mu}{\\sigma}\\geq \\frac{150-\\mu}{\\sigma}\\right) = P\\left( Z \\geq \\frac{150-\\mu}{\\sigma}\\right) = 1 - P\\left( Z < \\frac{150-\\mu}{\\sigma}\\right)\n",
    "$$"
   ]
  },
  {
   "cell_type": "code",
   "execution_count": 12,
   "id": "11bda46f",
   "metadata": {
    "id": "11bda46f",
    "outputId": "4403e2fa-bb0d-42ac-8c41-6fc414cd65e8"
   },
   "outputs": [
    {
     "name": "stdout",
     "output_type": "stream",
     "text": [
      "A probabilidade de ter mais que 150g é igual a:  4.78 %\n"
     ]
    }
   ],
   "source": [
    "import scipy.stats as st\n",
    "\n",
    "# Definindo as metricas\n",
    "media = 120\n",
    "dp = 18\n",
    "\n",
    "# Calculand o valor Z para o nosso caso\n",
    "z = (150-media)/dp\n",
    "prob = np.round((1-st.norm.cdf(z))*100, 2)\n",
    "\n",
    "print('A probabilidade de ter mais que 150g é igual a: ', prob, '%')"
   ]
  },
  {
   "cell_type": "markdown",
   "id": "153eaad0",
   "metadata": {
    "id": "153eaad0"
   },
   "source": [
    "## "
   ]
  },
  {
   "cell_type": "markdown",
   "id": "18951732",
   "metadata": {
    "id": "18951732"
   },
   "source": [
    "### Questão 4"
   ]
  },
  {
   "cell_type": "markdown",
   "id": "91d33a4a",
   "metadata": {
    "id": "91d33a4a"
   },
   "source": [
    "O peso médio de 500 estudantes do sexo masculino de uma determinada universidade é 71 Kg e o desvio padrão é 5,3 Kg. Admitindo que os pesos são normalmente distribuídos, determine a oercentagem de estudantes que pesam entre 65 e 72,5 kg"
   ]
  },
  {
   "cell_type": "markdown",
   "id": "0cd021af",
   "metadata": {
    "id": "0cd021af"
   },
   "source": [
    "### Resolução:"
   ]
  },
  {
   "cell_type": "markdown",
   "id": "4b4fca13",
   "metadata": {
    "id": "4b4fca13"
   },
   "source": [
    "Sabendo que os pesos dos estudantes seguem uma distribuição normal, temos que:\n",
    "\n",
    "$$\n",
    "P(65 \\leq X \\leq 72,5) = P\\left(\\frac{65-\\mu}{\\sigma} \\leq \\frac{X-\\mu}{\\sigma} \\leq \\frac{72,5-\\mu}{\\sigma}\\right)=P\\left(\\frac{65-\\mu}{\\sigma} \\leq Z \\leq \\frac{72,5-\\mu}{\\sigma}\\right) = \n",
    "$$\n",
    "$$\n",
    "= P\\left(Z \\leq \\frac{72,5-\\mu}{\\sigma}\\right)-P\\left( Z \\leq \\frac{65-\\mu}{\\sigma}\\right)\n",
    "$$"
   ]
  },
  {
   "cell_type": "code",
   "execution_count": 13,
   "id": "7a341920",
   "metadata": {
    "id": "7a341920",
    "outputId": "55e32ed1-a2d0-409e-c864-8825f6b2ff1b"
   },
   "outputs": [
    {
     "name": "stdout",
     "output_type": "stream",
     "text": [
      "Probabilidade: 48.26 %\n"
     ]
    }
   ],
   "source": [
    "# Definindo as métricas\n",
    "media = 71\n",
    "dp = 5.3\n",
    "\n",
    "#Calculando Z1 e Z2\n",
    "z1 = (65-media)/dp\n",
    "z2 = (72.5-media)/dp\n",
    "\n",
    "prob = np.round((st.norm.cdf(z2)-st.norm.cdf(z1))*100, 2)\n",
    "\n",
    "# Print do resultado\n",
    "print('Probabilidade:', prob, '%')"
   ]
  },
  {
   "cell_type": "markdown",
   "id": "35b7ec4c",
   "metadata": {
    "id": "35b7ec4c"
   },
   "source": [
    "## "
   ]
  },
  {
   "cell_type": "markdown",
   "id": "49a54c36",
   "metadata": {
    "id": "49a54c36"
   },
   "source": [
    "### Questão 5"
   ]
  },
  {
   "cell_type": "markdown",
   "id": "ad7af421",
   "metadata": {
    "id": "ad7af421"
   },
   "source": [
    "Uma fábrica anuncia que o índice de cafeína em um refrigerante de uma dada marca é igual a 20 mg por lata. Um laboratório realiza 20 análises do índice obtendo: 22, 19, 21, 22, 20, 18, 27, 20, 21, 19, 20, 22, 17, 20, 21,18, 25, 16, 20, 21. Sabe-se que o índice de cafeína do refrigerante dessa marca se distribui normalmente com variância 4 mg$^2$. Pode-se aceitar a afirmação do fabricante, ao nível de 5%?"
   ]
  },
  {
   "cell_type": "markdown",
   "id": "19fdfd06",
   "metadata": {
    "id": "19fdfd06"
   },
   "source": [
    "### Resolução:"
   ]
  },
  {
   "cell_type": "markdown",
   "id": "eaea1cbf",
   "metadata": {
    "id": "eaea1cbf"
   },
   "source": [
    "Teremos um teste de hipótese para uma distribuição que seguem o comportamento de uma distribuição normal, onde as hipóteses a serem testadas são:\n",
    "\n",
    "$H_0: \\mu = 20$<br>\n",
    "$H_1: \\mu > 20$"
   ]
  },
  {
   "cell_type": "code",
   "execution_count": 14,
   "id": "d912857c",
   "metadata": {
    "id": "d912857c"
   },
   "outputs": [],
   "source": [
    "# Biblioteca de gráficos\n",
    "import matplotlib.pyplot as plt"
   ]
  },
  {
   "cell_type": "code",
   "execution_count": 15,
   "id": "39df4efb",
   "metadata": {
    "id": "39df4efb",
    "outputId": "2e300ccd-5ab9-4275-e80e-868a9f19a953"
   },
   "outputs": [
    {
     "data": {
      "image/png": "[encoded data removed]",
      "text/plain": [
       "<Figure size 576x288 with 1 Axes>"
      ]
     },
     "metadata": {
      "needs_background": "light"
     },
     "output_type": "display_data"
    }
   ],
   "source": [
    "# Define uma semente aleatória\n",
    "np.random.seed(0)\n",
    "\n",
    "# Define os parâmetros\n",
    "mu = 20    # hipotese a ser testada\n",
    "sigma = 2  # desvio padrao populacional\n",
    "n = 20     # tamanho da amostra\n",
    "Ns = 1000  # numero de simulacoes\n",
    "Xm=[]      # distribuicao da media amostral\n",
    "\n",
    "# loop para gerar diversas amostras para o nosso teste\n",
    "for s in range(1, Ns):\n",
    "    x = np.random.normal(mu, sigma, n) # sorteia uma amostra de tamanho n\n",
    "    Xm.append(np.mean(x))\n",
    "\n",
    "# Define o tamanho do gráfico    \n",
    "plt.figure(figsize=(8,4))\n",
    "\n",
    "# Plot do histograma\n",
    "a = plt.hist(x=Xm, bins=20, color='#0504aa', alpha=0.7, rwidth=0.85, label = str(Ns), density=True)\n",
    "\n",
    "# Plot da linha média\n",
    "plt.axvline(x=mu, color='r', linestyle='--', label = 'Media')\n",
    "\n",
    "# cria um titulo\n",
    "plt.title('Simulação - Distribuição do Sorvete')\n",
    "\n",
    "# Nome do eixo X\n",
    "plt.xlabel(r'$\\bar{X}$', fontsize=20)\n",
    "\n",
    "# nome do eixo Y\n",
    "plt.ylabel(r'$P(\\bar{X})$', fontsize=20)\n",
    "\n",
    "# Mostra o gráfico\n",
    "plt.show()  "
   ]
  },
  {
   "cell_type": "markdown",
   "id": "ed883a24",
   "metadata": {
    "id": "ed883a24"
   },
   "source": [
    "Depois de gerar as amostras, vamos verificar a fração de observações que permitem que verifiquemos $H_0$."
   ]
  },
  {
   "cell_type": "code",
   "execution_count": 16,
   "id": "9a4f8f61",
   "metadata": {
    "id": "9a4f8f61",
    "outputId": "2e1ee0c8-12bf-42b0-d541-92391ae81963"
   },
   "outputs": [
    {
     "name": "stdout",
     "output_type": "stream",
     "text": [
      "Xc= 20.730112413622226   Xobs =  20.45\n",
      "Aceitamos H0\n"
     ]
    }
   ],
   "source": [
    "# Amostra\n",
    "X = [22, 19, 21, 22, 20, 18, 27, 20, 21, 19, 20, 22, 17, 20, 21,18, 25, 16, 20, 21]\n",
    "\n",
    "# Média Amostra\n",
    "xobs = np.mean(X)\n",
    "\n",
    "# Intervalo de confiança\n",
    "alpha = 95\n",
    "\n",
    "# Valor Crítico\n",
    "xc = np.percentile(Xm, alpha)\n",
    "print('Xc=', xc, '  Xobs = ', xobs)\n",
    "\n",
    "# Verifica se acieta ou rejeita H0\n",
    "if(xobs < xc):\n",
    "    print(\"Aceitamos H0\")\n",
    "else:\n",
    "    print(\"Rejeitamos H0\")"
   ]
  },
  {
   "cell_type": "markdown",
   "id": "8a27e455",
   "metadata": {
    "id": "8a27e455"
   },
   "source": [
    "Podemos ainda ver esse resultado na figura."
   ]
  },
  {
   "cell_type": "code",
   "execution_count": 17,
   "id": "82ff4ef1",
   "metadata": {
    "id": "82ff4ef1",
    "outputId": "199cc23d-e8f4-413d-ddc3-e587455b4eae"
   },
   "outputs": [
    {
     "data": {
      "image/png": "[encoded data removed]",
      "text/plain": [
       "<Figure size 576x288 with 1 Axes>"
      ]
     },
     "metadata": {
      "needs_background": "light"
     },
     "output_type": "display_data"
    }
   ],
   "source": [
    "# Define o tamanho do gráfico    \n",
    "plt.figure(figsize=(8,4))\n",
    "\n",
    "# Plot do histograma\n",
    "a = plt.hist(x=Xm, bins=20, color='#0504aa', alpha=0.7, rwidth=0.85, label = str(Ns), density=True)\n",
    "\n",
    "# Plot da linha critica e observada\n",
    "plt.axvline(x=xc, color='red', linestyle='--', label = 'xc1')\n",
    "plt.axvline(x=xobs, color='green', linestyle='--', label = 'xobs')\n",
    "\n",
    "# cria um titulo\n",
    "plt.title('Simulação - Distribuição do Sorvete')\n",
    "\n",
    "# Nome do eixo X\n",
    "plt.xlabel(r'$\\bar{X}$', fontsize=20)\n",
    "\n",
    "# nome do eixo Y\n",
    "plt.ylabel(r'$P(\\bar{X})$', fontsize=20)\n",
    "\n",
    "#Cria a legenda\n",
    "plt.legend()\n",
    "\n",
    "# Mostra o gráfico\n",
    "plt.show()  "
   ]
  }
 ],
 "metadata": {
  "colab": {
   "name": "L3 - Estatística II - gabarito.ipynb",
   "provenance": []
  },
  "kernelspec": {
   "display_name": "Python 3 (ipykernel)",
   "language": "python",
   "name": "python3"
  },
  "language_info": {
   "codemirror_mode": {
    "name": "ipython",
    "version": 3
   },
   "file_extension": ".py",
   "mimetype": "text/x-python",
   "name": "python",
   "nbconvert_exporter": "python",
   "pygments_lexer": "ipython3",
   "version": "3.9.5"
  },
  "varInspector": {
   "cols": {
    "lenName": 16,
    "lenType": 16,
    "lenVar": 40
   },
   "kernels_config": {
    "python": {
     "delete_cmd_postfix": "",
     "delete_cmd_prefix": "del ",
     "library": "var_list.py",
     "varRefreshCmd": "print(var_dic_list())"
    },
    "r": {
     "delete_cmd_postfix": ") ",
     "delete_cmd_prefix": "rm(",
     "library": "var_list.r",
     "varRefreshCmd": "cat(var_dic_list()) "
    }
   },
   "types_to_exclude": [
    "module",
    "function",
    "builtin_function_or_method",
    "instance",
    "_Feature"
   ],
   "window_display": false
  }
 },
 "nbformat": 4,
 "nbformat_minor": 5
}
