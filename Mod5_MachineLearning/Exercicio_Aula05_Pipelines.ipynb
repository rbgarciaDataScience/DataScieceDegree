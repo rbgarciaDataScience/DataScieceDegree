{
 "cells": [
  {
   "cell_type": "markdown",
   "id": "3027850e",
   "metadata": {},
   "source": [
    "Módulo: Machine Learning<br>\n",
    "Data: 12/2021<br>\n",
    "Professor: Helder Vieira"
   ]
  },
  {
   "cell_type": "markdown",
   "id": "7a3faeb3",
   "metadata": {},
   "source": [
    "# Aula 05 - Pipelines - Exercício"
   ]
  },
  {
   "cell_type": "markdown",
   "id": "0ee45fb4",
   "metadata": {},
   "source": [
    "## Exercício 1"
   ]
  },
  {
   "cell_type": "markdown",
   "id": "8298bad1",
   "metadata": {},
   "source": [
    "Quando estamos trabalhando com modelos, é muito comum que façamos o treinamento em um ambiente, mas precisamos executar o modelo em outro! O objetivo desse exercício é simular esse ambiente.\n",
    "\n",
    "Suponha que uma área de uma concessionária de veículos deseja captar potenciais clientes. Para isso, os analistas da área farão contato com cada cliente potencial. A área considera que clientes potenciais são aqueles que ganham mais de $50K por ano.  \n",
    "\n",
    "Por ser inviável o contato com todos os clientes, a empresa contratou dados com um fornecedor e deseja utilizá-los para priorizar o contato, focando em clientes com alta probabilidade de atenderem o requisito desejado.  \n",
    "\n",
    "Refaça o exercício da aula 04 utilizando a Pipeline do sklearn. Salve o modelo treinado na pasta \"Modelo Renda\", onde se encontra o notebook para se fazer a inferência.  "
   ]
  },
  {
   "cell_type": "markdown",
   "id": "15553c39",
   "metadata": {},
   "source": [
    "### Carregando e visualizando os dados"
   ]
  },
  {
   "cell_type": "code",
   "execution_count": 1,
   "id": "83424835",
   "metadata": {},
   "outputs": [],
   "source": [
    "import pandas as pd\n",
    "import numpy as np"
   ]
  },
  {
   "cell_type": "code",
   "execution_count": 2,
   "id": "2ef63a62",
   "metadata": {},
   "outputs": [
    {
     "name": "stdout",
     "output_type": "stream",
     "text": [
      "(39074, 15)\n"
     ]
    },
    {
     "data": {
      "text/html": [
       "<div>\n",
       "<style scoped>\n",
       "    .dataframe tbody tr th:only-of-type {\n",
       "        vertical-align: middle;\n",
       "    }\n",
       "\n",
       "    .dataframe tbody tr th {\n",
       "        vertical-align: top;\n",
       "    }\n",
       "\n",
       "    .dataframe thead th {\n",
       "        text-align: right;\n",
       "    }\n",
       "</style>\n",
       "<table border=\"1\" class=\"dataframe\">\n",
       "  <thead>\n",
       "    <tr style=\"text-align: right;\">\n",
       "      <th></th>\n",
       "      <th>age</th>\n",
       "      <th>workclass</th>\n",
       "      <th>fnlwgt</th>\n",
       "      <th>education</th>\n",
       "      <th>educational-num</th>\n",
       "      <th>marital-status</th>\n",
       "      <th>occupation</th>\n",
       "      <th>relationship</th>\n",
       "      <th>race</th>\n",
       "      <th>gender</th>\n",
       "      <th>capital-gain</th>\n",
       "      <th>capital-loss</th>\n",
       "      <th>hours-per-week</th>\n",
       "      <th>native-country</th>\n",
       "      <th>income</th>\n",
       "    </tr>\n",
       "  </thead>\n",
       "  <tbody>\n",
       "    <tr>\n",
       "      <th>0</th>\n",
       "      <td>17</td>\n",
       "      <td>Private</td>\n",
       "      <td>144752</td>\n",
       "      <td>10th</td>\n",
       "      <td>6</td>\n",
       "      <td>Never-married</td>\n",
       "      <td>Handlers-cleaners</td>\n",
       "      <td>Own-child</td>\n",
       "      <td>Amer-Indian-Eskimo</td>\n",
       "      <td>Male</td>\n",
       "      <td>0</td>\n",
       "      <td>0</td>\n",
       "      <td>20</td>\n",
       "      <td>United-States</td>\n",
       "      <td>&lt;=50K</td>\n",
       "    </tr>\n",
       "    <tr>\n",
       "      <th>1</th>\n",
       "      <td>21</td>\n",
       "      <td>Local-gov</td>\n",
       "      <td>402230</td>\n",
       "      <td>Some-college</td>\n",
       "      <td>10</td>\n",
       "      <td>Never-married</td>\n",
       "      <td>Adm-clerical</td>\n",
       "      <td>Unmarried</td>\n",
       "      <td>White</td>\n",
       "      <td>Male</td>\n",
       "      <td>0</td>\n",
       "      <td>0</td>\n",
       "      <td>36</td>\n",
       "      <td>United-States</td>\n",
       "      <td>&lt;=50K</td>\n",
       "    </tr>\n",
       "  </tbody>\n",
       "</table>\n",
       "</div>"
      ],
      "text/plain": [
       "   age  workclass  fnlwgt     education  educational-num marital-status  \\\n",
       "0   17    Private  144752          10th                6  Never-married   \n",
       "1   21  Local-gov  402230  Some-college               10  Never-married   \n",
       "\n",
       "          occupation relationship                race gender  capital-gain  \\\n",
       "0  Handlers-cleaners    Own-child  Amer-Indian-Eskimo   Male             0   \n",
       "1       Adm-clerical    Unmarried               White   Male             0   \n",
       "\n",
       "   capital-loss  hours-per-week native-country income  \n",
       "0             0              20  United-States  <=50K  \n",
       "1             0              36  United-States  <=50K  "
      ]
     },
     "metadata": {},
     "output_type": "display_data"
    }
   ],
   "source": [
    "adult_train = pd.read_csv('adult_train.csv')\n",
    "\n",
    "print(adult_train.shape)\n",
    "display(adult_train.head(2))"
   ]
  },
  {
   "cell_type": "code",
   "execution_count": 3,
   "id": "463be409",
   "metadata": {},
   "outputs": [],
   "source": [
    "adult_train['income'] = adult_train['income'].map({'<=50K': 0, '>50K': 1})"
   ]
  },
  {
   "cell_type": "code",
   "execution_count": 4,
   "id": "d1504f22",
   "metadata": {},
   "outputs": [],
   "source": [
    "categ_features = ['workclass', 'marital-status', 'occupation', 'relationship', 'race', 'gender', 'native-country']\n",
    "num_features = ['age', 'capital-gain', 'capital-loss', 'hours-per-week']\n",
    "special_features = ['educational-num']"
   ]
  },
  {
   "cell_type": "code",
   "execution_count": 5,
   "id": "eee1c971",
   "metadata": {},
   "outputs": [
    {
     "name": "stdout",
     "output_type": "stream",
     "text": [
      "(39074, 12) (39074,)\n"
     ]
    }
   ],
   "source": [
    "X = adult_train[categ_features + num_features + special_features]\n",
    "y = adult_train['income']\n",
    "\n",
    "print(X.shape, y.shape)"
   ]
  },
  {
   "cell_type": "code",
   "execution_count": 6,
   "id": "d7bc6602",
   "metadata": {},
   "outputs": [
    {
     "name": "stdout",
     "output_type": "stream",
     "text": [
      "(35166, 12) (35166,)\n",
      "(3908, 12) (3908,)\n"
     ]
    }
   ],
   "source": [
    "from sklearn.model_selection import train_test_split\n",
    "\n",
    "X_train, X_valid, y_train, y_valid = train_test_split(X, \n",
    "                                                    y, \n",
    "                                                    test_size=0.1, \n",
    "                                                    random_state=12)\n",
    "\n",
    "print(X_train.shape, y_train.shape)\n",
    "print(X_valid.shape, y_valid.shape)"
   ]
  },
  {
   "cell_type": "markdown",
   "id": "48cba5b9",
   "metadata": {},
   "source": [
    "#### Construção de pipeline"
   ]
  },
  {
   "cell_type": "code",
   "execution_count": 8,
   "id": "6375a39d",
   "metadata": {},
   "outputs": [],
   "source": [
    "from sklearn.pipeline import Pipeline\n",
    "from sklearn.compose import ColumnTransformer\n",
    "from sklearn.preprocessing import OrdinalEncoder, FunctionTransformer\n",
    "from lightgbm import LGBMClassifier\n",
    "pd.options.mode.chained_assignment = None"
   ]
  },
  {
   "cell_type": "code",
   "execution_count": 9,
   "id": "05c73589",
   "metadata": {},
   "outputs": [],
   "source": [
    "# Função para processar os dados da variável educação\n",
    "def transform_education(df):\n",
    "    \n",
    "    df = df.copy()\n",
    "    \n",
    "    df['educational-num'] = df['educational-num'].apply(lambda x: 1 if x >= 10 else 0)\n",
    "    \n",
    "    return df"
   ]
  },
  {
   "cell_type": "code",
   "execution_count": 10,
   "id": "de48b480",
   "metadata": {},
   "outputs": [],
   "source": [
    "# Configurando o categorizer\n",
    "categorizer = ColumnTransformer(transformers = [\n",
    "    # Processa as features categóricas usando OrdinalEncoder; -1 em caso de NaN\n",
    "    ('transf_categ', OrdinalEncoder(handle_unknown='use_encoded_value', unknown_value=-1), categ_features),\n",
    "    # Processa as features numéricas com 'passthrough' em casos de NaN\n",
    "    ('numeric', 'passthrough', num_features),\n",
    "    # Processa a variável 'educational-num' chamando a função criada anteriormente\n",
    "    ('education', FunctionTransformer(transform_education), ['educational-num'])   \n",
    "])\n"
   ]
  },
  {
   "cell_type": "code",
   "execution_count": 11,
   "id": "e8647148",
   "metadata": {},
   "outputs": [],
   "source": [
    "# Construção da pipeline: executa categorizer e treino em sequência\n",
    "pipe = Pipeline(steps = [\n",
    "    ('categ', categorizer),\n",
    "    ('modelo', LGBMClassifier(is_unbalance=True, learning_rate=0.1, max_depth=7, n_estimators=150, importance_type='gain')),\n",
    "])"
   ]
  },
  {
   "cell_type": "code",
   "execution_count": 12,
   "id": "14be4e6a",
   "metadata": {},
   "outputs": [
    {
     "data": {
      "text/plain": [
       "Pipeline(steps=[('categ',\n",
       "                 ColumnTransformer(transformers=[('transf_categ',\n",
       "                                                  OrdinalEncoder(handle_unknown='use_encoded_value',\n",
       "                                                                 unknown_value=-1),\n",
       "                                                  ['workclass',\n",
       "                                                   'marital-status',\n",
       "                                                   'occupation', 'relationship',\n",
       "                                                   'race', 'gender',\n",
       "                                                   'native-country']),\n",
       "                                                 ('numeric', 'passthrough',\n",
       "                                                  ['age', 'capital-gain',\n",
       "                                                   'capital-loss',\n",
       "                                                   'hours-per-week']),\n",
       "                                                 ('education',\n",
       "                                                  FunctionTransformer(func=<function transform_education at 0x00000182077015E0>),\n",
       "                                                  ['educational-num'])])),\n",
       "                ('modelo',\n",
       "                 LGBMClassifier(importance_type='gain', is_unbalance=True,\n",
       "                                max_depth=7, n_estimators=150))])"
      ]
     },
     "execution_count": 12,
     "metadata": {},
     "output_type": "execute_result"
    }
   ],
   "source": [
    "# Executando pipeline para treino do modelo\n",
    "pipe.fit(X_train, y_train)"
   ]
  },
  {
   "cell_type": "code",
   "execution_count": 13,
   "id": "3d551dad",
   "metadata": {},
   "outputs": [
    {
     "name": "stdout",
     "output_type": "stream",
     "text": [
      "(35166,) (3908,)\n"
     ]
    }
   ],
   "source": [
    "# Executando pipeline para obter os preditos\n",
    "y_train_pred = pipe.predict(X_train)\n",
    "\n",
    "y_valid_pred = pipe.predict(X_valid)\n",
    "\n",
    "print(y_train_pred.shape, y_valid_pred.shape)"
   ]
  },
  {
   "cell_type": "code",
   "execution_count": 14,
   "id": "c0d3620d",
   "metadata": {},
   "outputs": [
    {
     "name": "stdout",
     "output_type": "stream",
     "text": [
      "Treino:\n",
      "Acc: 0.84, Precision: 0.62, Recall: 0.90\n",
      "Validação:\n",
      "Acc: 0.82, Precision: 0.57, Recall: 0.86\n"
     ]
    }
   ],
   "source": [
    "# Métricas do modelo treinado\n",
    "from sklearn.metrics import accuracy_score, precision_score, recall_score\n",
    "\n",
    "acc_train = accuracy_score(y_train, y_train_pred)\n",
    "prec_train = precision_score(y_train, y_train_pred)\n",
    "rec_train = recall_score(y_train, y_train_pred)\n",
    "\n",
    "acc_valid = accuracy_score(y_valid, y_valid_pred)\n",
    "prec_valid = precision_score(y_valid, y_valid_pred)\n",
    "rec_valid = recall_score(y_valid, y_valid_pred)\n",
    "\n",
    "print(f'Treino:\\nAcc: {acc_train:.2f}, Precision: {prec_train:.2f}, Recall: {rec_train:.2f}')\n",
    "print(f'Validação:\\nAcc: {acc_valid:.2f}, Precision: {prec_valid:.2f}, Recall: {rec_valid:.2f}')"
   ]
  },
  {
   "cell_type": "markdown",
   "id": "fa97a4e5",
   "metadata": {},
   "source": [
    "Temos um modelo para predizer se um indivíduo, a partir de suas características, recebe acima de 50 mil"
   ]
  },
  {
   "cell_type": "markdown",
   "id": "a6def81a",
   "metadata": {},
   "source": [
    "### Salvando o modelo"
   ]
  },
  {
   "cell_type": "markdown",
   "id": "03c1046c",
   "metadata": {},
   "source": [
    "#### Serialização do objeto"
   ]
  },
  {
   "cell_type": "code",
   "execution_count": 15,
   "id": "76fc4b53",
   "metadata": {},
   "outputs": [],
   "source": [
    "# Utilizamos a biblioteca pickle\n",
    "import pickle\n",
    "\n",
    "with open('modelo_adult.pkl', 'wb') as file: # 'wb' write bites\n",
    "    pickle.dump(pipe, file)"
   ]
  },
  {
   "cell_type": "code",
   "execution_count": null,
   "id": "576aa764",
   "metadata": {},
   "outputs": [],
   "source": []
  },
  {
   "cell_type": "markdown",
   "id": "500fbdd7",
   "metadata": {},
   "source": [
    "### Uso do modelo\n",
    "\n",
    "Como o modelo pode ser usado a partir do arquivo pickle 'modelo.pkl'"
   ]
  },
  {
   "cell_type": "code",
   "execution_count": 16,
   "id": "e8dfb4a8",
   "metadata": {},
   "outputs": [],
   "source": [
    "# 1: é preciso carregar funções que o programa utiliza\n",
    "def transform_education(df):\n",
    "    \n",
    "    df = df.copy()\n",
    "    \n",
    "    df['educational-num'] = df['educational-num'].apply(lambda x: 1 if x >= 10 else 0)\n",
    "    \n",
    "    return df"
   ]
  },
  {
   "cell_type": "code",
   "execution_count": 17,
   "id": "e43389f4",
   "metadata": {},
   "outputs": [],
   "source": [
    "# Carregando o arquivo\n",
    "objeto_modelo = pickle.load(open('modelo_adult.pkl', 'rb')) # 'rb' read bites"
   ]
  },
  {
   "cell_type": "code",
   "execution_count": 18,
   "id": "8fa4ba15",
   "metadata": {},
   "outputs": [
    {
     "data": {
      "text/plain": [
       "Pipeline(steps=[('categ',\n",
       "                 ColumnTransformer(transformers=[('transf_categ',\n",
       "                                                  OrdinalEncoder(handle_unknown='use_encoded_value',\n",
       "                                                                 unknown_value=-1),\n",
       "                                                  ['workclass',\n",
       "                                                   'marital-status',\n",
       "                                                   'occupation', 'relationship',\n",
       "                                                   'race', 'gender',\n",
       "                                                   'native-country']),\n",
       "                                                 ('numeric', 'passthrough',\n",
       "                                                  ['age', 'capital-gain',\n",
       "                                                   'capital-loss',\n",
       "                                                   'hours-per-week']),\n",
       "                                                 ('education',\n",
       "                                                  FunctionTransformer(func=<function transform_education at 0x0000018207729940>),\n",
       "                                                  ['educational-num'])])),\n",
       "                ('modelo',\n",
       "                 LGBMClassifier(importance_type='gain', is_unbalance=True,\n",
       "                                max_depth=7, n_estimators=150))])"
      ]
     },
     "execution_count": 18,
     "metadata": {},
     "output_type": "execute_result"
    }
   ],
   "source": [
    "objeto_modelo"
   ]
  },
  {
   "cell_type": "code",
   "execution_count": 19,
   "id": "ab222373",
   "metadata": {},
   "outputs": [
    {
     "data": {
      "text/plain": [
       "array([1, 0, 0, ..., 0, 1, 0], dtype=int64)"
      ]
     },
     "execution_count": 19,
     "metadata": {},
     "output_type": "execute_result"
    }
   ],
   "source": [
    "# usando o modelo: como exemplo, passando o df X_valid\n",
    "objeto_modelo.predict(X_valid)"
   ]
  },
  {
   "cell_type": "code",
   "execution_count": 20,
   "id": "43ceb70d",
   "metadata": {},
   "outputs": [
    {
     "data": {
      "text/plain": [
       "(9768, 15)"
      ]
     },
     "execution_count": 20,
     "metadata": {},
     "output_type": "execute_result"
    }
   ],
   "source": [
    "# Carregando um arquivo de teste\n",
    "X_test = pd.read_csv('adult_test.csv')\n",
    "X_test.shape"
   ]
  },
  {
   "cell_type": "code",
   "execution_count": 21,
   "id": "fdd78e5c",
   "metadata": {},
   "outputs": [
    {
     "data": {
      "text/plain": [
       "array([1, 0, 0, ..., 0, 1, 0], dtype=int64)"
      ]
     },
     "execution_count": 21,
     "metadata": {},
     "output_type": "execute_result"
    }
   ],
   "source": [
    "# Rodando o modelo\n",
    "objeto_modelo.predict(X_valid)"
   ]
  }
 ],
 "metadata": {
  "kernelspec": {
   "display_name": "Python 3 (ipykernel)",
   "language": "python",
   "name": "python3"
  },
  "language_info": {
   "codemirror_mode": {
    "name": "ipython",
    "version": 3
   },
   "file_extension": ".py",
   "mimetype": "text/x-python",
   "name": "python",
   "nbconvert_exporter": "python",
   "pygments_lexer": "ipython3",
   "version": "3.9.5"
  }
 },
 "nbformat": 4,
 "nbformat_minor": 5
}
