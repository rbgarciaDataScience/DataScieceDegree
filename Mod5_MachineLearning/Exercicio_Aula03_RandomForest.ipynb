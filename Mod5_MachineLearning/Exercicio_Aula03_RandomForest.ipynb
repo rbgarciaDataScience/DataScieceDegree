{
 "cells": [
  {
   "cell_type": "markdown",
   "id": "ce7be3e6",
   "metadata": {},
   "source": [
    "Módulo: Machine Learning<br>\n",
    "Professor: Helder Vieira<br>\n",
    "Data: 12/2021"
   ]
  },
  {
   "cell_type": "markdown",
   "id": "7a3faeb3",
   "metadata": {},
   "source": [
    "# Aula 03 - RandomForest - Exercício"
   ]
  },
  {
   "cell_type": "markdown",
   "id": "c7f8d70e",
   "metadata": {},
   "source": [
    "## Exercício 1"
   ]
  },
  {
   "cell_type": "markdown",
   "id": "3ba7e509",
   "metadata": {},
   "source": [
    "Utilizando o dataset breast_cancer_train.csv, desenvolva um modelo RandomForest (utilizando o sklearn) com o objetivo de prever se o resultado de uma biópsia indica a presença de câncer malígno. Procure fazer com que o seu o modelo não apresente **overfitting** e maximize a acurácia.\n",
    "\n",
    "Ao final, reporte:\n",
    "\n",
    "1 - A acurácia, precisão e recall do seu modelo na base utilizada para treino e validação    \n",
    "2 - A acurácia, precisão e recall do seu modelo na base breast_cancer_test.csv  \n",
    "3 - Os parâmetros do modelo   \n",
    "4 - Imagine que o hospital queira diminuir custos no ano seguinte e pretende deixar de colher algumas das variáveis. Quais variáveis você recomendaria a exclusão? Justifique."
   ]
  },
  {
   "cell_type": "markdown",
   "id": "18f4037e",
   "metadata": {},
   "source": [
    "### Carregando e visualizando os dados"
   ]
  },
  {
   "cell_type": "code",
   "execution_count": 1,
   "id": "5955ff5b",
   "metadata": {},
   "outputs": [],
   "source": [
    "import pandas as pd"
   ]
  },
  {
   "cell_type": "code",
   "execution_count": 2,
   "id": "ae34d099",
   "metadata": {},
   "outputs": [
    {
     "name": "stdout",
     "output_type": "stream",
     "text": [
      "(455, 32)\n"
     ]
    },
    {
     "data": {
      "text/html": [
       "<div>\n",
       "<style scoped>\n",
       "    .dataframe tbody tr th:only-of-type {\n",
       "        vertical-align: middle;\n",
       "    }\n",
       "\n",
       "    .dataframe tbody tr th {\n",
       "        vertical-align: top;\n",
       "    }\n",
       "\n",
       "    .dataframe thead th {\n",
       "        text-align: right;\n",
       "    }\n",
       "</style>\n",
       "<table border=\"1\" class=\"dataframe\">\n",
       "  <thead>\n",
       "    <tr style=\"text-align: right;\">\n",
       "      <th></th>\n",
       "      <th>id</th>\n",
       "      <th>diagnosis</th>\n",
       "      <th>radius_mean</th>\n",
       "      <th>texture_mean</th>\n",
       "      <th>perimeter_mean</th>\n",
       "      <th>area_mean</th>\n",
       "      <th>smoothness_mean</th>\n",
       "      <th>compactness_mean</th>\n",
       "      <th>concavity_mean</th>\n",
       "      <th>concave points_mean</th>\n",
       "      <th>...</th>\n",
       "      <th>radius_worst</th>\n",
       "      <th>texture_worst</th>\n",
       "      <th>perimeter_worst</th>\n",
       "      <th>area_worst</th>\n",
       "      <th>smoothness_worst</th>\n",
       "      <th>compactness_worst</th>\n",
       "      <th>concavity_worst</th>\n",
       "      <th>concave points_worst</th>\n",
       "      <th>symmetry_worst</th>\n",
       "      <th>fractal_dimension_worst</th>\n",
       "    </tr>\n",
       "  </thead>\n",
       "  <tbody>\n",
       "    <tr>\n",
       "      <th>0</th>\n",
       "      <td>857156</td>\n",
       "      <td>B</td>\n",
       "      <td>13.49</td>\n",
       "      <td>22.30</td>\n",
       "      <td>86.91</td>\n",
       "      <td>561.0</td>\n",
       "      <td>0.08752</td>\n",
       "      <td>0.07698</td>\n",
       "      <td>0.047510</td>\n",
       "      <td>0.033840</td>\n",
       "      <td>...</td>\n",
       "      <td>15.15</td>\n",
       "      <td>31.82</td>\n",
       "      <td>99.00</td>\n",
       "      <td>698.8</td>\n",
       "      <td>0.11620</td>\n",
       "      <td>0.17110</td>\n",
       "      <td>0.22820</td>\n",
       "      <td>0.12820</td>\n",
       "      <td>0.2871</td>\n",
       "      <td>0.06917</td>\n",
       "    </tr>\n",
       "    <tr>\n",
       "      <th>1</th>\n",
       "      <td>844981</td>\n",
       "      <td>M</td>\n",
       "      <td>13.00</td>\n",
       "      <td>21.82</td>\n",
       "      <td>87.50</td>\n",
       "      <td>519.8</td>\n",
       "      <td>0.12730</td>\n",
       "      <td>0.19320</td>\n",
       "      <td>0.185900</td>\n",
       "      <td>0.093530</td>\n",
       "      <td>...</td>\n",
       "      <td>15.49</td>\n",
       "      <td>30.73</td>\n",
       "      <td>106.20</td>\n",
       "      <td>739.3</td>\n",
       "      <td>0.17030</td>\n",
       "      <td>0.54010</td>\n",
       "      <td>0.53900</td>\n",
       "      <td>0.20600</td>\n",
       "      <td>0.4378</td>\n",
       "      <td>0.10720</td>\n",
       "    </tr>\n",
       "    <tr>\n",
       "      <th>2</th>\n",
       "      <td>88330202</td>\n",
       "      <td>M</td>\n",
       "      <td>17.46</td>\n",
       "      <td>39.28</td>\n",
       "      <td>113.40</td>\n",
       "      <td>920.6</td>\n",
       "      <td>0.09812</td>\n",
       "      <td>0.12980</td>\n",
       "      <td>0.141700</td>\n",
       "      <td>0.088110</td>\n",
       "      <td>...</td>\n",
       "      <td>22.51</td>\n",
       "      <td>44.87</td>\n",
       "      <td>141.20</td>\n",
       "      <td>1408.0</td>\n",
       "      <td>0.13650</td>\n",
       "      <td>0.37350</td>\n",
       "      <td>0.32410</td>\n",
       "      <td>0.20660</td>\n",
       "      <td>0.2853</td>\n",
       "      <td>0.08496</td>\n",
       "    </tr>\n",
       "    <tr>\n",
       "      <th>3</th>\n",
       "      <td>88203002</td>\n",
       "      <td>B</td>\n",
       "      <td>11.22</td>\n",
       "      <td>33.81</td>\n",
       "      <td>70.79</td>\n",
       "      <td>386.8</td>\n",
       "      <td>0.07780</td>\n",
       "      <td>0.03574</td>\n",
       "      <td>0.004967</td>\n",
       "      <td>0.006434</td>\n",
       "      <td>...</td>\n",
       "      <td>12.36</td>\n",
       "      <td>41.78</td>\n",
       "      <td>78.44</td>\n",
       "      <td>470.9</td>\n",
       "      <td>0.09994</td>\n",
       "      <td>0.06885</td>\n",
       "      <td>0.02318</td>\n",
       "      <td>0.03002</td>\n",
       "      <td>0.2911</td>\n",
       "      <td>0.07307</td>\n",
       "    </tr>\n",
       "    <tr>\n",
       "      <th>4</th>\n",
       "      <td>892189</td>\n",
       "      <td>M</td>\n",
       "      <td>11.76</td>\n",
       "      <td>18.14</td>\n",
       "      <td>75.00</td>\n",
       "      <td>431.1</td>\n",
       "      <td>0.09968</td>\n",
       "      <td>0.05914</td>\n",
       "      <td>0.026850</td>\n",
       "      <td>0.035150</td>\n",
       "      <td>...</td>\n",
       "      <td>13.36</td>\n",
       "      <td>23.39</td>\n",
       "      <td>85.10</td>\n",
       "      <td>553.6</td>\n",
       "      <td>0.11370</td>\n",
       "      <td>0.07974</td>\n",
       "      <td>0.06120</td>\n",
       "      <td>0.07160</td>\n",
       "      <td>0.1978</td>\n",
       "      <td>0.06915</td>\n",
       "    </tr>\n",
       "  </tbody>\n",
       "</table>\n",
       "<p>5 rows × 32 columns</p>\n",
       "</div>"
      ],
      "text/plain": [
       "         id diagnosis  radius_mean  texture_mean  perimeter_mean  area_mean  \\\n",
       "0    857156         B        13.49         22.30           86.91      561.0   \n",
       "1    844981         M        13.00         21.82           87.50      519.8   \n",
       "2  88330202         M        17.46         39.28          113.40      920.6   \n",
       "3  88203002         B        11.22         33.81           70.79      386.8   \n",
       "4    892189         M        11.76         18.14           75.00      431.1   \n",
       "\n",
       "   smoothness_mean  compactness_mean  concavity_mean  concave points_mean  \\\n",
       "0          0.08752           0.07698        0.047510             0.033840   \n",
       "1          0.12730           0.19320        0.185900             0.093530   \n",
       "2          0.09812           0.12980        0.141700             0.088110   \n",
       "3          0.07780           0.03574        0.004967             0.006434   \n",
       "4          0.09968           0.05914        0.026850             0.035150   \n",
       "\n",
       "   ...  radius_worst  texture_worst  perimeter_worst  area_worst  \\\n",
       "0  ...         15.15          31.82            99.00       698.8   \n",
       "1  ...         15.49          30.73           106.20       739.3   \n",
       "2  ...         22.51          44.87           141.20      1408.0   \n",
       "3  ...         12.36          41.78            78.44       470.9   \n",
       "4  ...         13.36          23.39            85.10       553.6   \n",
       "\n",
       "   smoothness_worst  compactness_worst  concavity_worst  concave points_worst  \\\n",
       "0           0.11620            0.17110          0.22820               0.12820   \n",
       "1           0.17030            0.54010          0.53900               0.20600   \n",
       "2           0.13650            0.37350          0.32410               0.20660   \n",
       "3           0.09994            0.06885          0.02318               0.03002   \n",
       "4           0.11370            0.07974          0.06120               0.07160   \n",
       "\n",
       "   symmetry_worst  fractal_dimension_worst  \n",
       "0          0.2871                  0.06917  \n",
       "1          0.4378                  0.10720  \n",
       "2          0.2853                  0.08496  \n",
       "3          0.2911                  0.07307  \n",
       "4          0.1978                  0.06915  \n",
       "\n",
       "[5 rows x 32 columns]"
      ]
     },
     "metadata": {},
     "output_type": "display_data"
    }
   ],
   "source": [
    "df_breast_cancer_train = pd.read_csv('breast_cancer_train.csv')\n",
    "print(df_breast_cancer_train.shape)\n",
    "display(df_breast_cancer_train.head())"
   ]
  },
  {
   "cell_type": "code",
   "execution_count": 3,
   "id": "bf143c2f",
   "metadata": {},
   "outputs": [
    {
     "data": {
      "text/html": [
       "<div>\n",
       "<style scoped>\n",
       "    .dataframe tbody tr th:only-of-type {\n",
       "        vertical-align: middle;\n",
       "    }\n",
       "\n",
       "    .dataframe tbody tr th {\n",
       "        vertical-align: top;\n",
       "    }\n",
       "\n",
       "    .dataframe thead th {\n",
       "        text-align: right;\n",
       "    }\n",
       "</style>\n",
       "<table border=\"1\" class=\"dataframe\">\n",
       "  <thead>\n",
       "    <tr style=\"text-align: right;\">\n",
       "      <th></th>\n",
       "      <th>id</th>\n",
       "      <th>diagnosis</th>\n",
       "      <th>radius_mean</th>\n",
       "      <th>texture_mean</th>\n",
       "      <th>perimeter_mean</th>\n",
       "      <th>area_mean</th>\n",
       "      <th>smoothness_mean</th>\n",
       "      <th>compactness_mean</th>\n",
       "      <th>concavity_mean</th>\n",
       "      <th>concave points_mean</th>\n",
       "      <th>...</th>\n",
       "      <th>radius_worst</th>\n",
       "      <th>texture_worst</th>\n",
       "      <th>perimeter_worst</th>\n",
       "      <th>area_worst</th>\n",
       "      <th>smoothness_worst</th>\n",
       "      <th>compactness_worst</th>\n",
       "      <th>concavity_worst</th>\n",
       "      <th>concave points_worst</th>\n",
       "      <th>symmetry_worst</th>\n",
       "      <th>fractal_dimension_worst</th>\n",
       "    </tr>\n",
       "  </thead>\n",
       "  <tbody>\n",
       "    <tr>\n",
       "      <th>0</th>\n",
       "      <td>857156</td>\n",
       "      <td>0</td>\n",
       "      <td>13.49</td>\n",
       "      <td>22.30</td>\n",
       "      <td>86.91</td>\n",
       "      <td>561.0</td>\n",
       "      <td>0.08752</td>\n",
       "      <td>0.07698</td>\n",
       "      <td>0.04751</td>\n",
       "      <td>0.03384</td>\n",
       "      <td>...</td>\n",
       "      <td>15.15</td>\n",
       "      <td>31.82</td>\n",
       "      <td>99.0</td>\n",
       "      <td>698.8</td>\n",
       "      <td>0.1162</td>\n",
       "      <td>0.1711</td>\n",
       "      <td>0.2282</td>\n",
       "      <td>0.1282</td>\n",
       "      <td>0.2871</td>\n",
       "      <td>0.06917</td>\n",
       "    </tr>\n",
       "    <tr>\n",
       "      <th>1</th>\n",
       "      <td>844981</td>\n",
       "      <td>1</td>\n",
       "      <td>13.00</td>\n",
       "      <td>21.82</td>\n",
       "      <td>87.50</td>\n",
       "      <td>519.8</td>\n",
       "      <td>0.12730</td>\n",
       "      <td>0.19320</td>\n",
       "      <td>0.18590</td>\n",
       "      <td>0.09353</td>\n",
       "      <td>...</td>\n",
       "      <td>15.49</td>\n",
       "      <td>30.73</td>\n",
       "      <td>106.2</td>\n",
       "      <td>739.3</td>\n",
       "      <td>0.1703</td>\n",
       "      <td>0.5401</td>\n",
       "      <td>0.5390</td>\n",
       "      <td>0.2060</td>\n",
       "      <td>0.4378</td>\n",
       "      <td>0.10720</td>\n",
       "    </tr>\n",
       "    <tr>\n",
       "      <th>2</th>\n",
       "      <td>88330202</td>\n",
       "      <td>1</td>\n",
       "      <td>17.46</td>\n",
       "      <td>39.28</td>\n",
       "      <td>113.40</td>\n",
       "      <td>920.6</td>\n",
       "      <td>0.09812</td>\n",
       "      <td>0.12980</td>\n",
       "      <td>0.14170</td>\n",
       "      <td>0.08811</td>\n",
       "      <td>...</td>\n",
       "      <td>22.51</td>\n",
       "      <td>44.87</td>\n",
       "      <td>141.2</td>\n",
       "      <td>1408.0</td>\n",
       "      <td>0.1365</td>\n",
       "      <td>0.3735</td>\n",
       "      <td>0.3241</td>\n",
       "      <td>0.2066</td>\n",
       "      <td>0.2853</td>\n",
       "      <td>0.08496</td>\n",
       "    </tr>\n",
       "  </tbody>\n",
       "</table>\n",
       "<p>3 rows × 32 columns</p>\n",
       "</div>"
      ],
      "text/plain": [
       "         id  diagnosis  radius_mean  texture_mean  perimeter_mean  area_mean  \\\n",
       "0    857156          0        13.49         22.30           86.91      561.0   \n",
       "1    844981          1        13.00         21.82           87.50      519.8   \n",
       "2  88330202          1        17.46         39.28          113.40      920.6   \n",
       "\n",
       "   smoothness_mean  compactness_mean  concavity_mean  concave points_mean  \\\n",
       "0          0.08752           0.07698         0.04751              0.03384   \n",
       "1          0.12730           0.19320         0.18590              0.09353   \n",
       "2          0.09812           0.12980         0.14170              0.08811   \n",
       "\n",
       "   ...  radius_worst  texture_worst  perimeter_worst  area_worst  \\\n",
       "0  ...         15.15          31.82             99.0       698.8   \n",
       "1  ...         15.49          30.73            106.2       739.3   \n",
       "2  ...         22.51          44.87            141.2      1408.0   \n",
       "\n",
       "   smoothness_worst  compactness_worst  concavity_worst  concave points_worst  \\\n",
       "0            0.1162             0.1711           0.2282                0.1282   \n",
       "1            0.1703             0.5401           0.5390                0.2060   \n",
       "2            0.1365             0.3735           0.3241                0.2066   \n",
       "\n",
       "   symmetry_worst  fractal_dimension_worst  \n",
       "0          0.2871                  0.06917  \n",
       "1          0.4378                  0.10720  \n",
       "2          0.2853                  0.08496  \n",
       "\n",
       "[3 rows x 32 columns]"
      ]
     },
     "execution_count": 3,
     "metadata": {},
     "output_type": "execute_result"
    }
   ],
   "source": [
    "# Tratando a target: string para int\n",
    "df_breast_cancer_train['diagnosis'] = df_breast_cancer_train['diagnosis'].map({'B':0, 'M':1})\n",
    "df_breast_cancer_train.head(3)"
   ]
  },
  {
   "cell_type": "code",
   "execution_count": 4,
   "id": "bb18c466",
   "metadata": {},
   "outputs": [
    {
     "name": "stdout",
     "output_type": "stream",
     "text": [
      "<class 'pandas.core.frame.DataFrame'>\n",
      "RangeIndex: 455 entries, 0 to 454\n",
      "Data columns (total 32 columns):\n",
      " #   Column                   Non-Null Count  Dtype  \n",
      "---  ------                   --------------  -----  \n",
      " 0   id                       455 non-null    int64  \n",
      " 1   diagnosis                455 non-null    int64  \n",
      " 2   radius_mean              455 non-null    float64\n",
      " 3   texture_mean             455 non-null    float64\n",
      " 4   perimeter_mean           455 non-null    float64\n",
      " 5   area_mean                455 non-null    float64\n",
      " 6   smoothness_mean          455 non-null    float64\n",
      " 7   compactness_mean         455 non-null    float64\n",
      " 8   concavity_mean           455 non-null    float64\n",
      " 9   concave points_mean      455 non-null    float64\n",
      " 10  symmetry_mean            455 non-null    float64\n",
      " 11  fractal_dimension_mean   455 non-null    float64\n",
      " 12  radius_se                455 non-null    float64\n",
      " 13  texture_se               455 non-null    float64\n",
      " 14  perimeter_se             455 non-null    float64\n",
      " 15  area_se                  455 non-null    float64\n",
      " 16  smoothness_se            455 non-null    float64\n",
      " 17  compactness_se           455 non-null    float64\n",
      " 18  concavity_se             455 non-null    float64\n",
      " 19  concave points_se        455 non-null    float64\n",
      " 20  symmetry_se              455 non-null    float64\n",
      " 21  fractal_dimension_se     455 non-null    float64\n",
      " 22  radius_worst             455 non-null    float64\n",
      " 23  texture_worst            455 non-null    float64\n",
      " 24  perimeter_worst          455 non-null    float64\n",
      " 25  area_worst               455 non-null    float64\n",
      " 26  smoothness_worst         455 non-null    float64\n",
      " 27  compactness_worst        455 non-null    float64\n",
      " 28  concavity_worst          455 non-null    float64\n",
      " 29  concave points_worst     455 non-null    float64\n",
      " 30  symmetry_worst           455 non-null    float64\n",
      " 31  fractal_dimension_worst  455 non-null    float64\n",
      "dtypes: float64(30), int64(2)\n",
      "memory usage: 113.9 KB\n"
     ]
    }
   ],
   "source": [
    "df_breast_cancer_train.info()"
   ]
  },
  {
   "cell_type": "code",
   "execution_count": 5,
   "id": "4ae7c378",
   "metadata": {},
   "outputs": [
    {
     "name": "stdout",
     "output_type": "stream",
     "text": [
      "(455, 30) (455,)\n"
     ]
    }
   ],
   "source": [
    "# Separando features e target X e y\n",
    "X = df_breast_cancer_train.drop(['id','diagnosis'], axis=1)\n",
    "y = df_breast_cancer_train['diagnosis']\n",
    "print(X.shape,y.shape)"
   ]
  },
  {
   "cell_type": "code",
   "execution_count": 6,
   "id": "737757cc",
   "metadata": {},
   "outputs": [
    {
     "name": "stdout",
     "output_type": "stream",
     "text": [
      "(318, 30) (318,)\n",
      "(137, 30) (137,)\n"
     ]
    }
   ],
   "source": [
    "# Sparando treino e validação\n",
    "from sklearn.model_selection import train_test_split\n",
    "\n",
    "X_train, X_valid, y_train, y_valid = train_test_split(X, \n",
    "                                                    y, \n",
    "                                                    test_size=0.3, \n",
    "                                                    random_state=12)\n",
    "\n",
    "print(X_train.shape, y_train.shape)\n",
    "print(X_valid.shape, y_valid.shape)"
   ]
  },
  {
   "cell_type": "code",
   "execution_count": 7,
   "id": "881a8d16",
   "metadata": {},
   "outputs": [],
   "source": [
    "from sklearn.ensemble import RandomForestClassifier"
   ]
  },
  {
   "cell_type": "code",
   "execution_count": 8,
   "id": "e6b862f6",
   "metadata": {},
   "outputs": [],
   "source": [
    "model_1 = RandomForestClassifier(n_estimators=150, max_depth=2, random_state=12)"
   ]
  },
  {
   "cell_type": "code",
   "execution_count": 9,
   "id": "fa35368d",
   "metadata": {},
   "outputs": [
    {
     "data": {
      "text/plain": [
       "RandomForestClassifier(max_depth=2, n_estimators=150, random_state=12)"
      ]
     },
     "execution_count": 9,
     "metadata": {},
     "output_type": "execute_result"
    }
   ],
   "source": [
    "model_1.fit(X_train, y_train)"
   ]
  },
  {
   "cell_type": "code",
   "execution_count": 10,
   "id": "5604afa1",
   "metadata": {},
   "outputs": [
    {
     "name": "stdout",
     "output_type": "stream",
     "text": [
      "(318,) (137,)\n"
     ]
    }
   ],
   "source": [
    "# Preditos do treino e validação\n",
    "y_train_pred = model_1.predict(X_train)\n",
    "\n",
    "y_valid_pred = model_1.predict(X_valid)\n",
    "\n",
    "print(y_train_pred.shape, y_valid_pred.shape)"
   ]
  },
  {
   "cell_type": "code",
   "execution_count": 11,
   "id": "41733712",
   "metadata": {},
   "outputs": [
    {
     "name": "stdout",
     "output_type": "stream",
     "text": [
      "Treino:\n",
      "Acc: 0.97, Precision: 0.99, Recall: 0.94\n",
      "Validação:\n",
      "Acc: 0.95, Precision: 0.96, Recall: 0.90\n"
     ]
    }
   ],
   "source": [
    "# Métricas do treino e da validação\n",
    "from sklearn.metrics import accuracy_score, precision_score, recall_score\n",
    "\n",
    "acc_train = accuracy_score(y_train, y_train_pred)\n",
    "prec_train = precision_score(y_train, y_train_pred)\n",
    "rec_train = recall_score(y_train, y_train_pred)\n",
    "\n",
    "acc_valid = accuracy_score(y_valid, y_valid_pred)\n",
    "prec_valid = precision_score(y_valid, y_valid_pred)\n",
    "rec_valid = recall_score(y_valid, y_valid_pred)\n",
    "\n",
    "print(f'Treino:\\nAcc: {acc_train:.2f}, Precision: {prec_train:.2f}, Recall: {rec_train:.2f}')\n",
    "print(f'Validação:\\nAcc: {acc_valid:.2f}, Precision: {prec_valid:.2f}, Recall: {rec_valid:.2f}')"
   ]
  },
  {
   "cell_type": "markdown",
   "id": "65a284e0",
   "metadata": {},
   "source": [
    "#### Teste"
   ]
  },
  {
   "cell_type": "code",
   "execution_count": 12,
   "id": "e74ce510",
   "metadata": {},
   "outputs": [
    {
     "name": "stdout",
     "output_type": "stream",
     "text": [
      "(114, 32)\n"
     ]
    },
    {
     "data": {
      "text/html": [
       "<div>\n",
       "<style scoped>\n",
       "    .dataframe tbody tr th:only-of-type {\n",
       "        vertical-align: middle;\n",
       "    }\n",
       "\n",
       "    .dataframe tbody tr th {\n",
       "        vertical-align: top;\n",
       "    }\n",
       "\n",
       "    .dataframe thead th {\n",
       "        text-align: right;\n",
       "    }\n",
       "</style>\n",
       "<table border=\"1\" class=\"dataframe\">\n",
       "  <thead>\n",
       "    <tr style=\"text-align: right;\">\n",
       "      <th></th>\n",
       "      <th>id</th>\n",
       "      <th>diagnosis</th>\n",
       "      <th>radius_mean</th>\n",
       "      <th>texture_mean</th>\n",
       "      <th>perimeter_mean</th>\n",
       "      <th>area_mean</th>\n",
       "      <th>smoothness_mean</th>\n",
       "      <th>compactness_mean</th>\n",
       "      <th>concavity_mean</th>\n",
       "      <th>concave points_mean</th>\n",
       "      <th>...</th>\n",
       "      <th>radius_worst</th>\n",
       "      <th>texture_worst</th>\n",
       "      <th>perimeter_worst</th>\n",
       "      <th>area_worst</th>\n",
       "      <th>smoothness_worst</th>\n",
       "      <th>compactness_worst</th>\n",
       "      <th>concavity_worst</th>\n",
       "      <th>concave points_worst</th>\n",
       "      <th>symmetry_worst</th>\n",
       "      <th>fractal_dimension_worst</th>\n",
       "    </tr>\n",
       "  </thead>\n",
       "  <tbody>\n",
       "    <tr>\n",
       "      <th>0</th>\n",
       "      <td>84348301</td>\n",
       "      <td>M</td>\n",
       "      <td>11.42</td>\n",
       "      <td>20.38</td>\n",
       "      <td>77.58</td>\n",
       "      <td>386.1</td>\n",
       "      <td>0.14250</td>\n",
       "      <td>0.28390</td>\n",
       "      <td>0.24140</td>\n",
       "      <td>0.10520</td>\n",
       "      <td>...</td>\n",
       "      <td>14.91</td>\n",
       "      <td>26.50</td>\n",
       "      <td>98.87</td>\n",
       "      <td>567.7</td>\n",
       "      <td>0.20980</td>\n",
       "      <td>0.86630</td>\n",
       "      <td>0.68690</td>\n",
       "      <td>0.25750</td>\n",
       "      <td>0.6638</td>\n",
       "      <td>0.17300</td>\n",
       "    </tr>\n",
       "    <tr>\n",
       "      <th>1</th>\n",
       "      <td>84358402</td>\n",
       "      <td>M</td>\n",
       "      <td>20.29</td>\n",
       "      <td>14.34</td>\n",
       "      <td>135.10</td>\n",
       "      <td>1297.0</td>\n",
       "      <td>0.10030</td>\n",
       "      <td>0.13280</td>\n",
       "      <td>0.19800</td>\n",
       "      <td>0.10430</td>\n",
       "      <td>...</td>\n",
       "      <td>22.54</td>\n",
       "      <td>16.67</td>\n",
       "      <td>152.20</td>\n",
       "      <td>1575.0</td>\n",
       "      <td>0.13740</td>\n",
       "      <td>0.20500</td>\n",
       "      <td>0.40000</td>\n",
       "      <td>0.16250</td>\n",
       "      <td>0.2364</td>\n",
       "      <td>0.07678</td>\n",
       "    </tr>\n",
       "    <tr>\n",
       "      <th>2</th>\n",
       "      <td>843786</td>\n",
       "      <td>M</td>\n",
       "      <td>12.45</td>\n",
       "      <td>15.70</td>\n",
       "      <td>82.57</td>\n",
       "      <td>477.1</td>\n",
       "      <td>0.12780</td>\n",
       "      <td>0.17000</td>\n",
       "      <td>0.15780</td>\n",
       "      <td>0.08089</td>\n",
       "      <td>...</td>\n",
       "      <td>15.47</td>\n",
       "      <td>23.75</td>\n",
       "      <td>103.40</td>\n",
       "      <td>741.6</td>\n",
       "      <td>0.17910</td>\n",
       "      <td>0.52490</td>\n",
       "      <td>0.53550</td>\n",
       "      <td>0.17410</td>\n",
       "      <td>0.3985</td>\n",
       "      <td>0.12440</td>\n",
       "    </tr>\n",
       "    <tr>\n",
       "      <th>3</th>\n",
       "      <td>846226</td>\n",
       "      <td>M</td>\n",
       "      <td>19.17</td>\n",
       "      <td>24.80</td>\n",
       "      <td>132.40</td>\n",
       "      <td>1123.0</td>\n",
       "      <td>0.09740</td>\n",
       "      <td>0.24580</td>\n",
       "      <td>0.20650</td>\n",
       "      <td>0.11180</td>\n",
       "      <td>...</td>\n",
       "      <td>20.96</td>\n",
       "      <td>29.94</td>\n",
       "      <td>151.70</td>\n",
       "      <td>1332.0</td>\n",
       "      <td>0.10370</td>\n",
       "      <td>0.39030</td>\n",
       "      <td>0.36390</td>\n",
       "      <td>0.17670</td>\n",
       "      <td>0.3176</td>\n",
       "      <td>0.10230</td>\n",
       "    </tr>\n",
       "    <tr>\n",
       "      <th>4</th>\n",
       "      <td>855133</td>\n",
       "      <td>M</td>\n",
       "      <td>14.99</td>\n",
       "      <td>25.20</td>\n",
       "      <td>95.54</td>\n",
       "      <td>698.8</td>\n",
       "      <td>0.09387</td>\n",
       "      <td>0.05131</td>\n",
       "      <td>0.02398</td>\n",
       "      <td>0.02899</td>\n",
       "      <td>...</td>\n",
       "      <td>14.99</td>\n",
       "      <td>25.20</td>\n",
       "      <td>95.54</td>\n",
       "      <td>698.8</td>\n",
       "      <td>0.09387</td>\n",
       "      <td>0.05131</td>\n",
       "      <td>0.02398</td>\n",
       "      <td>0.02899</td>\n",
       "      <td>0.1565</td>\n",
       "      <td>0.05504</td>\n",
       "    </tr>\n",
       "  </tbody>\n",
       "</table>\n",
       "<p>5 rows × 32 columns</p>\n",
       "</div>"
      ],
      "text/plain": [
       "         id diagnosis  radius_mean  texture_mean  perimeter_mean  area_mean  \\\n",
       "0  84348301         M        11.42         20.38           77.58      386.1   \n",
       "1  84358402         M        20.29         14.34          135.10     1297.0   \n",
       "2    843786         M        12.45         15.70           82.57      477.1   \n",
       "3    846226         M        19.17         24.80          132.40     1123.0   \n",
       "4    855133         M        14.99         25.20           95.54      698.8   \n",
       "\n",
       "   smoothness_mean  compactness_mean  concavity_mean  concave points_mean  \\\n",
       "0          0.14250           0.28390         0.24140              0.10520   \n",
       "1          0.10030           0.13280         0.19800              0.10430   \n",
       "2          0.12780           0.17000         0.15780              0.08089   \n",
       "3          0.09740           0.24580         0.20650              0.11180   \n",
       "4          0.09387           0.05131         0.02398              0.02899   \n",
       "\n",
       "   ...  radius_worst  texture_worst  perimeter_worst  area_worst  \\\n",
       "0  ...         14.91          26.50            98.87       567.7   \n",
       "1  ...         22.54          16.67           152.20      1575.0   \n",
       "2  ...         15.47          23.75           103.40       741.6   \n",
       "3  ...         20.96          29.94           151.70      1332.0   \n",
       "4  ...         14.99          25.20            95.54       698.8   \n",
       "\n",
       "   smoothness_worst  compactness_worst  concavity_worst  concave points_worst  \\\n",
       "0           0.20980            0.86630          0.68690               0.25750   \n",
       "1           0.13740            0.20500          0.40000               0.16250   \n",
       "2           0.17910            0.52490          0.53550               0.17410   \n",
       "3           0.10370            0.39030          0.36390               0.17670   \n",
       "4           0.09387            0.05131          0.02398               0.02899   \n",
       "\n",
       "   symmetry_worst  fractal_dimension_worst  \n",
       "0          0.6638                  0.17300  \n",
       "1          0.2364                  0.07678  \n",
       "2          0.3985                  0.12440  \n",
       "3          0.3176                  0.10230  \n",
       "4          0.1565                  0.05504  \n",
       "\n",
       "[5 rows x 32 columns]"
      ]
     },
     "metadata": {},
     "output_type": "display_data"
    }
   ],
   "source": [
    "df_breast_cancer_test = pd.read_csv('breast_cancer_test.csv')\n",
    "print(df_breast_cancer_test.shape)\n",
    "display(df_breast_cancer_test.head())"
   ]
  },
  {
   "cell_type": "code",
   "execution_count": 13,
   "id": "ce08f310",
   "metadata": {},
   "outputs": [
    {
     "data": {
      "text/html": [
       "<div>\n",
       "<style scoped>\n",
       "    .dataframe tbody tr th:only-of-type {\n",
       "        vertical-align: middle;\n",
       "    }\n",
       "\n",
       "    .dataframe tbody tr th {\n",
       "        vertical-align: top;\n",
       "    }\n",
       "\n",
       "    .dataframe thead th {\n",
       "        text-align: right;\n",
       "    }\n",
       "</style>\n",
       "<table border=\"1\" class=\"dataframe\">\n",
       "  <thead>\n",
       "    <tr style=\"text-align: right;\">\n",
       "      <th></th>\n",
       "      <th>id</th>\n",
       "      <th>diagnosis</th>\n",
       "      <th>radius_mean</th>\n",
       "      <th>texture_mean</th>\n",
       "      <th>perimeter_mean</th>\n",
       "      <th>area_mean</th>\n",
       "      <th>smoothness_mean</th>\n",
       "      <th>compactness_mean</th>\n",
       "      <th>concavity_mean</th>\n",
       "      <th>concave points_mean</th>\n",
       "      <th>...</th>\n",
       "      <th>radius_worst</th>\n",
       "      <th>texture_worst</th>\n",
       "      <th>perimeter_worst</th>\n",
       "      <th>area_worst</th>\n",
       "      <th>smoothness_worst</th>\n",
       "      <th>compactness_worst</th>\n",
       "      <th>concavity_worst</th>\n",
       "      <th>concave points_worst</th>\n",
       "      <th>symmetry_worst</th>\n",
       "      <th>fractal_dimension_worst</th>\n",
       "    </tr>\n",
       "  </thead>\n",
       "  <tbody>\n",
       "    <tr>\n",
       "      <th>0</th>\n",
       "      <td>84348301</td>\n",
       "      <td>1</td>\n",
       "      <td>11.42</td>\n",
       "      <td>20.38</td>\n",
       "      <td>77.58</td>\n",
       "      <td>386.1</td>\n",
       "      <td>0.1425</td>\n",
       "      <td>0.2839</td>\n",
       "      <td>0.2414</td>\n",
       "      <td>0.10520</td>\n",
       "      <td>...</td>\n",
       "      <td>14.91</td>\n",
       "      <td>26.50</td>\n",
       "      <td>98.87</td>\n",
       "      <td>567.7</td>\n",
       "      <td>0.2098</td>\n",
       "      <td>0.8663</td>\n",
       "      <td>0.6869</td>\n",
       "      <td>0.2575</td>\n",
       "      <td>0.6638</td>\n",
       "      <td>0.17300</td>\n",
       "    </tr>\n",
       "    <tr>\n",
       "      <th>1</th>\n",
       "      <td>84358402</td>\n",
       "      <td>1</td>\n",
       "      <td>20.29</td>\n",
       "      <td>14.34</td>\n",
       "      <td>135.10</td>\n",
       "      <td>1297.0</td>\n",
       "      <td>0.1003</td>\n",
       "      <td>0.1328</td>\n",
       "      <td>0.1980</td>\n",
       "      <td>0.10430</td>\n",
       "      <td>...</td>\n",
       "      <td>22.54</td>\n",
       "      <td>16.67</td>\n",
       "      <td>152.20</td>\n",
       "      <td>1575.0</td>\n",
       "      <td>0.1374</td>\n",
       "      <td>0.2050</td>\n",
       "      <td>0.4000</td>\n",
       "      <td>0.1625</td>\n",
       "      <td>0.2364</td>\n",
       "      <td>0.07678</td>\n",
       "    </tr>\n",
       "    <tr>\n",
       "      <th>2</th>\n",
       "      <td>843786</td>\n",
       "      <td>1</td>\n",
       "      <td>12.45</td>\n",
       "      <td>15.70</td>\n",
       "      <td>82.57</td>\n",
       "      <td>477.1</td>\n",
       "      <td>0.1278</td>\n",
       "      <td>0.1700</td>\n",
       "      <td>0.1578</td>\n",
       "      <td>0.08089</td>\n",
       "      <td>...</td>\n",
       "      <td>15.47</td>\n",
       "      <td>23.75</td>\n",
       "      <td>103.40</td>\n",
       "      <td>741.6</td>\n",
       "      <td>0.1791</td>\n",
       "      <td>0.5249</td>\n",
       "      <td>0.5355</td>\n",
       "      <td>0.1741</td>\n",
       "      <td>0.3985</td>\n",
       "      <td>0.12440</td>\n",
       "    </tr>\n",
       "  </tbody>\n",
       "</table>\n",
       "<p>3 rows × 32 columns</p>\n",
       "</div>"
      ],
      "text/plain": [
       "         id  diagnosis  radius_mean  texture_mean  perimeter_mean  area_mean  \\\n",
       "0  84348301          1        11.42         20.38           77.58      386.1   \n",
       "1  84358402          1        20.29         14.34          135.10     1297.0   \n",
       "2    843786          1        12.45         15.70           82.57      477.1   \n",
       "\n",
       "   smoothness_mean  compactness_mean  concavity_mean  concave points_mean  \\\n",
       "0           0.1425            0.2839          0.2414              0.10520   \n",
       "1           0.1003            0.1328          0.1980              0.10430   \n",
       "2           0.1278            0.1700          0.1578              0.08089   \n",
       "\n",
       "   ...  radius_worst  texture_worst  perimeter_worst  area_worst  \\\n",
       "0  ...         14.91          26.50            98.87       567.7   \n",
       "1  ...         22.54          16.67           152.20      1575.0   \n",
       "2  ...         15.47          23.75           103.40       741.6   \n",
       "\n",
       "   smoothness_worst  compactness_worst  concavity_worst  concave points_worst  \\\n",
       "0            0.2098             0.8663           0.6869                0.2575   \n",
       "1            0.1374             0.2050           0.4000                0.1625   \n",
       "2            0.1791             0.5249           0.5355                0.1741   \n",
       "\n",
       "   symmetry_worst  fractal_dimension_worst  \n",
       "0          0.6638                  0.17300  \n",
       "1          0.2364                  0.07678  \n",
       "2          0.3985                  0.12440  \n",
       "\n",
       "[3 rows x 32 columns]"
      ]
     },
     "execution_count": 13,
     "metadata": {},
     "output_type": "execute_result"
    }
   ],
   "source": [
    "# Tratando a target: string para int\n",
    "df_breast_cancer_test['diagnosis'] = df_breast_cancer_test['diagnosis'].map({'B':0, 'M':1})\n",
    "df_breast_cancer_test.head(3)"
   ]
  },
  {
   "cell_type": "code",
   "execution_count": 14,
   "id": "f7d92588",
   "metadata": {},
   "outputs": [
    {
     "name": "stdout",
     "output_type": "stream",
     "text": [
      "(114,) (114,)\n"
     ]
    }
   ],
   "source": [
    "# Preditos a partir do conjunto de teste\n",
    "y_test = df_breast_cancer_test['diagnosis'] # target do teste\n",
    "y_test_pred = model_1.predict(df_breast_cancer_test[X_train.columns])\n",
    "\n",
    "print(y_test.shape, y_test_pred.shape)"
   ]
  },
  {
   "cell_type": "code",
   "execution_count": 15,
   "id": "ac894755",
   "metadata": {},
   "outputs": [
    {
     "name": "stdout",
     "output_type": "stream",
     "text": [
      "Treino:\n",
      "Acc: 0.93, Precision: 0.94, Recall: 0.90\n"
     ]
    }
   ],
   "source": [
    "acc_test = accuracy_score(y_test, y_test_pred)\n",
    "prec_test = precision_score(y_test, y_test_pred)\n",
    "rec_test = recall_score(y_test, y_test_pred)\n",
    "\n",
    "print(f'Treino:\\nAcc: {acc_test:.2f}, Precision: {prec_test:.2f}, Recall: {rec_test:.2f}')"
   ]
  },
  {
   "cell_type": "markdown",
   "id": "c4f3be1c",
   "metadata": {},
   "source": [
    "### Respostas\n",
    "Ao final, reporte:\n",
    "\n",
    "1 - A acurácia, precisão e recall do seu modelo na base utilizada para treino e validação    \n",
    "2 - A acurácia, precisão e recall do seu modelo na base breast_cancer_test.csv  \n",
    "3 - Os parâmetros do modelo   \n",
    "4 - Imagine que o hospital queira diminuir custos no ano seguinte e pretende deixar de colher algumas das variáveis. Quais variáveis você recomendaria a exclusão? Justifique."
   ]
  },
  {
   "cell_type": "code",
   "execution_count": 16,
   "id": "62775b3a",
   "metadata": {},
   "outputs": [
    {
     "name": "stdout",
     "output_type": "stream",
     "text": [
      "Treino:\n",
      "Acc: 0.97, Precision: 0.99, Recall: 0.94\n",
      "Validação:\n",
      "Acc: 0.95, Precision: 0.96, Recall: 0.90\n",
      "Treino:\n",
      "Acc: 0.93, Precision: 0.94, Recall: 0.90\n"
     ]
    }
   ],
   "source": [
    "print(f'Treino:\\nAcc: {acc_train:.2f}, Precision: {prec_train:.2f}, Recall: {rec_train:.2f}')\n",
    "print(f'Validação:\\nAcc: {acc_valid:.2f}, Precision: {prec_valid:.2f}, Recall: {rec_valid:.2f}')\n",
    "print(f'Treino:\\nAcc: {acc_test:.2f}, Precision: {prec_test:.2f}, Recall: {rec_test:.2f}')"
   ]
  },
  {
   "cell_type": "code",
   "execution_count": 17,
   "id": "a9e6286d",
   "metadata": {},
   "outputs": [
    {
     "data": {
      "text/plain": [
       "{'bootstrap': True,\n",
       " 'ccp_alpha': 0.0,\n",
       " 'class_weight': None,\n",
       " 'criterion': 'gini',\n",
       " 'max_depth': 2,\n",
       " 'max_features': 'auto',\n",
       " 'max_leaf_nodes': None,\n",
       " 'max_samples': None,\n",
       " 'min_impurity_decrease': 0.0,\n",
       " 'min_samples_leaf': 1,\n",
       " 'min_samples_split': 2,\n",
       " 'min_weight_fraction_leaf': 0.0,\n",
       " 'n_estimators': 150,\n",
       " 'n_jobs': None,\n",
       " 'oob_score': False,\n",
       " 'random_state': 12,\n",
       " 'verbose': 0,\n",
       " 'warm_start': False}"
      ]
     },
     "execution_count": 17,
     "metadata": {},
     "output_type": "execute_result"
    }
   ],
   "source": [
    "model_1.get_params()"
   ]
  },
  {
   "cell_type": "code",
   "execution_count": 18,
   "id": "4bbe2bcd",
   "metadata": {},
   "outputs": [
    {
     "data": {
      "text/plain": [
       "<AxesSubplot:xlabel='features'>"
      ]
     },
     "execution_count": 18,
     "metadata": {},
     "output_type": "execute_result"
    },
    {
     "data": {
      "text/plain": [
       "<Figure size 1152x1152 with 0 Axes>"
      ]
     },
     "metadata": {},
     "output_type": "display_data"
    },
    {
     "data": {
      "image/png": "[encoded data removed]",
      "text/plain": [
       "<Figure size 432x288 with 1 Axes>"
      ]
     },
     "metadata": {
      "needs_background": "light"
     },
     "output_type": "display_data"
    }
   ],
   "source": [
    "from matplotlib import pyplot as plt\n",
    "\n",
    "df_importance = pd.DataFrame({\n",
    "    'features': X_train.columns,\n",
    "    'importances': model_1.feature_importances_}).sort_values('importances', ascending=False)\n",
    "\n",
    "plt.figure(figsize=(16, 16))\n",
    "df_importance.plot.bar(x='features', y='importances')"
   ]
  },
  {
   "cell_type": "code",
   "execution_count": 19,
   "id": "dcd1e98c",
   "metadata": {},
   "outputs": [
    {
     "data": {
      "text/html": [
       "<div>\n",
       "<style scoped>\n",
       "    .dataframe tbody tr th:only-of-type {\n",
       "        vertical-align: middle;\n",
       "    }\n",
       "\n",
       "    .dataframe tbody tr th {\n",
       "        vertical-align: top;\n",
       "    }\n",
       "\n",
       "    .dataframe thead th {\n",
       "        text-align: right;\n",
       "    }\n",
       "</style>\n",
       "<table border=\"1\" class=\"dataframe\">\n",
       "  <thead>\n",
       "    <tr style=\"text-align: right;\">\n",
       "      <th></th>\n",
       "      <th>features</th>\n",
       "      <th>importances</th>\n",
       "    </tr>\n",
       "  </thead>\n",
       "  <tbody>\n",
       "    <tr>\n",
       "      <th>20</th>\n",
       "      <td>radius_worst</td>\n",
       "      <td>0.168102</td>\n",
       "    </tr>\n",
       "    <tr>\n",
       "      <th>27</th>\n",
       "      <td>concave points_worst</td>\n",
       "      <td>0.161871</td>\n",
       "    </tr>\n",
       "    <tr>\n",
       "      <th>22</th>\n",
       "      <td>perimeter_worst</td>\n",
       "      <td>0.137721</td>\n",
       "    </tr>\n",
       "    <tr>\n",
       "      <th>23</th>\n",
       "      <td>area_worst</td>\n",
       "      <td>0.128259</td>\n",
       "    </tr>\n",
       "    <tr>\n",
       "      <th>7</th>\n",
       "      <td>concave points_mean</td>\n",
       "      <td>0.107091</td>\n",
       "    </tr>\n",
       "    <tr>\n",
       "      <th>13</th>\n",
       "      <td>area_se</td>\n",
       "      <td>0.064051</td>\n",
       "    </tr>\n",
       "    <tr>\n",
       "      <th>3</th>\n",
       "      <td>area_mean</td>\n",
       "      <td>0.050260</td>\n",
       "    </tr>\n",
       "    <tr>\n",
       "      <th>0</th>\n",
       "      <td>radius_mean</td>\n",
       "      <td>0.030897</td>\n",
       "    </tr>\n",
       "    <tr>\n",
       "      <th>6</th>\n",
       "      <td>concavity_mean</td>\n",
       "      <td>0.028960</td>\n",
       "    </tr>\n",
       "    <tr>\n",
       "      <th>26</th>\n",
       "      <td>concavity_worst</td>\n",
       "      <td>0.022982</td>\n",
       "    </tr>\n",
       "    <tr>\n",
       "      <th>2</th>\n",
       "      <td>perimeter_mean</td>\n",
       "      <td>0.022693</td>\n",
       "    </tr>\n",
       "    <tr>\n",
       "      <th>5</th>\n",
       "      <td>compactness_mean</td>\n",
       "      <td>0.015676</td>\n",
       "    </tr>\n",
       "    <tr>\n",
       "      <th>1</th>\n",
       "      <td>texture_mean</td>\n",
       "      <td>0.008188</td>\n",
       "    </tr>\n",
       "    <tr>\n",
       "      <th>21</th>\n",
       "      <td>texture_worst</td>\n",
       "      <td>0.008166</td>\n",
       "    </tr>\n",
       "    <tr>\n",
       "      <th>29</th>\n",
       "      <td>fractal_dimension_worst</td>\n",
       "      <td>0.007949</td>\n",
       "    </tr>\n",
       "    <tr>\n",
       "      <th>24</th>\n",
       "      <td>smoothness_worst</td>\n",
       "      <td>0.007826</td>\n",
       "    </tr>\n",
       "    <tr>\n",
       "      <th>10</th>\n",
       "      <td>radius_se</td>\n",
       "      <td>0.007800</td>\n",
       "    </tr>\n",
       "    <tr>\n",
       "      <th>12</th>\n",
       "      <td>perimeter_se</td>\n",
       "      <td>0.007515</td>\n",
       "    </tr>\n",
       "    <tr>\n",
       "      <th>25</th>\n",
       "      <td>compactness_worst</td>\n",
       "      <td>0.005080</td>\n",
       "    </tr>\n",
       "    <tr>\n",
       "      <th>28</th>\n",
       "      <td>symmetry_worst</td>\n",
       "      <td>0.002975</td>\n",
       "    </tr>\n",
       "    <tr>\n",
       "      <th>16</th>\n",
       "      <td>concavity_se</td>\n",
       "      <td>0.001662</td>\n",
       "    </tr>\n",
       "    <tr>\n",
       "      <th>9</th>\n",
       "      <td>fractal_dimension_mean</td>\n",
       "      <td>0.001580</td>\n",
       "    </tr>\n",
       "    <tr>\n",
       "      <th>11</th>\n",
       "      <td>texture_se</td>\n",
       "      <td>0.000895</td>\n",
       "    </tr>\n",
       "    <tr>\n",
       "      <th>4</th>\n",
       "      <td>smoothness_mean</td>\n",
       "      <td>0.000522</td>\n",
       "    </tr>\n",
       "    <tr>\n",
       "      <th>15</th>\n",
       "      <td>compactness_se</td>\n",
       "      <td>0.000494</td>\n",
       "    </tr>\n",
       "    <tr>\n",
       "      <th>17</th>\n",
       "      <td>concave points_se</td>\n",
       "      <td>0.000278</td>\n",
       "    </tr>\n",
       "    <tr>\n",
       "      <th>14</th>\n",
       "      <td>smoothness_se</td>\n",
       "      <td>0.000260</td>\n",
       "    </tr>\n",
       "    <tr>\n",
       "      <th>19</th>\n",
       "      <td>fractal_dimension_se</td>\n",
       "      <td>0.000138</td>\n",
       "    </tr>\n",
       "    <tr>\n",
       "      <th>8</th>\n",
       "      <td>symmetry_mean</td>\n",
       "      <td>0.000109</td>\n",
       "    </tr>\n",
       "    <tr>\n",
       "      <th>18</th>\n",
       "      <td>symmetry_se</td>\n",
       "      <td>0.000000</td>\n",
       "    </tr>\n",
       "  </tbody>\n",
       "</table>\n",
       "</div>"
      ],
      "text/plain": [
       "                   features  importances\n",
       "20             radius_worst     0.168102\n",
       "27     concave points_worst     0.161871\n",
       "22          perimeter_worst     0.137721\n",
       "23               area_worst     0.128259\n",
       "7       concave points_mean     0.107091\n",
       "13                  area_se     0.064051\n",
       "3                 area_mean     0.050260\n",
       "0               radius_mean     0.030897\n",
       "6            concavity_mean     0.028960\n",
       "26          concavity_worst     0.022982\n",
       "2            perimeter_mean     0.022693\n",
       "5          compactness_mean     0.015676\n",
       "1              texture_mean     0.008188\n",
       "21            texture_worst     0.008166\n",
       "29  fractal_dimension_worst     0.007949\n",
       "24         smoothness_worst     0.007826\n",
       "10                radius_se     0.007800\n",
       "12             perimeter_se     0.007515\n",
       "25        compactness_worst     0.005080\n",
       "28           symmetry_worst     0.002975\n",
       "16             concavity_se     0.001662\n",
       "9    fractal_dimension_mean     0.001580\n",
       "11               texture_se     0.000895\n",
       "4           smoothness_mean     0.000522\n",
       "15           compactness_se     0.000494\n",
       "17        concave points_se     0.000278\n",
       "14            smoothness_se     0.000260\n",
       "19     fractal_dimension_se     0.000138\n",
       "8             symmetry_mean     0.000109\n",
       "18              symmetry_se     0.000000"
      ]
     },
     "execution_count": 19,
     "metadata": {},
     "output_type": "execute_result"
    }
   ],
   "source": [
    "df_importance"
   ]
  },
  {
   "cell_type": "markdown",
   "id": "80c52b40",
   "metadata": {},
   "source": [
    "A partir do ranking de importância das variáveis para o diagnóstico, podemos orientar quais medidas manter e quais podemos desconsiderar. Podemos"
   ]
  },
  {
   "cell_type": "code",
   "execution_count": 20,
   "id": "bbdaf422",
   "metadata": {},
   "outputs": [
    {
     "name": "stdout",
     "output_type": "stream",
     "text": [
      "\n",
      "Variáveis a serem excluídas de acordo com o cenário\n",
      "\n",
      "Cenário restrito:\n",
      " 13                    area_se\n",
      "3                   area_mean\n",
      "0                 radius_mean\n",
      "6              concavity_mean\n",
      "26            concavity_worst\n",
      "2              perimeter_mean\n",
      "5            compactness_mean\n",
      "1                texture_mean\n",
      "21              texture_worst\n",
      "29    fractal_dimension_worst\n",
      "24           smoothness_worst\n",
      "10                  radius_se\n",
      "12               perimeter_se\n",
      "25          compactness_worst\n",
      "28             symmetry_worst\n",
      "16               concavity_se\n",
      "9      fractal_dimension_mean\n",
      "11                 texture_se\n",
      "4             smoothness_mean\n",
      "15             compactness_se\n",
      "17          concave points_se\n",
      "14              smoothness_se\n",
      "19       fractal_dimension_se\n",
      "8               symmetry_mean\n",
      "18                symmetry_se\n",
      "Name: features, dtype: object\n",
      "Cenário intermediário:\n",
      " 1                texture_mean\n",
      "21              texture_worst\n",
      "29    fractal_dimension_worst\n",
      "24           smoothness_worst\n",
      "10                  radius_se\n",
      "12               perimeter_se\n",
      "25          compactness_worst\n",
      "28             symmetry_worst\n",
      "16               concavity_se\n",
      "9      fractal_dimension_mean\n",
      "11                 texture_se\n",
      "4             smoothness_mean\n",
      "15             compactness_se\n",
      "17          concave points_se\n",
      "14              smoothness_se\n",
      "19       fractal_dimension_se\n",
      "8               symmetry_mean\n",
      "18                symmetry_se\n",
      "Name: features, dtype: object\n",
      "Cenário flexível:\n",
      " 11              texture_se\n",
      "4          smoothness_mean\n",
      "15          compactness_se\n",
      "17       concave points_se\n",
      "14           smoothness_se\n",
      "19    fractal_dimension_se\n",
      "8            symmetry_mean\n",
      "18             symmetry_se\n",
      "Name: features, dtype: object\n"
     ]
    }
   ],
   "source": [
    "print('\\nVariáveis a serem excluídas de acordo com o cenário\\n')\n",
    "cenario_restrito = df_importance.loc[df_importance['importances'] <= 0.07, 'features']\n",
    "print('Cenário restrito:\\n',cenario_restrito)\n",
    "cenario_intermediario = df_importance.loc[df_importance['importances'] <= 0.01, 'features']\n",
    "print('Cenário intermediário:\\n', cenario_intermediario)\n",
    "cenario_flexivel = df_importance.loc[df_importance['importances'] <= 0.001, 'features']\n",
    "print('Cenário flexível:\\n', cenario_flexivel)"
   ]
  },
  {
   "cell_type": "markdown",
   "id": "0ee45fb4",
   "metadata": {},
   "source": [
    "## Exercício 2"
   ]
  },
  {
   "cell_type": "markdown",
   "id": "8298bad1",
   "metadata": {},
   "source": [
    "A partir do dataset abaixo, utilize um modelo **RandomForeset** para prever, a partir das variáveis de entrada, a probabilidade do individuo receber mais de $50k por ano. Defina um ponto de corte na probabilidade em que, sempre que a probabilidade for maior que o corte, a classe será predita como 1.  \n",
    "\n",
    "Uma descrição do dataset pode ser encontrada [aqui](http://www.cs.toronto.edu/~delve/data/adult/adultDetail.html).  \n",
    "\n",
    "Ao final do exercício, reporte:  \n",
    "\n",
    "1 - O tamanho da base utilizada para treino/validação e o tamanho da base utilizada para teste;  \n",
    "2 - Um gráfico de barras com a importância de cada variável no precesso de predição;  \n",
    "3 - A acurácia, precisão e recall de treino, validação e teste;  \n",
    "4 - Uma comparação com o desempenho de uma árvore de decisão simples.  \n",
    "\n",
    "**Importante**: lembre-se de fazer a divisão do conjunto de teste antes de iniciar o exercício!"
   ]
  },
  {
   "cell_type": "code",
   "execution_count": 21,
   "id": "dc669085",
   "metadata": {},
   "outputs": [],
   "source": [
    "import pandas as pd"
   ]
  },
  {
   "cell_type": "code",
   "execution_count": 22,
   "id": "6dfda442",
   "metadata": {},
   "outputs": [
    {
     "name": "stdout",
     "output_type": "stream",
     "text": [
      "(48842, 15)\n"
     ]
    },
    {
     "data": {
      "text/html": [
       "<div>\n",
       "<style scoped>\n",
       "    .dataframe tbody tr th:only-of-type {\n",
       "        vertical-align: middle;\n",
       "    }\n",
       "\n",
       "    .dataframe tbody tr th {\n",
       "        vertical-align: top;\n",
       "    }\n",
       "\n",
       "    .dataframe thead th {\n",
       "        text-align: right;\n",
       "    }\n",
       "</style>\n",
       "<table border=\"1\" class=\"dataframe\">\n",
       "  <thead>\n",
       "    <tr style=\"text-align: right;\">\n",
       "      <th></th>\n",
       "      <th>age</th>\n",
       "      <th>workclass</th>\n",
       "      <th>fnlwgt</th>\n",
       "      <th>education</th>\n",
       "      <th>educational-num</th>\n",
       "      <th>marital-status</th>\n",
       "      <th>occupation</th>\n",
       "      <th>relationship</th>\n",
       "      <th>race</th>\n",
       "      <th>gender</th>\n",
       "      <th>capital-gain</th>\n",
       "      <th>capital-loss</th>\n",
       "      <th>hours-per-week</th>\n",
       "      <th>native-country</th>\n",
       "      <th>income</th>\n",
       "    </tr>\n",
       "  </thead>\n",
       "  <tbody>\n",
       "    <tr>\n",
       "      <th>0</th>\n",
       "      <td>25</td>\n",
       "      <td>Private</td>\n",
       "      <td>226802</td>\n",
       "      <td>11th</td>\n",
       "      <td>7</td>\n",
       "      <td>Never-married</td>\n",
       "      <td>Machine-op-inspct</td>\n",
       "      <td>Own-child</td>\n",
       "      <td>Black</td>\n",
       "      <td>Male</td>\n",
       "      <td>0</td>\n",
       "      <td>0</td>\n",
       "      <td>40</td>\n",
       "      <td>United-States</td>\n",
       "      <td>&lt;=50K</td>\n",
       "    </tr>\n",
       "    <tr>\n",
       "      <th>1</th>\n",
       "      <td>38</td>\n",
       "      <td>Private</td>\n",
       "      <td>89814</td>\n",
       "      <td>HS-grad</td>\n",
       "      <td>9</td>\n",
       "      <td>Married-civ-spouse</td>\n",
       "      <td>Farming-fishing</td>\n",
       "      <td>Husband</td>\n",
       "      <td>White</td>\n",
       "      <td>Male</td>\n",
       "      <td>0</td>\n",
       "      <td>0</td>\n",
       "      <td>50</td>\n",
       "      <td>United-States</td>\n",
       "      <td>&lt;=50K</td>\n",
       "    </tr>\n",
       "    <tr>\n",
       "      <th>2</th>\n",
       "      <td>28</td>\n",
       "      <td>Local-gov</td>\n",
       "      <td>336951</td>\n",
       "      <td>Assoc-acdm</td>\n",
       "      <td>12</td>\n",
       "      <td>Married-civ-spouse</td>\n",
       "      <td>Protective-serv</td>\n",
       "      <td>Husband</td>\n",
       "      <td>White</td>\n",
       "      <td>Male</td>\n",
       "      <td>0</td>\n",
       "      <td>0</td>\n",
       "      <td>40</td>\n",
       "      <td>United-States</td>\n",
       "      <td>&gt;50K</td>\n",
       "    </tr>\n",
       "    <tr>\n",
       "      <th>3</th>\n",
       "      <td>44</td>\n",
       "      <td>Private</td>\n",
       "      <td>160323</td>\n",
       "      <td>Some-college</td>\n",
       "      <td>10</td>\n",
       "      <td>Married-civ-spouse</td>\n",
       "      <td>Machine-op-inspct</td>\n",
       "      <td>Husband</td>\n",
       "      <td>Black</td>\n",
       "      <td>Male</td>\n",
       "      <td>7688</td>\n",
       "      <td>0</td>\n",
       "      <td>40</td>\n",
       "      <td>United-States</td>\n",
       "      <td>&gt;50K</td>\n",
       "    </tr>\n",
       "    <tr>\n",
       "      <th>4</th>\n",
       "      <td>18</td>\n",
       "      <td>?</td>\n",
       "      <td>103497</td>\n",
       "      <td>Some-college</td>\n",
       "      <td>10</td>\n",
       "      <td>Never-married</td>\n",
       "      <td>?</td>\n",
       "      <td>Own-child</td>\n",
       "      <td>White</td>\n",
       "      <td>Female</td>\n",
       "      <td>0</td>\n",
       "      <td>0</td>\n",
       "      <td>30</td>\n",
       "      <td>United-States</td>\n",
       "      <td>&lt;=50K</td>\n",
       "    </tr>\n",
       "  </tbody>\n",
       "</table>\n",
       "</div>"
      ],
      "text/plain": [
       "   age  workclass  fnlwgt     education  educational-num      marital-status  \\\n",
       "0   25    Private  226802          11th                7       Never-married   \n",
       "1   38    Private   89814       HS-grad                9  Married-civ-spouse   \n",
       "2   28  Local-gov  336951    Assoc-acdm               12  Married-civ-spouse   \n",
       "3   44    Private  160323  Some-college               10  Married-civ-spouse   \n",
       "4   18          ?  103497  Some-college               10       Never-married   \n",
       "\n",
       "          occupation relationship   race  gender  capital-gain  capital-loss  \\\n",
       "0  Machine-op-inspct    Own-child  Black    Male             0             0   \n",
       "1    Farming-fishing      Husband  White    Male             0             0   \n",
       "2    Protective-serv      Husband  White    Male             0             0   \n",
       "3  Machine-op-inspct      Husband  Black    Male          7688             0   \n",
       "4                  ?    Own-child  White  Female             0             0   \n",
       "\n",
       "   hours-per-week native-country income  \n",
       "0              40  United-States  <=50K  \n",
       "1              50  United-States  <=50K  \n",
       "2              40  United-States   >50K  \n",
       "3              40  United-States   >50K  \n",
       "4              30  United-States  <=50K  "
      ]
     },
     "metadata": {},
     "output_type": "display_data"
    }
   ],
   "source": [
    "adult_dataset = pd.read_csv('adult.csv')\n",
    "\n",
    "print(adult_dataset.shape)\n",
    "display(adult_dataset.head())"
   ]
  },
  {
   "cell_type": "markdown",
   "id": "9657a8d5",
   "metadata": {},
   "source": [
    "#### Separando treino e teste"
   ]
  },
  {
   "cell_type": "code",
   "execution_count": 23,
   "id": "131ac2a1",
   "metadata": {},
   "outputs": [
    {
     "name": "stdout",
     "output_type": "stream",
     "text": [
      "(34189, 15) (14653, 15)\n"
     ]
    }
   ],
   "source": [
    "# Split train and test sets\n",
    "adult_train = adult_dataset.sample(frac=0.70,random_state=13)\n",
    "adult_test = adult_dataset.drop(adult_train.index)\n",
    "print(adult_train.shape, adult_test.shape)"
   ]
  },
  {
   "cell_type": "code",
   "execution_count": 24,
   "id": "e0741f78",
   "metadata": {},
   "outputs": [
    {
     "data": {
      "text/plain": [
       "age                   74\n",
       "workclass              9\n",
       "fnlwgt             22317\n",
       "education             16\n",
       "educational-num       16\n",
       "marital-status         7\n",
       "occupation            15\n",
       "relationship           6\n",
       "race                   5\n",
       "gender                 2\n",
       "capital-gain         120\n",
       "capital-loss          92\n",
       "hours-per-week        94\n",
       "native-country        42\n",
       "income                 2\n",
       "dtype: int64"
      ]
     },
     "execution_count": 24,
     "metadata": {},
     "output_type": "execute_result"
    }
   ],
   "source": [
    "# Variáveis\n",
    "adult_train.nunique()"
   ]
  },
  {
   "cell_type": "code",
   "execution_count": 25,
   "id": "e2611d1c",
   "metadata": {},
   "outputs": [],
   "source": [
    "# Features categóricas e numéricas\n",
    "categ_features = ['workclass', 'marital-status', 'occupation', 'relationship', 'race', 'gender', 'native-country']\n",
    "num_features = ['age', 'educational-num', 'capital-gain', 'capital-loss', 'hours-per-week']"
   ]
  },
  {
   "cell_type": "code",
   "execution_count": 26,
   "id": "16377451",
   "metadata": {},
   "outputs": [
    {
     "data": {
      "text/plain": [
       "<=50K    25975\n",
       ">50K      8214\n",
       "Name: income, dtype: int64"
      ]
     },
     "execution_count": 26,
     "metadata": {},
     "output_type": "execute_result"
    }
   ],
   "source": [
    "# Visualizando a target\n",
    "adult_train['income'].value_counts()"
   ]
  },
  {
   "cell_type": "code",
   "execution_count": 27,
   "id": "5f966a7b",
   "metadata": {},
   "outputs": [],
   "source": [
    "# Tratando a target: string para int\n",
    "adult_train['income'] = adult_train['income'].map({'<=50K':0, '>50K':1})"
   ]
  },
  {
   "cell_type": "code",
   "execution_count": 28,
   "id": "ccebb482",
   "metadata": {},
   "outputs": [
    {
     "name": "stdout",
     "output_type": "stream",
     "text": [
      "(34189, 12) (34189,)\n"
     ]
    }
   ],
   "source": [
    "X = adult_train[categ_features + num_features]\n",
    "y = adult_train['income']\n",
    "\n",
    "print(X.shape, y.shape)"
   ]
  },
  {
   "cell_type": "code",
   "execution_count": 29,
   "id": "194b5163",
   "metadata": {},
   "outputs": [
    {
     "name": "stdout",
     "output_type": "stream",
     "text": [
      "(23932, 12) (23932,)\n",
      "(10257, 12) (10257,)\n"
     ]
    }
   ],
   "source": [
    "from sklearn.model_selection import train_test_split\n",
    "\n",
    "X_train, X_valid, y_train, y_valid = train_test_split(X, \n",
    "                                                    y, \n",
    "                                                    test_size=0.3, \n",
    "                                                    random_state=12)\n",
    "\n",
    "print(X_train.shape, y_train.shape)\n",
    "print(X_valid.shape, y_valid.shape)"
   ]
  },
  {
   "cell_type": "markdown",
   "id": "36603bb4",
   "metadata": {},
   "source": [
    "#### Tratamento das features"
   ]
  },
  {
   "cell_type": "code",
   "execution_count": 30,
   "id": "eaa0a3e4",
   "metadata": {},
   "outputs": [
    {
     "data": {
      "text/html": [
       "<div>\n",
       "<style scoped>\n",
       "    .dataframe tbody tr th:only-of-type {\n",
       "        vertical-align: middle;\n",
       "    }\n",
       "\n",
       "    .dataframe tbody tr th {\n",
       "        vertical-align: top;\n",
       "    }\n",
       "\n",
       "    .dataframe thead th {\n",
       "        text-align: right;\n",
       "    }\n",
       "</style>\n",
       "<table border=\"1\" class=\"dataframe\">\n",
       "  <thead>\n",
       "    <tr style=\"text-align: right;\">\n",
       "      <th></th>\n",
       "      <th>workclass</th>\n",
       "      <th>marital-status</th>\n",
       "      <th>occupation</th>\n",
       "      <th>relationship</th>\n",
       "      <th>race</th>\n",
       "      <th>gender</th>\n",
       "      <th>native-country</th>\n",
       "      <th>age</th>\n",
       "      <th>educational-num</th>\n",
       "      <th>capital-gain</th>\n",
       "      <th>capital-loss</th>\n",
       "      <th>hours-per-week</th>\n",
       "    </tr>\n",
       "  </thead>\n",
       "  <tbody>\n",
       "    <tr>\n",
       "      <th>19833</th>\n",
       "      <td>4.0</td>\n",
       "      <td>2.0</td>\n",
       "      <td>3.0</td>\n",
       "      <td>0.0</td>\n",
       "      <td>4.0</td>\n",
       "      <td>1.0</td>\n",
       "      <td>39.0</td>\n",
       "      <td>56</td>\n",
       "      <td>14</td>\n",
       "      <td>0</td>\n",
       "      <td>1977</td>\n",
       "      <td>44</td>\n",
       "    </tr>\n",
       "    <tr>\n",
       "      <th>16480</th>\n",
       "      <td>6.0</td>\n",
       "      <td>4.0</td>\n",
       "      <td>12.0</td>\n",
       "      <td>1.0</td>\n",
       "      <td>4.0</td>\n",
       "      <td>1.0</td>\n",
       "      <td>39.0</td>\n",
       "      <td>24</td>\n",
       "      <td>9</td>\n",
       "      <td>0</td>\n",
       "      <td>0</td>\n",
       "      <td>40</td>\n",
       "    </tr>\n",
       "    <tr>\n",
       "      <th>46300</th>\n",
       "      <td>4.0</td>\n",
       "      <td>4.0</td>\n",
       "      <td>12.0</td>\n",
       "      <td>3.0</td>\n",
       "      <td>4.0</td>\n",
       "      <td>0.0</td>\n",
       "      <td>39.0</td>\n",
       "      <td>19</td>\n",
       "      <td>9</td>\n",
       "      <td>0</td>\n",
       "      <td>0</td>\n",
       "      <td>30</td>\n",
       "    </tr>\n",
       "    <tr>\n",
       "      <th>910</th>\n",
       "      <td>4.0</td>\n",
       "      <td>4.0</td>\n",
       "      <td>7.0</td>\n",
       "      <td>3.0</td>\n",
       "      <td>4.0</td>\n",
       "      <td>1.0</td>\n",
       "      <td>39.0</td>\n",
       "      <td>38</td>\n",
       "      <td>9</td>\n",
       "      <td>0</td>\n",
       "      <td>0</td>\n",
       "      <td>40</td>\n",
       "    </tr>\n",
       "    <tr>\n",
       "      <th>5031</th>\n",
       "      <td>4.0</td>\n",
       "      <td>0.0</td>\n",
       "      <td>3.0</td>\n",
       "      <td>1.0</td>\n",
       "      <td>4.0</td>\n",
       "      <td>1.0</td>\n",
       "      <td>39.0</td>\n",
       "      <td>44</td>\n",
       "      <td>9</td>\n",
       "      <td>0</td>\n",
       "      <td>0</td>\n",
       "      <td>45</td>\n",
       "    </tr>\n",
       "  </tbody>\n",
       "</table>\n",
       "</div>"
      ],
      "text/plain": [
       "       workclass  marital-status  occupation  relationship  race  gender  \\\n",
       "19833        4.0             2.0         3.0           0.0   4.0     1.0   \n",
       "16480        6.0             4.0        12.0           1.0   4.0     1.0   \n",
       "46300        4.0             4.0        12.0           3.0   4.0     0.0   \n",
       "910          4.0             4.0         7.0           3.0   4.0     1.0   \n",
       "5031         4.0             0.0         3.0           1.0   4.0     1.0   \n",
       "\n",
       "       native-country  age  educational-num  capital-gain  capital-loss  \\\n",
       "19833            39.0   56               14             0          1977   \n",
       "16480            39.0   24                9             0             0   \n",
       "46300            39.0   19                9             0             0   \n",
       "910              39.0   38                9             0             0   \n",
       "5031             39.0   44                9             0             0   \n",
       "\n",
       "       hours-per-week  \n",
       "19833              44  \n",
       "16480              40  \n",
       "46300              30  \n",
       "910                40  \n",
       "5031               45  "
      ]
     },
     "execution_count": 30,
     "metadata": {},
     "output_type": "execute_result"
    }
   ],
   "source": [
    "from sklearn.preprocessing import OrdinalEncoder\n",
    "\n",
    "pd.options.mode.chained_assignment = None\n",
    "\n",
    "oe = OrdinalEncoder(handle_unknown='use_encoded_value', unknown_value=-1)\n",
    "\n",
    "oe.fit(X_train[categ_features])\n",
    "\n",
    "X_train[categ_features] = oe.transform(X_train[categ_features])\n",
    "\n",
    "X_valid[categ_features] = oe.transform(X_valid[categ_features])\n",
    "\n",
    "X_train.head()"
   ]
  },
  {
   "cell_type": "markdown",
   "id": "40069dd7",
   "metadata": {},
   "source": [
    "#### Modelo random forest"
   ]
  },
  {
   "cell_type": "code",
   "execution_count": 31,
   "id": "0754d98c",
   "metadata": {},
   "outputs": [
    {
     "name": "stdout",
     "output_type": "stream",
     "text": [
      "(23932,) (10257,)\n"
     ]
    }
   ],
   "source": [
    "from sklearn.ensemble import RandomForestClassifier\n",
    "\n",
    "modelo = RandomForestClassifier(n_estimators=200, max_depth=6, min_samples_leaf=15, random_state=12)\n",
    "\n",
    "modelo.fit(X_train, y_train)\n",
    "\n",
    "y_train_pred = modelo.predict(X_train)\n",
    "\n",
    "y_valid_pred = modelo.predict(X_valid)\n",
    "\n",
    "print(y_train_pred.shape, y_valid_pred.shape)"
   ]
  },
  {
   "cell_type": "code",
   "execution_count": 32,
   "id": "ee766c05",
   "metadata": {},
   "outputs": [
    {
     "name": "stdout",
     "output_type": "stream",
     "text": [
      "Treino:\n",
      "Acc: 0.85, Precision: 0.80, Recall: 0.51\n",
      "Validação:\n",
      "Acc: 0.85, Precision: 0.81, Recall: 0.52\n"
     ]
    }
   ],
   "source": [
    "from sklearn.metrics import accuracy_score, precision_score, recall_score\n",
    "\n",
    "acc_train = accuracy_score(y_train, y_train_pred)\n",
    "prec_train = precision_score(y_train, y_train_pred)\n",
    "rec_train = recall_score(y_train, y_train_pred)\n",
    "\n",
    "acc_valid = accuracy_score(y_valid, y_valid_pred)\n",
    "prec_valid = precision_score(y_valid, y_valid_pred)\n",
    "rec_valid = recall_score(y_valid, y_valid_pred)\n",
    "\n",
    "print(f'Treino:\\nAcc: {acc_train:.2f}, Precision: {prec_train:.2f}, Recall: {rec_train:.2f}')\n",
    "print(f'Validação:\\nAcc: {acc_valid:.2f}, Precision: {prec_valid:.2f}, Recall: {rec_valid:.2f}')"
   ]
  },
  {
   "cell_type": "markdown",
   "id": "3eab577c",
   "metadata": {},
   "source": [
    "#### Gerando predict probabilísticos"
   ]
  },
  {
   "cell_type": "code",
   "execution_count": 33,
   "id": "36464523",
   "metadata": {},
   "outputs": [
    {
     "data": {
      "text/plain": [
       "array([1, 0, 0, ..., 0, 1, 1], dtype=int64)"
      ]
     },
     "execution_count": 33,
     "metadata": {},
     "output_type": "execute_result"
    }
   ],
   "source": [
    "# Os preditos do modelo são binários\n",
    "y_train_pred"
   ]
  },
  {
   "cell_type": "code",
   "execution_count": 34,
   "id": "b529f8d5",
   "metadata": {},
   "outputs": [
    {
     "data": {
      "text/plain": [
       "array([[0.20873728, 0.79126272],\n",
       "       [0.9707015 , 0.0292985 ],\n",
       "       [0.98928783, 0.01071217],\n",
       "       ...,\n",
       "       [0.98934565, 0.01065435],\n",
       "       [0.1958831 , 0.8041169 ],\n",
       "       [0.38892411, 0.61107589]])"
      ]
     },
     "execution_count": 34,
     "metadata": {},
     "output_type": "execute_result"
    }
   ],
   "source": [
    "# O método predict_proba() retorna probabilidades de ser 0 ou 1\n",
    "modelo.predict_proba(X_train)"
   ]
  },
  {
   "cell_type": "code",
   "execution_count": 35,
   "id": "554bf182",
   "metadata": {},
   "outputs": [],
   "source": [
    "# Função para converter probabilidade em 0 ou 1 a partir de um ponto de corte\n",
    "\n",
    "def get_prediction(y_pred_prob, corte):\n",
    "    y_pred_prob = y_pred_prob.copy()\n",
    "    mask = (y_pred_prob >= corte)\n",
    "    y_pred_prob[mask] = 1\n",
    "    y_pred_prob[~mask] = 0\n",
    "    \n",
    "    return y_pred_prob"
   ]
  },
  {
   "cell_type": "code",
   "execution_count": 36,
   "id": "61c1416b",
   "metadata": {},
   "outputs": [
    {
     "data": {
      "text/plain": [
       "[<matplotlib.lines.Line2D at 0x1a099823fa0>]"
      ]
     },
     "execution_count": 36,
     "metadata": {},
     "output_type": "execute_result"
    },
    {
     "data": {
      "image/png": "[encoded data removed]",
      "text/plain": [
       "<Figure size 432x288 with 1 Axes>"
      ]
     },
     "metadata": {
      "needs_background": "light"
     },
     "output_type": "display_data"
    }
   ],
   "source": [
    "import numpy as np\n",
    "from matplotlib import pyplot as plt\n",
    "\n",
    "y_pred_train_proba = modelo.predict_proba(X_train)[:,1] # seleciona a probabilidade de ser 1\n",
    "\n",
    "acuracias = []\n",
    "cortes = []\n",
    "\n",
    "for corte in np.linspace(0, 1, 101):\n",
    "\n",
    "    acc_train = accuracy_score(y_train, get_prediction(y_pred_train_proba, corte=corte))\n",
    "    \n",
    "    acuracias.append(acc_train)\n",
    "    cortes.append(corte)\n",
    "\n",
    "plt.plot(cortes, acuracias)"
   ]
  },
  {
   "cell_type": "code",
   "execution_count": 37,
   "id": "945e12aa",
   "metadata": {},
   "outputs": [
    {
     "name": "stdout",
     "output_type": "stream",
     "text": [
      "O melhor ponto de corte é em 0.49\n"
     ]
    }
   ],
   "source": [
    "acuracia_maxima = np.max(acuracias)\n",
    "\n",
    "melhor_corte = cortes[acuracias.index(acuracia_maxima)]\n",
    "\n",
    "print(f'O melhor ponto de corte é em {melhor_corte}')"
   ]
  },
  {
   "cell_type": "code",
   "execution_count": 38,
   "id": "db87528c",
   "metadata": {},
   "outputs": [
    {
     "name": "stdout",
     "output_type": "stream",
     "text": [
      "(23932,) (10257,)\n",
      "Treino:\n",
      "Acc: 0.8537, Precision: 0.7955, Recall: 0.5189\n",
      "Validação:\n",
      "Acc: 0.8541, Precision: 0.8071, Recall: 0.5324\n"
     ]
    }
   ],
   "source": [
    "# Métricas \n",
    "y_train_pred = get_prediction(modelo.predict_proba(X_train)[:,1], corte=melhor_corte)\n",
    "\n",
    "y_valid_pred = get_prediction(modelo.predict_proba(X_valid)[:,1], corte=melhor_corte)\n",
    "\n",
    "print(y_train_pred.shape, y_valid_pred.shape)\n",
    "\n",
    "acc_train = accuracy_score(y_train, y_train_pred)\n",
    "prec_train = precision_score(y_train, y_train_pred)\n",
    "rec_train = recall_score(y_train, y_train_pred)\n",
    "\n",
    "acc_valid = accuracy_score(y_valid, y_valid_pred)\n",
    "prec_valid = precision_score(y_valid, y_valid_pred)\n",
    "rec_valid = recall_score(y_valid, y_valid_pred)\n",
    "\n",
    "print(f'Treino:\\nAcc: {acc_train:.4f}, Precision: {prec_train:.4f}, Recall: {rec_train:.4f}')\n",
    "print(f'Validação:\\nAcc: {acc_valid:.4f}, Precision: {prec_valid:.4f}, Recall: {rec_valid:.4f}')"
   ]
  },
  {
   "cell_type": "markdown",
   "id": "40ba1815",
   "metadata": {},
   "source": [
    "### Teste"
   ]
  },
  {
   "cell_type": "code",
   "execution_count": 39,
   "id": "8bc037d1",
   "metadata": {},
   "outputs": [
    {
     "data": {
      "text/html": [
       "<div>\n",
       "<style scoped>\n",
       "    .dataframe tbody tr th:only-of-type {\n",
       "        vertical-align: middle;\n",
       "    }\n",
       "\n",
       "    .dataframe tbody tr th {\n",
       "        vertical-align: top;\n",
       "    }\n",
       "\n",
       "    .dataframe thead th {\n",
       "        text-align: right;\n",
       "    }\n",
       "</style>\n",
       "<table border=\"1\" class=\"dataframe\">\n",
       "  <thead>\n",
       "    <tr style=\"text-align: right;\">\n",
       "      <th></th>\n",
       "      <th>age</th>\n",
       "      <th>workclass</th>\n",
       "      <th>fnlwgt</th>\n",
       "      <th>education</th>\n",
       "      <th>educational-num</th>\n",
       "      <th>marital-status</th>\n",
       "      <th>occupation</th>\n",
       "      <th>relationship</th>\n",
       "      <th>race</th>\n",
       "      <th>gender</th>\n",
       "      <th>capital-gain</th>\n",
       "      <th>capital-loss</th>\n",
       "      <th>hours-per-week</th>\n",
       "      <th>native-country</th>\n",
       "      <th>income</th>\n",
       "    </tr>\n",
       "  </thead>\n",
       "  <tbody>\n",
       "    <tr>\n",
       "      <th>0</th>\n",
       "      <td>25</td>\n",
       "      <td>Private</td>\n",
       "      <td>226802</td>\n",
       "      <td>11th</td>\n",
       "      <td>7</td>\n",
       "      <td>Never-married</td>\n",
       "      <td>Machine-op-inspct</td>\n",
       "      <td>Own-child</td>\n",
       "      <td>Black</td>\n",
       "      <td>Male</td>\n",
       "      <td>0</td>\n",
       "      <td>0</td>\n",
       "      <td>40</td>\n",
       "      <td>United-States</td>\n",
       "      <td>&lt;=50K</td>\n",
       "    </tr>\n",
       "    <tr>\n",
       "      <th>1</th>\n",
       "      <td>38</td>\n",
       "      <td>Private</td>\n",
       "      <td>89814</td>\n",
       "      <td>HS-grad</td>\n",
       "      <td>9</td>\n",
       "      <td>Married-civ-spouse</td>\n",
       "      <td>Farming-fishing</td>\n",
       "      <td>Husband</td>\n",
       "      <td>White</td>\n",
       "      <td>Male</td>\n",
       "      <td>0</td>\n",
       "      <td>0</td>\n",
       "      <td>50</td>\n",
       "      <td>United-States</td>\n",
       "      <td>&lt;=50K</td>\n",
       "    </tr>\n",
       "    <tr>\n",
       "      <th>2</th>\n",
       "      <td>28</td>\n",
       "      <td>Local-gov</td>\n",
       "      <td>336951</td>\n",
       "      <td>Assoc-acdm</td>\n",
       "      <td>12</td>\n",
       "      <td>Married-civ-spouse</td>\n",
       "      <td>Protective-serv</td>\n",
       "      <td>Husband</td>\n",
       "      <td>White</td>\n",
       "      <td>Male</td>\n",
       "      <td>0</td>\n",
       "      <td>0</td>\n",
       "      <td>40</td>\n",
       "      <td>United-States</td>\n",
       "      <td>&gt;50K</td>\n",
       "    </tr>\n",
       "  </tbody>\n",
       "</table>\n",
       "</div>"
      ],
      "text/plain": [
       "   age  workclass  fnlwgt   education  educational-num      marital-status  \\\n",
       "0   25    Private  226802        11th                7       Never-married   \n",
       "1   38    Private   89814     HS-grad                9  Married-civ-spouse   \n",
       "2   28  Local-gov  336951  Assoc-acdm               12  Married-civ-spouse   \n",
       "\n",
       "          occupation relationship   race gender  capital-gain  capital-loss  \\\n",
       "0  Machine-op-inspct    Own-child  Black   Male             0             0   \n",
       "1    Farming-fishing      Husband  White   Male             0             0   \n",
       "2    Protective-serv      Husband  White   Male             0             0   \n",
       "\n",
       "   hours-per-week native-country income  \n",
       "0              40  United-States  <=50K  \n",
       "1              50  United-States  <=50K  \n",
       "2              40  United-States   >50K  "
      ]
     },
     "execution_count": 39,
     "metadata": {},
     "output_type": "execute_result"
    }
   ],
   "source": [
    "adult_test.head(3)"
   ]
  },
  {
   "cell_type": "code",
   "execution_count": 40,
   "id": "43b0819f",
   "metadata": {},
   "outputs": [],
   "source": [
    "# Tratando a target: string para int\n",
    "adult_test['income'] = adult_test['income'].map({'<=50K':0, '>50K':1})"
   ]
  },
  {
   "cell_type": "code",
   "execution_count": 41,
   "id": "42c6d0ee",
   "metadata": {},
   "outputs": [
    {
     "name": "stdout",
     "output_type": "stream",
     "text": [
      "(14653, 12) (14653,)\n"
     ]
    }
   ],
   "source": [
    "# \n",
    "y_test = adult_test['income'] # target do teste\n",
    "X_test = adult_test[categ_features + num_features]\n",
    "X_test[categ_features] = oe.transform(X_test[categ_features])\n",
    "print(X_test.shape, y_test.shape)"
   ]
  },
  {
   "cell_type": "code",
   "execution_count": 42,
   "id": "f6228ae3",
   "metadata": {},
   "outputs": [
    {
     "data": {
      "text/html": [
       "<div>\n",
       "<style scoped>\n",
       "    .dataframe tbody tr th:only-of-type {\n",
       "        vertical-align: middle;\n",
       "    }\n",
       "\n",
       "    .dataframe tbody tr th {\n",
       "        vertical-align: top;\n",
       "    }\n",
       "\n",
       "    .dataframe thead th {\n",
       "        text-align: right;\n",
       "    }\n",
       "</style>\n",
       "<table border=\"1\" class=\"dataframe\">\n",
       "  <thead>\n",
       "    <tr style=\"text-align: right;\">\n",
       "      <th></th>\n",
       "      <th>workclass</th>\n",
       "      <th>marital-status</th>\n",
       "      <th>occupation</th>\n",
       "      <th>relationship</th>\n",
       "      <th>race</th>\n",
       "      <th>gender</th>\n",
       "      <th>native-country</th>\n",
       "      <th>age</th>\n",
       "      <th>educational-num</th>\n",
       "      <th>capital-gain</th>\n",
       "      <th>capital-loss</th>\n",
       "      <th>hours-per-week</th>\n",
       "    </tr>\n",
       "  </thead>\n",
       "  <tbody>\n",
       "    <tr>\n",
       "      <th>0</th>\n",
       "      <td>4.0</td>\n",
       "      <td>4.0</td>\n",
       "      <td>7.0</td>\n",
       "      <td>3.0</td>\n",
       "      <td>2.0</td>\n",
       "      <td>1.0</td>\n",
       "      <td>39.0</td>\n",
       "      <td>25</td>\n",
       "      <td>7</td>\n",
       "      <td>0</td>\n",
       "      <td>0</td>\n",
       "      <td>40</td>\n",
       "    </tr>\n",
       "    <tr>\n",
       "      <th>1</th>\n",
       "      <td>4.0</td>\n",
       "      <td>2.0</td>\n",
       "      <td>5.0</td>\n",
       "      <td>0.0</td>\n",
       "      <td>4.0</td>\n",
       "      <td>1.0</td>\n",
       "      <td>39.0</td>\n",
       "      <td>38</td>\n",
       "      <td>9</td>\n",
       "      <td>0</td>\n",
       "      <td>0</td>\n",
       "      <td>50</td>\n",
       "    </tr>\n",
       "  </tbody>\n",
       "</table>\n",
       "</div>"
      ],
      "text/plain": [
       "   workclass  marital-status  occupation  relationship  race  gender  \\\n",
       "0        4.0             4.0         7.0           3.0   2.0     1.0   \n",
       "1        4.0             2.0         5.0           0.0   4.0     1.0   \n",
       "\n",
       "   native-country  age  educational-num  capital-gain  capital-loss  \\\n",
       "0            39.0   25                7             0             0   \n",
       "1            39.0   38                9             0             0   \n",
       "\n",
       "   hours-per-week  \n",
       "0              40  \n",
       "1              50  "
      ]
     },
     "execution_count": 42,
     "metadata": {},
     "output_type": "execute_result"
    }
   ],
   "source": [
    "X_test.head(2)"
   ]
  },
  {
   "cell_type": "code",
   "execution_count": 43,
   "id": "9f13cc15",
   "metadata": {},
   "outputs": [
    {
     "name": "stdout",
     "output_type": "stream",
     "text": [
      "Teste:\n",
      "Acc: 0.8607, Precision: 0.8177, Recall: 0.5307\n"
     ]
    }
   ],
   "source": [
    "y_test_pred = modelo.predict(X_test)\n",
    "\n",
    "acc_test = accuracy_score(y_test, y_test_pred)\n",
    "prec_test = precision_score(y_test, y_test_pred)\n",
    "rec_test = recall_score(y_test, y_test_pred)\n",
    "\n",
    "print(f'Teste:\\nAcc: {acc_test:.4f}, Precision: {prec_test:.4f}, Recall: {rec_test:.4f}')"
   ]
  },
  {
   "cell_type": "markdown",
   "id": "a4a8e73a",
   "metadata": {},
   "source": [
    "### Respostas\n",
    "\n",
    "Ao final do exercício, reporte:  \n",
    "\n",
    "1 - O tamanho da base utilizada para treino/validação e o tamanho da base utilizada para teste;  \n",
    "2 - Um gráfico de barras com a importância de cada variável no precesso de predição;  \n",
    "3 - A acurácia, precisão e recall de treino, validação e teste;  \n",
    "4 - Uma comparação com o desempenho de uma árvore de decisão simples.  \n"
   ]
  },
  {
   "cell_type": "code",
   "execution_count": 44,
   "id": "2a23f5b1",
   "metadata": {},
   "outputs": [
    {
     "name": "stdout",
     "output_type": "stream",
     "text": [
      "Tamanho das bases:\n",
      "Treino = 23932, validação = 10257 e teste = 14653\n"
     ]
    }
   ],
   "source": [
    "print('Tamanho das bases:')\n",
    "print(f'Treino = {X_train.shape[0]}, validação = {X_valid.shape[0]} e teste = {X_test.shape[0]}')"
   ]
  },
  {
   "cell_type": "code",
   "execution_count": 45,
   "id": "d82a33e7",
   "metadata": {},
   "outputs": [
    {
     "data": {
      "text/plain": [
       "<Figure size 1152x1152 with 0 Axes>"
      ]
     },
     "metadata": {},
     "output_type": "display_data"
    },
    {
     "data": {
      "image/png": "[encoded data removed]",
      "text/plain": [
       "<Figure size 432x288 with 1 Axes>"
      ]
     },
     "metadata": {
      "needs_background": "light"
     },
     "output_type": "display_data"
    }
   ],
   "source": [
    "from matplotlib import pyplot as plt\n",
    "\n",
    "df_importance = pd.DataFrame({\n",
    "    'features': X_train.columns,\n",
    "    'importances': modelo.feature_importances_}).sort_values('importances', ascending=False)\n",
    "\n",
    "plt.figure(figsize=(16, 16))\n",
    "df_importance.plot.bar(x='features', y='importances');"
   ]
  },
  {
   "cell_type": "code",
   "execution_count": 46,
   "id": "be69cb20",
   "metadata": {},
   "outputs": [
    {
     "name": "stdout",
     "output_type": "stream",
     "text": [
      "Treino:\n",
      "Acc: 0.8537, Precision: 0.7955, Recall: 0.5189\n",
      "Validação:\n",
      "Acc: 0.8541, Precision: 0.8071, Recall: 0.5324\n",
      "Teste:\n",
      "Acc: 0.8607, Precision: 0.8177, Recall: 0.5307\n"
     ]
    }
   ],
   "source": [
    "print(f'Treino:\\nAcc: {acc_train:.4f}, Precision: {prec_train:.4f}, Recall: {rec_train:.4f}')\n",
    "print(f'Validação:\\nAcc: {acc_valid:.4f}, Precision: {prec_valid:.4f}, Recall: {rec_valid:.4f}')\n",
    "print(f'Teste:\\nAcc: {acc_test:.4f}, Precision: {prec_test:.4f}, Recall: {rec_test:.4f}')"
   ]
  },
  {
   "cell_type": "markdown",
   "id": "ca49f2d4",
   "metadata": {},
   "source": [
    "#### Árvore de decisão simples"
   ]
  },
  {
   "cell_type": "code",
   "execution_count": 47,
   "id": "78893f58",
   "metadata": {},
   "outputs": [
    {
     "data": {
      "text/plain": [
       "DecisionTreeClassifier(max_depth=4, min_samples_leaf=15, random_state=23)"
      ]
     },
     "execution_count": 47,
     "metadata": {},
     "output_type": "execute_result"
    }
   ],
   "source": [
    "from sklearn.tree import DecisionTreeClassifier\n",
    "\n",
    "arvore = DecisionTreeClassifier(max_depth=4, min_samples_leaf=15, random_state=23)\n",
    "\n",
    "arvore.fit(X_train, y_train)"
   ]
  },
  {
   "cell_type": "code",
   "execution_count": 48,
   "id": "36fa1dea",
   "metadata": {},
   "outputs": [],
   "source": [
    "y_train_pred_arvore = arvore.predict(X_train)\n",
    "\n",
    "y_valid_pred_arvore = arvore.predict(X_valid)"
   ]
  },
  {
   "cell_type": "code",
   "execution_count": 49,
   "id": "e38e8c94",
   "metadata": {},
   "outputs": [
    {
     "name": "stdout",
     "output_type": "stream",
     "text": [
      "Treino:\n",
      "Acc: 0.85, Precision: 0.77, Recall: 0.50\n",
      "Validação:\n",
      "Acc: 0.84, Precision: 0.78, Recall: 0.50\n"
     ]
    }
   ],
   "source": [
    "acc_train = accuracy_score(y_train, y_train_pred_arvore)\n",
    "prec_train = precision_score(y_train, y_train_pred_arvore)\n",
    "rec_train = recall_score(y_train, y_train_pred_arvore)\n",
    "\n",
    "acc_valid = accuracy_score(y_valid, y_valid_pred_arvore)\n",
    "prec_valid = precision_score(y_valid, y_valid_pred_arvore)\n",
    "rec_valid = recall_score(y_valid, y_valid_pred_arvore)\n",
    "\n",
    "print(f'Treino:\\nAcc: {acc_train:.2f}, Precision: {prec_train:.2f}, Recall: {rec_train:.2f}')\n",
    "print(f'Validação:\\nAcc: {acc_valid:.2f}, Precision: {prec_valid:.2f}, Recall: {rec_valid:.2f}')"
   ]
  },
  {
   "cell_type": "markdown",
   "id": "4f1726a9",
   "metadata": {},
   "source": [
    "O desempenho do modelo random forest é ligeiramente superior ao de uma árvore simples"
   ]
  }
 ],
 "metadata": {
  "kernelspec": {
   "display_name": "Python 3 (ipykernel)",
   "language": "python",
   "name": "python3"
  },
  "language_info": {
   "codemirror_mode": {
    "name": "ipython",
    "version": 3
   },
   "file_extension": ".py",
   "mimetype": "text/x-python",
   "name": "python",
   "nbconvert_exporter": "python",
   "pygments_lexer": "ipython3",
   "version": "3.9.5"
  }
 },
 "nbformat": 4,
 "nbformat_minor": 5
}
