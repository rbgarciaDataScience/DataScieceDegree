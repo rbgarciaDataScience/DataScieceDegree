{
 "cells": [
  {
   "cell_type": "markdown",
   "metadata": {},
   "source": [
    "Módulo: Bibliotecas e APIs (Python)<br>\n",
    "Lista: NumPy 2<br>\n",
    "Data: 08/2021<br>"
   ]
  },
  {
   "cell_type": "code",
   "execution_count": 1,
   "metadata": {},
   "outputs": [],
   "source": [
    "import numpy as np"
   ]
  },
  {
   "cell_type": "markdown",
   "metadata": {},
   "source": [
    "**Q1:** Printe os elementos dos seguintes dois vetores usando apenas um for:\n",
    "\n",
    "arr = np.array([[[1, 2, 3], [4, 5, 6]], [[7, 8, 9], [10, 11, 12]]])\n",
    "\n",
    "Depois, faça o mesmo usando numpy (usando a função nditer) e deixe um comentário sobre a diferença dos dois métodos."
   ]
  },
  {
   "cell_type": "code",
   "execution_count": 2,
   "metadata": {},
   "outputs": [
    {
     "data": {
      "text/plain": [
       "array([[[ 1,  2,  3],\n",
       "        [ 4,  5,  6]],\n",
       "\n",
       "       [[ 7,  8,  9],\n",
       "        [10, 11, 12]]])"
      ]
     },
     "execution_count": 2,
     "metadata": {},
     "output_type": "execute_result"
    }
   ],
   "source": [
    "# Criando o array\n",
    "arr = np.array([[[1, 2, 3], [4, 5, 6]], [[7, 8, 9], [10, 11, 12]]])\n",
    "arr"
   ]
  },
  {
   "cell_type": "code",
   "execution_count": 3,
   "metadata": {},
   "outputs": [
    {
     "data": {
      "text/plain": [
       "(3, (2, 2, 3))"
      ]
     },
     "execution_count": 3,
     "metadata": {},
     "output_type": "execute_result"
    }
   ],
   "source": [
    "# Analisando a dimensão e o shape do array arr:\n",
    "arr.ndim, arr.shape"
   ]
  },
  {
   "cell_type": "code",
   "execution_count": 4,
   "metadata": {},
   "outputs": [
    {
     "name": "stdout",
     "output_type": "stream",
     "text": [
      "[[1 2 3]\n",
      " [4 5 6]]\n",
      "[[ 7  8  9]\n",
      " [10 11 12]]\n"
     ]
    }
   ],
   "source": [
    "# Print dos elementos do array arr: [[1,2,3], [4,5,6]] e [[7,8,9], [10,11,12]]\n",
    "for element in arr: \n",
    "    print(element) "
   ]
  },
  {
   "cell_type": "code",
   "execution_count": 5,
   "metadata": {},
   "outputs": [
    {
     "name": "stdout",
     "output_type": "stream",
     "text": [
      "Com for:\n",
      "1\n",
      "2\n",
      "3\n",
      "4\n",
      "5\n",
      "6\n",
      "7\n",
      "8\n",
      "9\n",
      "10\n",
      "11\n",
      "12\n",
      "Com nditer:\n",
      "1\n",
      "2\n",
      "3\n",
      "4\n",
      "5\n",
      "6\n",
      "7\n",
      "8\n",
      "9\n",
      "10\n",
      "11\n",
      "12\n"
     ]
    }
   ],
   "source": [
    "# Para fazer um print dos elementos individuais, podemos usar \"for\" ou \"nditer\"\n",
    "print(\"Com for:\")\n",
    "for i in range(arr.shape[0]):\n",
    "    for j in range(arr.shape[1]):\n",
    "        for k in range(arr.shape[2]):\n",
    "            print(arr[i,j,k])\n",
    "            \n",
    "print(\"Com nditer:\")\n",
    "for x in np.nditer(arr):\n",
    "    print(x)"
   ]
  },
  {
   "cell_type": "markdown",
   "metadata": {},
   "source": [
    "O método nditer é otimizado para percorrer arrays e torna o código mais eficiente. Podemos ver que com o nditer apenas um for foi necessário. Se usarmos somente for, precisamos de 3 níveis para percorrer os elementos individuais."
   ]
  },
  {
   "cell_type": "markdown",
   "metadata": {},
   "source": [
    "**Q2:** Peça para o usuário uma lista com as comidas favoritas dele, depois transforme isso em um objeto numpy. Agora transformado, elimine todas as comidas que começam com uma vogal. Mostre o resultado.\n",
    "\n",
    "Exemplo:\n",
    "\n",
    "    Entrada: [maçã, uva, morango, melancia, acelga]\n",
    "\n",
    "    Saída: [maçã, morango, melancia]\n",
    "\n",
    " "
   ]
  },
  {
   "cell_type": "code",
   "execution_count": 6,
   "metadata": {},
   "outputs": [
    {
     "name": "stdout",
     "output_type": "stream",
     "text": [
      "Informe suas comidas favoritas.\n",
      "\n",
      "\n",
      "Digite uma comida favorita (digite 'fim' para encerrar): ameixa\n",
      "Digite uma comida favorita (digite 'fim' para encerrar): maçã\n",
      "Digite uma comida favorita (digite 'fim' para encerrar): uva\n",
      "Digite uma comida favorita (digite 'fim' para encerrar): caqui\n",
      "Digite uma comida favorita (digite 'fim' para encerrar): abacaxi\n",
      "Digite uma comida favorita (digite 'fim' para encerrar): melão\n",
      "Digite uma comida favorita (digite 'fim' para encerrar): mamão\n",
      "Digite uma comida favorita (digite 'fim' para encerrar): fim\n",
      "['maçã' 'caqui' 'melão' 'mamão']\n"
     ]
    }
   ],
   "source": [
    "print(\"Informe suas comidas favoritas.\\n\\n\")\n",
    "\n",
    "comidas_favoritas = [] # Lista para armazenar as entradas inseridas\n",
    "resposta = input(\"Digite uma comida favorita (digite 'fim' para encerrar): \")\n",
    "while resposta != 'fim':\n",
    "    comidas_favoritas.append(resposta)\n",
    "    resposta = input(\"Digite uma comida favorita (digite 'fim' para encerrar): \")\n",
    "\n",
    "# Transformar a lista de comidas em numpy array (facilita manipular strings)\n",
    "comidas_favoritas = np.array(comidas_favoritas)\n",
    "\n",
    "vogais = ['a', 'e', 'i', 'o', 'u'] # lista com as vogais\n",
    "\n",
    "letras_iniciais = np.char.rjust(comidas_favoritas, 1) # seleciona só as letras iniciais\n",
    "indices_para_excluir = np.where(np.in1d(letras_iniciais, vogais)) # índices onde as vogais são vistas\n",
    "comidas_favoritas = np.delete(comidas_favoritas, indices_para_excluir) # deleta is itens do array\n",
    "\n",
    "print(comidas_favoritas)"
   ]
  },
  {
   "cell_type": "markdown",
   "metadata": {},
   "source": [
    "**Q3:** Imprima a dimensão dos seguintes objetos numpy:\n",
    "\n",
    "    a = np.array(2)\n",
    "\n",
    "    b = np.array([1, 2, 3, 4, 5])\n",
    "\n",
    "    c = np.array([[1, 2, 3], [4, 5, 6]])\n",
    "\n",
    "    d = np.array([[[1, 2, 3], [4, 5, 6]], [[7, 8, 9], [10, 11, 12]]])\n",
    "\n"
   ]
  },
  {
   "cell_type": "code",
   "execution_count": 7,
   "metadata": {},
   "outputs": [
    {
     "name": "stdout",
     "output_type": "stream",
     "text": [
      "Array:\n",
      " 2\n",
      "shape: () \n",
      "\n",
      "Array:\n",
      " [1 2 3 4 5]\n",
      "shape: (5,) \n",
      "\n",
      "Array:\n",
      " [[1 2 3]\n",
      " [4 5 6]]\n",
      "shape: (2, 3) \n",
      "\n",
      "Array:\n",
      " [[[ 1  2  3]\n",
      "  [ 4  5  6]]\n",
      "\n",
      " [[ 7  8  9]\n",
      "  [10 11 12]]]\n",
      "shape: (2, 2, 3) \n",
      "\n"
     ]
    }
   ],
   "source": [
    "objetos_numpy = [\n",
    "    np.array(2),\n",
    "    np.array([1, 2, 3, 4, 5]),\n",
    "    np.array([[1, 2, 3],[4, 5, 6]]),\n",
    "    np.array([[[1, 2, 3], [4, 5, 6]], [[7, 8, 9], [10, 11, 12]]])\n",
    "]\n",
    "\n",
    "for objeto_numpy in objetos_numpy:\n",
    "    print('Array:\\n', objeto_numpy)\n",
    "    print('shape:', objeto_numpy.shape, '\\n')"
   ]
  },
  {
   "cell_type": "markdown",
   "metadata": {},
   "source": [
    "**Q4:** Transforme o array em uma matriz 4 por 3 utilizando numpy.\n",
    "\n",
    "    arr = [1, 2, 3, 4, 'Amelia, 'Bruna, 'Carolina', 'Débora', True, False, False, True]\n",
    "\n",
    "Depois, faça o mesmo para uma matriz 3 por 4.\n"
   ]
  },
  {
   "cell_type": "code",
   "execution_count": 8,
   "metadata": {},
   "outputs": [
    {
     "data": {
      "text/plain": [
       "array(['1', '2', '3', '4', 'Amelia', 'Bruna', 'Carolina', 'Débora',\n",
       "       'True', 'False', 'False', 'True'], dtype='<U11')"
      ]
     },
     "execution_count": 8,
     "metadata": {},
     "output_type": "execute_result"
    }
   ],
   "source": [
    "arr = [1, 2, 3, 4, 'Amelia', 'Bruna', 'Carolina', 'Débora', True, False, False, True]\n",
    "arr = np.array(arr)\n",
    "arr"
   ]
  },
  {
   "cell_type": "code",
   "execution_count": 9,
   "metadata": {},
   "outputs": [
    {
     "data": {
      "text/plain": [
       "array([['1', '2', '3'],\n",
       "       ['4', 'Amelia', 'Bruna'],\n",
       "       ['Carolina', 'Débora', 'True'],\n",
       "       ['False', 'False', 'True']], dtype='<U11')"
      ]
     },
     "execution_count": 9,
     "metadata": {},
     "output_type": "execute_result"
    }
   ],
   "source": [
    "arr.reshape(4,3)"
   ]
  },
  {
   "cell_type": "code",
   "execution_count": 10,
   "metadata": {},
   "outputs": [
    {
     "data": {
      "text/plain": [
       "array([['1', '2', '3', '4'],\n",
       "       ['Amelia', 'Bruna', 'Carolina', 'Débora'],\n",
       "       ['True', 'False', 'False', 'True']], dtype='<U11')"
      ]
     },
     "execution_count": 10,
     "metadata": {},
     "output_type": "execute_result"
    }
   ],
   "source": [
    "arr.reshape(3,4)"
   ]
  },
  {
   "cell_type": "markdown",
   "metadata": {},
   "source": [
    "**Q5:** Transforme o seguinte array em uma matriz 3D 3x3x3:\n",
    "\n",
    "    arr = range(27)\n",
    "\n",
    "Deixe um comentário explicando o que significa uma matriz 3D.\n"
   ]
  },
  {
   "cell_type": "code",
   "execution_count": 11,
   "metadata": {},
   "outputs": [
    {
     "data": {
      "text/plain": [
       "array([ 0,  1,  2,  3,  4,  5,  6,  7,  8,  9, 10, 11, 12, 13, 14, 15, 16,\n",
       "       17, 18, 19, 20, 21, 22, 23, 24, 25, 26])"
      ]
     },
     "execution_count": 11,
     "metadata": {},
     "output_type": "execute_result"
    }
   ],
   "source": [
    "arr = np.arange(27)\n",
    "arr"
   ]
  },
  {
   "cell_type": "code",
   "execution_count": 12,
   "metadata": {},
   "outputs": [
    {
     "data": {
      "text/plain": [
       "array([[[ 0,  1,  2],\n",
       "        [ 3,  4,  5],\n",
       "        [ 6,  7,  8]],\n",
       "\n",
       "       [[ 9, 10, 11],\n",
       "        [12, 13, 14],\n",
       "        [15, 16, 17]],\n",
       "\n",
       "       [[18, 19, 20],\n",
       "        [21, 22, 23],\n",
       "        [24, 25, 26]]])"
      ]
     },
     "execution_count": 12,
     "metadata": {},
     "output_type": "execute_result"
    }
   ],
   "source": [
    "arr.reshape(3,3,3)"
   ]
  },
  {
   "cell_type": "markdown",
   "metadata": {},
   "source": [
    "Uma matriz de 3 dimensões tem um nível adicional de aninhamento de elementos além do #nível de linhas e colunas. Da mesma forma que uma matriz (2D) é uma lista de linhas, uma matriz 3D é uma lista de matrizes. Pode imaginar como se fossem várias matrizes uma atrás da outra, cada uma constituindo uma camada de um cubo."
   ]
  },
  {
   "cell_type": "markdown",
   "metadata": {},
   "source": [
    "**Q6:** Tente transformar o seguinte array em uma matriz 3x3x3\n",
    "\n",
    "    arr = [1, 2, 3, 4, 5, 6, 7, 8]\n",
    "\n",
    "Funciona? Se sim, explique o motivo. Se não, explique o erro.\n"
   ]
  },
  {
   "cell_type": "code",
   "execution_count": 13,
   "metadata": {},
   "outputs": [
    {
     "data": {
      "text/plain": [
       "array([1, 2, 3, 4, 5, 6, 7, 8])"
      ]
     },
     "execution_count": 13,
     "metadata": {},
     "output_type": "execute_result"
    }
   ],
   "source": [
    "arr = np.array([1, 2, 3, 4, 5, 6, 7, 8])\n",
    "arr"
   ]
  },
  {
   "cell_type": "markdown",
   "metadata": {},
   "source": [
    "arr.reshape(3,3,3) não funciona, pois não é possível organizar os 8 elementos em 3 linhas, 3 colunas e 3 elementos. A mensagem de erro diz: array de tamanho 8 não pode ser formatado em 3 x 3 x 3. 8 elementos podem ser agrupados em 2 linhas, 2 colunas e 2 elementos: arr2 = np.array(arr).reshape(2,2,2) <br>\n",
    "Para arranjar em 3 x 3 x 3 são necessários 27 elementos."
   ]
  },
  {
   "cell_type": "code",
   "execution_count": 14,
   "metadata": {},
   "outputs": [
    {
     "data": {
      "text/plain": [
       "(2, 2, 2)"
      ]
     },
     "execution_count": 14,
     "metadata": {},
     "output_type": "execute_result"
    }
   ],
   "source": [
    "arr.reshape(2,2,2).shape"
   ]
  },
  {
   "cell_type": "markdown",
   "metadata": {},
   "source": [
    "**Q7:** Percorra o seguinte array utilizando for encaixado:\n",
    "\n",
    "    arr = [[[1, 2], [3, 4]], [[5, 6], [7, 8]]]\n",
    "\n",
    "Agora, percorra o mesmo array utilizando a função nditer de numpy.\n"
   ]
  },
  {
   "cell_type": "code",
   "execution_count": 15,
   "metadata": {},
   "outputs": [
    {
     "data": {
      "text/plain": [
       "array([[[1, 2],\n",
       "        [3, 4]],\n",
       "\n",
       "       [[5, 6],\n",
       "        [7, 8]]])"
      ]
     },
     "execution_count": 15,
     "metadata": {},
     "output_type": "execute_result"
    }
   ],
   "source": [
    "arr = [[[1, 2], [3, 4]], [[5, 6], [7, 8]]]\n",
    "arr = np.array(arr)\n",
    "arr"
   ]
  },
  {
   "cell_type": "code",
   "execution_count": 16,
   "metadata": {},
   "outputs": [
    {
     "name": "stdout",
     "output_type": "stream",
     "text": [
      "Percorrendo arr usando somente for:\n",
      "1\n",
      "2\n",
      "3\n",
      "4\n",
      "5\n",
      "6\n",
      "7\n",
      "8\n",
      "Percorrendo arr usando nditer: \n",
      "1\n",
      "2\n",
      "3\n",
      "4\n",
      "5\n",
      "6\n",
      "7\n",
      "8\n"
     ]
    }
   ],
   "source": [
    "print('Percorrendo arr usando somente for:')\n",
    "for i in range(arr.shape[0]):\n",
    "    for j in range(arr.shape[1]):\n",
    "        for k in range(arr.shape[2]):\n",
    "            print(arr[i, j, k])\n",
    "\n",
    "print(\"Percorrendo arr usando nditer: \")\n",
    "for x in np.nditer(arr):\n",
    "    print(x)"
   ]
  },
  {
   "cell_type": "markdown",
   "metadata": {},
   "source": [
    "**Q8:** Percorra os indexes do seguinte array utilizando for encaixado:\n",
    "\n",
    "    arr = [[[1, 2], [3, 4]], [[5, 6], [7, 8]]]\n",
    "\n",
    "Agora faça o mesmo trabalho utilizando a função ndenumerate.\n"
   ]
  },
  {
   "cell_type": "code",
   "execution_count": 17,
   "metadata": {},
   "outputs": [
    {
     "name": "stdout",
     "output_type": "stream",
     "text": [
      "Percorrendo arr com for encaixado: \n",
      "1\n",
      "2\n",
      "3\n",
      "4\n",
      "5\n",
      "6\n",
      "7\n",
      "8\n",
      "Percorrendo arr com np.ndenumerate: \n",
      "1\n",
      "2\n",
      "3\n",
      "4\n",
      "5\n",
      "6\n",
      "7\n",
      "8\n"
     ]
    }
   ],
   "source": [
    "print(\"Percorrendo arr com for encaixado: \")\n",
    "for i in range(arr.shape[0]):\n",
    "    for j in range(arr.shape[1]):\n",
    "        for k in range(arr.shape[2]):\n",
    "            print(arr[i, j, k])\n",
    "\n",
    "print(\"Percorrendo arr com np.ndenumerate: \")\n",
    "for index, value in np.ndenumerate(arr):\n",
    "    print(arr[index])"
   ]
  },
  {
   "cell_type": "markdown",
   "metadata": {},
   "source": [
    "**Q9:** Junte os dois seguintes arrays na horizontal:\n",
    "\n",
    "    arr1 = [1, 2, 3]\n",
    "\n",
    "    arr2 = [4, 5, 6]\n",
    "\n",
    "Depois, os junte verticalmente."
   ]
  },
  {
   "cell_type": "code",
   "execution_count": 18,
   "metadata": {},
   "outputs": [],
   "source": [
    "arr1 = np.array([1, 2, 3])\n",
    "arr2 = np.array([4, 5, 6])"
   ]
  },
  {
   "cell_type": "code",
   "execution_count": 19,
   "metadata": {},
   "outputs": [
    {
     "data": {
      "text/plain": [
       "array([1, 2, 3, 4, 5, 6])"
      ]
     },
     "execution_count": 19,
     "metadata": {},
     "output_type": "execute_result"
    }
   ],
   "source": [
    "# Juntando na horizontal\n",
    "arr_h = np.hstack([arr1, arr2])\n",
    "arr_h"
   ]
  },
  {
   "cell_type": "code",
   "execution_count": 20,
   "metadata": {},
   "outputs": [
    {
     "data": {
      "text/plain": [
       "array([[1, 2, 3],\n",
       "       [4, 5, 6]])"
      ]
     },
     "execution_count": 20,
     "metadata": {},
     "output_type": "execute_result"
    }
   ],
   "source": [
    "# Juntando na vertical\n",
    "arr_v = np.vstack([arr1, arr2])\n",
    "arr_v"
   ]
  },
  {
   "cell_type": "markdown",
   "metadata": {},
   "source": [
    "**Q10:** DESAFIO: Utilizando manipulação de arrays, ache os indexes do array cujo valor possua apenas 2 vogais no nome usando numpy.\n",
    "\n",
    "frutas = ['banana', 'morango, 'uva', 'pitaia', 'abacate', 'abacaxi', 'acerola', 'jenipapo', 'kiwi']"
   ]
  },
  {
   "cell_type": "code",
   "execution_count": 21,
   "metadata": {},
   "outputs": [
    {
     "name": "stdout",
     "output_type": "stream",
     "text": [
      "[2 8]\n"
     ]
    }
   ],
   "source": [
    "frutas = np.array([\n",
    "    'banana',\n",
    "    'morango',\n",
    "    'uva',\n",
    "    'pitaia',\n",
    "    'abacate',\n",
    "    'abacaxi',\n",
    "    'acerola',\n",
    "    'jenipapo',\n",
    "    'kiwi'\n",
    "])\n",
    "\n",
    "vogais = ['a', 'e', 'i', 'o', 'u']\n",
    "\n",
    "contagens = sum([np.char.count(frutas, vogal) for vogal in vogais])\n",
    "indices = np.where(contagens == 2)[0]\n",
    "\n",
    "print(indices)"
   ]
  },
  {
   "cell_type": "markdown",
   "metadata": {},
   "source": [
    "**Q11:** a) Tranforme o seguinte array 2D em dois arrays 2D:\n",
    "\n",
    "    arr = [[1, 2], [3, 4], [5, 6], [7, 8]]\n",
    "\n",
    "b) Transforme o seguinte array em três arrays com apenas uma coluna:\n",
    "\n",
    "    arr = [[1, 2, 3], [4, 5, 6], [7, 8, 9]]"
   ]
  },
  {
   "cell_type": "code",
   "execution_count": 22,
   "metadata": {},
   "outputs": [
    {
     "name": "stdout",
     "output_type": "stream",
     "text": [
      "Array original:\n",
      "[[1 2]\n",
      " [3 4]\n",
      " [5 6]\n",
      " [7 8]]\n",
      "Shape: (4, 2)\n",
      "Array transformado:\n",
      "[[1 2 3 4]\n",
      " [5 6 7 8]]\n",
      "Shape: (2, 4)\n"
     ]
    }
   ],
   "source": [
    "arr_a = np.array([[1, 2], [3, 4], [5, 6], [7, 8]])\n",
    "print('Array original:')\n",
    "print(arr_a)\n",
    "print('Shape:',arr_a.shape)\n",
    "print ('Array transformado:')\n",
    "arr_a2 = arr.reshape(2,4)\n",
    "print(arr_a2)\n",
    "print('Shape:',arr_a2.shape)"
   ]
  },
  {
   "cell_type": "code",
   "execution_count": 23,
   "metadata": {},
   "outputs": [
    {
     "name": "stdout",
     "output_type": "stream",
     "text": [
      "[[1 2 3]\n",
      " [4 5 6]\n",
      " [7 8 9]]\n",
      "[array([[1],\n",
      "       [4],\n",
      "       [7]]), array([[2],\n",
      "       [5],\n",
      "       [8]]), array([[3],\n",
      "       [6],\n",
      "       [9]])]\n"
     ]
    }
   ],
   "source": [
    "arr = np.array([[1, 2, 3], [4, 5, 6], [7, 8, 9]])\n",
    "arrays = np.hsplit(arr, 3)\n",
    "print(arr)\n",
    "print(arrays)"
   ]
  },
  {
   "cell_type": "code",
   "execution_count": 24,
   "metadata": {},
   "outputs": [
    {
     "name": "stdout",
     "output_type": "stream",
     "text": [
      "Array 0: \n",
      " [[1]\n",
      " [4]\n",
      " [7]]\n",
      "Array 1: \n",
      " [[2]\n",
      " [5]\n",
      " [8]]\n",
      "Array 2: \n",
      " [[3]\n",
      " [6]\n",
      " [9]]\n"
     ]
    }
   ],
   "source": [
    "for i in range(len(arrays)):\n",
    "    print(f'Array {i}: \\n', arrays[i])"
   ]
  },
  {
   "cell_type": "markdown",
   "metadata": {},
   "source": [
    "**Q12:** **DESAFIO:** Utilizando manipulação de arrays, vamos seguir um conjunto de passos para organizar alguns dados. Teremos nesse seguinte array uma ordem que segue:\n",
    "\n",
    "    [Nome do aluno, idade, 'gênero', signo, altura, nota do 1° semestre, nota do 2° bimestre, se está ou não inscrito no próximo ano da escola, nome do outro aluno, idade do outro aluno...]\n",
    "\n",
    "    arr = ['Amélia', 13, 'F', 'peixes', 1.51, 9, 7, True, 'Bruno', 14, 'O', 'leão', 1.60, 4, 10, False, 'João', 14, 'M', 'escorpião', 1.58, 8, 9, True, 'Jordana', 13, 'F', 'escorpião', 1.72, 9, 9, False]\n",
    "\n",
    "a) Enumere os indexes de todas as informações que são do tipo string.\n",
    "\n",
    "b) Separe essas informações do objeto arr de forma que cada aluno tenha seu próprio array.\n",
    "\n",
    "c) Separe em duas colunas, a primeira com o nome, a idade, o gênero e o signo e a segunda com a altura, nota do primeiro bimestre, nota do segundo bimestre e se está ou não inscrito no próximo ano.\n",
    "\n",
    "d) Elimine o gênero de todos os arrays cujos alunos tem menos de 14 anos.\n"
   ]
  },
  {
   "cell_type": "code",
   "execution_count": 25,
   "metadata": {},
   "outputs": [],
   "source": [
    "lista = ['Amélia', 13, 'F', 'peixes',\n",
    "         1.51, 9, 7, True, 'Bruno', \n",
    "         14, 'O', 'leão', 1.60, \n",
    "         4, 10, False, 'João', \n",
    "         14, 'M', 'escorpião', \n",
    "         1.58, 8, 9, True, \n",
    "         'Jordana', 13, 'F', \n",
    "         'escorpião', 1.72, 9, 9, False]"
   ]
  },
  {
   "cell_type": "code",
   "execution_count": 26,
   "metadata": {},
   "outputs": [
    {
     "data": {
      "text/plain": [
       "array(['Amélia', '13', 'F', 'peixes', '1.51', '9', '7', 'True', 'Bruno',\n",
       "       '14', 'O', 'leão', '1.6', '4', '10', 'False', 'João', '14', 'M',\n",
       "       'escorpião', '1.58', '8', '9', 'True', 'Jordana', '13', 'F',\n",
       "       'escorpião', '1.72', '9', '9', 'False'], dtype='<U32')"
      ]
     },
     "execution_count": 26,
     "metadata": {},
     "output_type": "execute_result"
    }
   ],
   "source": [
    "arr = np.array(lista)\n",
    "arr"
   ]
  },
  {
   "cell_type": "code",
   "execution_count": 27,
   "metadata": {},
   "outputs": [
    {
     "data": {
      "text/plain": [
       "(1, (32,))"
      ]
     },
     "execution_count": 27,
     "metadata": {},
     "output_type": "execute_result"
    }
   ],
   "source": [
    "arr.ndim, arr.shape"
   ]
  },
  {
   "cell_type": "code",
   "execution_count": 28,
   "metadata": {},
   "outputs": [
    {
     "name": "stdout",
     "output_type": "stream",
     "text": [
      "[ 0  2  3  7  8 10 11 15 16 18 19 23 24 26 27 31]\n"
     ]
    }
   ],
   "source": [
    "#a) \n",
    "indices = np.where(np.char.isalpha(arr))[0]\n",
    "print(indices)"
   ]
  },
  {
   "cell_type": "code",
   "execution_count": 29,
   "metadata": {},
   "outputs": [
    {
     "name": "stdout",
     "output_type": "stream",
     "text": [
      "[array(['Amélia', '13', 'F', 'peixes', '1.51', '9', '7', 'True'],\n",
      "      dtype='<U32'), array(['Bruno', '14', 'O', 'leão', '1.6', '4', '10', 'False'],\n",
      "      dtype='<U32'), array(['João', '14', 'M', 'escorpião', '1.58', '8', '9', 'True'],\n",
      "      dtype='<U32'), array(['Jordana', '13', 'F', 'escorpião', '1.72', '9', '9', 'False'],\n",
      "      dtype='<U32')]\n"
     ]
    }
   ],
   "source": [
    "# b)\n",
    "alunos = np.split(arr,(4)) # separa o array dados em 4 arrays\n",
    "print(alunos)"
   ]
  },
  {
   "cell_type": "code",
   "execution_count": 30,
   "metadata": {},
   "outputs": [
    {
     "name": "stdout",
     "output_type": "stream",
     "text": [
      "[['Amélia' '13' 'F' 'peixes']\n",
      " ['Bruno' '14' 'O' 'leão']\n",
      " ['João' '14' 'M' 'escorpião']\n",
      " ['Jordana' '13' 'F' 'escorpião']]\n",
      "[['1.51' '9' '7' 'True']\n",
      " ['1.6' '4' '10' 'False']\n",
      " ['1.58' '8' '9' 'True']\n",
      " ['1.72' '9' '9' 'False']]\n"
     ]
    }
   ],
   "source": [
    "# c)\n",
    "coluna1, coluna2 = np.hsplit(arr.reshape(-1, 8), 2)\n",
    "print(coluna1)\n",
    "print(coluna2)"
   ]
  },
  {
   "cell_type": "code",
   "execution_count": 31,
   "metadata": {},
   "outputs": [
    {
     "name": "stdout",
     "output_type": "stream",
     "text": [
      "[['Amélia' '13' 'None' 'peixes']\n",
      " ['Bruno' '14' 'O' 'leão']\n",
      " ['João' '14' 'M' 'escorpião']\n",
      " ['Jordana' '13' 'None' 'escorpião']]\n"
     ]
    }
   ],
   "source": [
    "# d)\n",
    "def delete_gender(x):\n",
    "    if int(x[1]) < 14:\n",
    "        x[2] = None\n",
    "    return x\n",
    "\n",
    "sem_genero = np.apply_along_axis(delete_gender, axis=1, arr=coluna1)\n",
    "print(sem_genero)"
   ]
  }
 ],
 "metadata": {
  "kernelspec": {
   "display_name": "Python 3",
   "language": "python",
   "name": "python3"
  },
  "language_info": {
   "codemirror_mode": {
    "name": "ipython",
    "version": 3
   },
   "file_extension": ".py",
   "mimetype": "text/x-python",
   "name": "python",
   "nbconvert_exporter": "python",
   "pygments_lexer": "ipython3",
   "version": "3.9.5"
  }
 },
 "nbformat": 4,
 "nbformat_minor": 4
}
