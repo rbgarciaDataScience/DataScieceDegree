{
 "cells": [
  {
   "cell_type": "markdown",
   "metadata": {},
   "source": [
    "Módulo: Bibliotecas e APIs (Python)<br>\n",
    "Lista: Pandas - Series<br>\n",
    "Data: 08/2021<br>"
   ]
  },
  {
   "cell_type": "code",
   "execution_count": 1,
   "metadata": {},
   "outputs": [],
   "source": [
    "# Importação das bibliotecas\n",
    "import pandas as pd\n",
    "import numpy as np"
   ]
  },
  {
   "cell_type": "markdown",
   "metadata": {},
   "source": [
    "**Q1:** Crie uma Series com os índices registrados pelo TIOBE Index para as top 10 linguagens de programação. Os índices da Series devem ser os nomes das linguagens, e os valores devem ser as taxas de popularidade de cada respectiva linguagem de programação. Em seguida, utilize os métodos da Series para:\n",
    "\n",
    "    Exibir os cinco primeiros valores da Series\n",
    "    Exibir os cinco últimos valores da Series\n",
    "\n"
   ]
  },
  {
   "cell_type": "code",
   "execution_count": 2,
   "metadata": {},
   "outputs": [
    {
     "data": {
      "text/plain": [
       "C              12.57\n",
       "Python         11.86\n",
       "Java           10.43\n",
       "C++             7.36\n",
       "C#              5.14\n",
       "VisualBasic     4.67\n",
       "JavaScript      2.95\n",
       "PHP             2.19\n",
       "Assembly        2.03\n",
       "SQL             1.47\n",
       "dtype: float64"
      ]
     },
     "execution_count": 2,
     "metadata": {},
     "output_type": "execute_result"
    }
   ],
   "source": [
    "index = [\n",
    "    'C',\n",
    "    'Python',\n",
    "    'Java',\n",
    "    'C++',\n",
    "    'C#',\n",
    "    'VisualBasic',\n",
    "    'JavaScript',\n",
    "    'PHP',\n",
    "    'Assembly',\n",
    "    'SQL'\n",
    "]\n",
    "\n",
    "taxas = [12.57, 11.86, 10.43, 7.36, 5.14, 4.67, 2.95, 2.19, 2.03, 1.47]\n",
    "\n",
    "sTIOBEIndex = pd.Series(data=taxas, index=index)\n",
    "sTIOBEIndex"
   ]
  },
  {
   "cell_type": "markdown",
   "metadata": {},
   "source": [
    "Dois métodos para exibir os 5 primeiros ou os 5 últimos (primeira e segunda metade):"
   ]
  },
  {
   "cell_type": "code",
   "execution_count": 3,
   "metadata": {},
   "outputs": [
    {
     "data": {
      "text/plain": [
       "C         12.57\n",
       "Python    11.86\n",
       "Java      10.43\n",
       "C++        7.36\n",
       "C#         5.14\n",
       "dtype: float64"
      ]
     },
     "execution_count": 3,
     "metadata": {},
     "output_type": "execute_result"
    }
   ],
   "source": [
    "# Exibir os 5 primeiros (ou a primeira metade): \n",
    "# filtrar por valores acima da mediana\n",
    "sTIOBEIndex[sTIOBEIndex > sTIOBEIndex.median()]"
   ]
  },
  {
   "cell_type": "code",
   "execution_count": 4,
   "metadata": {},
   "outputs": [
    {
     "data": {
      "text/plain": [
       "VisualBasic    4.67\n",
       "JavaScript     2.95\n",
       "PHP            2.19\n",
       "Assembly       2.03\n",
       "SQL            1.47\n",
       "dtype: float64"
      ]
     },
     "execution_count": 4,
     "metadata": {},
     "output_type": "execute_result"
    }
   ],
   "source": [
    "# Exibir os 5 últimos (segunda metade)\n",
    "# Filtrar por valores abaixo da mediana:\n",
    "sTIOBEIndex[sTIOBEIndex < sTIOBEIndex.median()]"
   ]
  },
  {
   "cell_type": "code",
   "execution_count": 5,
   "metadata": {},
   "outputs": [
    {
     "data": {
      "text/plain": [
       "C         12.57\n",
       "Python    11.86\n",
       "Java      10.43\n",
       "C++        7.36\n",
       "C#         5.14\n",
       "dtype: float64"
      ]
     },
     "execution_count": 5,
     "metadata": {},
     "output_type": "execute_result"
    }
   ],
   "source": [
    "# Utilizando os índices: do início ao 5\n",
    "sTIOBEIndex.iloc[:5]"
   ]
  },
  {
   "cell_type": "code",
   "execution_count": 6,
   "metadata": {},
   "outputs": [
    {
     "data": {
      "text/plain": [
       "VisualBasic    4.67\n",
       "JavaScript     2.95\n",
       "PHP            2.19\n",
       "Assembly       2.03\n",
       "SQL            1.47\n",
       "dtype: float64"
      ]
     },
     "execution_count": 6,
     "metadata": {},
     "output_type": "execute_result"
    }
   ],
   "source": [
    "# Utilizando os índices: após o 5 até o último\n",
    "sTIOBEIndex.iloc[5:]"
   ]
  },
  {
   "cell_type": "markdown",
   "metadata": {},
   "source": [
    "**Q2:** Crie uma Series com os 11 primeiros termos da sequência de Fibonacci. Utilize letras (em ordem alfabética) como os índices da Series. Em seguida, obtenha apenas aqueles elementos que forem superiores a 10 e inferiores a 50.\n",
    "\n",
    "    Sequência de Fibonacci: 0, 1, 1, 2, 3, 5, 8, 13, 21, 34, 55...\n",
    "\n"
   ]
  },
  {
   "cell_type": "code",
   "execution_count": 7,
   "metadata": {},
   "outputs": [
    {
     "data": {
      "text/plain": [
       "a     0\n",
       "b     1\n",
       "c     1\n",
       "d     2\n",
       "e     3\n",
       "f     5\n",
       "g     8\n",
       "h    13\n",
       "i    21\n",
       "j    34\n",
       "k    55\n",
       "dtype: int64"
      ]
     },
     "execution_count": 7,
     "metadata": {},
     "output_type": "execute_result"
    }
   ],
   "source": [
    "fibo = [0, 1, 1, 2, 3, 5, 8, 13, 21, 34, 55]\n",
    "index = ['a', 'b', 'c', 'd', 'e', 'f', 'g', 'h', 'i', 'j', 'k']\n",
    "\n",
    "sFibo = pd.Series(data=fibo, index=index)\n",
    "sFibo"
   ]
  },
  {
   "cell_type": "code",
   "execution_count": 8,
   "metadata": {},
   "outputs": [
    {
     "data": {
      "text/plain": [
       "h    13\n",
       "i    21\n",
       "j    34\n",
       "dtype: int64"
      ]
     },
     "execution_count": 8,
     "metadata": {},
     "output_type": "execute_result"
    }
   ],
   "source": [
    "# Exiba os elementos que forem superiores a 10 e inferiores a 50\n",
    "sFibo[(sFibo > 10) & (sFibo < 50)]"
   ]
  },
  {
   "cell_type": "markdown",
   "metadata": {},
   "source": [
    "**Q3:** Crie um programa para calcular a média e o desvio padrão de uma series. Observe o exemplo abaixo:\n"
   ]
  },
  {
   "cell_type": "code",
   "execution_count": 9,
   "metadata": {},
   "outputs": [],
   "source": [
    "numeros = [1, 2, 3, 4, 5, 6, 7, 8, 9, 5, 3]\n",
    "sNumeros = pd.Series(data=numeros)"
   ]
  },
  {
   "cell_type": "code",
   "execution_count": 10,
   "metadata": {},
   "outputs": [
    {
     "data": {
      "text/plain": [
       "0     1\n",
       "1     2\n",
       "2     3\n",
       "3     4\n",
       "4     5\n",
       "5     6\n",
       "6     7\n",
       "7     8\n",
       "8     9\n",
       "9     5\n",
       "10    3\n",
       "dtype: int64"
      ]
     },
     "execution_count": 10,
     "metadata": {},
     "output_type": "execute_result"
    }
   ],
   "source": [
    "sNumeros"
   ]
  },
  {
   "cell_type": "code",
   "execution_count": 11,
   "metadata": {},
   "outputs": [
    {
     "name": "stdout",
     "output_type": "stream",
     "text": [
      "Média: 4.818181818181818\n",
      "Desvio Padrão: 2.522624895547565\n"
     ]
    }
   ],
   "source": [
    "print('Média:',sNumeros.mean())\n",
    "print('Desvio Padrão:',sNumeros.std())"
   ]
  },
  {
   "cell_type": "markdown",
   "metadata": {},
   "source": [
    "**Q4:** Crie um array com 20 números aleatórios inteiros entre 1 e 5. Em seguida, calcule a frequência (percentual) de cada valor específico da Series."
   ]
  },
  {
   "cell_type": "code",
   "execution_count": 12,
   "metadata": {},
   "outputs": [],
   "source": [
    "arr_rand = pd.Series(np.random.randint(1, 6, 20))"
   ]
  },
  {
   "cell_type": "code",
   "execution_count": 13,
   "metadata": {},
   "outputs": [
    {
     "data": {
      "text/plain": [
       "2    30.0\n",
       "5    25.0\n",
       "1    20.0\n",
       "4    20.0\n",
       "3     5.0\n",
       "dtype: float64"
      ]
     },
     "execution_count": 13,
     "metadata": {},
     "output_type": "execute_result"
    }
   ],
   "source": [
    "arr_rand.value_counts(normalize=True)*100"
   ]
  },
  {
   "cell_type": "markdown",
   "metadata": {},
   "source": [
    "**Q5:** Crie um programa para mostrar qual é o valor mais frequente de uma series e, em seguida, substitua todos os demais valores dela por \"Outro valor\"."
   ]
  },
  {
   "cell_type": "code",
   "execution_count": 14,
   "metadata": {},
   "outputs": [],
   "source": [
    "# Função para substituir os valores diferentes da moda por 'Outro valor'\n",
    "# Como pode haver mais de uma moda, selecionamos a primeira Series.mode()[0]\n",
    "def analisarSerie(serie):\n",
    "    print('Moda:\\n', serie.mode())\n",
    "    serie[serie != serie.mode()[0]] = 'Outro valor'\n",
    "    print(serie)"
   ]
  },
  {
   "cell_type": "code",
   "execution_count": 15,
   "metadata": {},
   "outputs": [
    {
     "data": {
      "text/plain": [
       "0    2\n",
       "dtype: int32"
      ]
     },
     "execution_count": 15,
     "metadata": {},
     "output_type": "execute_result"
    }
   ],
   "source": [
    "arr_rand.mode()"
   ]
  },
  {
   "cell_type": "code",
   "execution_count": 16,
   "metadata": {},
   "outputs": [
    {
     "name": "stdout",
     "output_type": "stream",
     "text": [
      "Moda:\n",
      " 0    2\n",
      "dtype: int32\n",
      "0     Outro valor\n",
      "1     Outro valor\n",
      "2     Outro valor\n",
      "3               2\n",
      "4     Outro valor\n",
      "5               2\n",
      "6     Outro valor\n",
      "7     Outro valor\n",
      "8               2\n",
      "9     Outro valor\n",
      "10    Outro valor\n",
      "11    Outro valor\n",
      "12    Outro valor\n",
      "13    Outro valor\n",
      "14    Outro valor\n",
      "15    Outro valor\n",
      "16              2\n",
      "17              2\n",
      "18              2\n",
      "19    Outro valor\n",
      "dtype: object\n"
     ]
    }
   ],
   "source": [
    "analisarSerie(arr_rand)"
   ]
  },
  {
   "cell_type": "markdown",
   "metadata": {},
   "source": [
    "**Q6:** Crie um array com números entre 1 e 10, com passo 1. Em seguida, embaralhe esses números utilizando o método shuffle do Numpy. Crie uma lista com o fatorial desses números, nessa nova ordem (após o embaralhamento). Por fim, crie uma Series cujo os valores são os fatoriais (embaralhados) e os índices são os números associados ao fatorial."
   ]
  },
  {
   "cell_type": "code",
   "execution_count": null,
   "metadata": {},
   "outputs": [],
   "source": [
    "'''\n",
    "Exemplo de saída\n",
    "\n",
    "3           6\n",
    "5         120\n",
    "1           1\n",
    "9      362880\n",
    "4          24\n",
    "7        5040\n",
    "10    3628800\n",
    "2           2\n",
    "6         720\n",
    "8       40320\n",
    "dtype: int64\n",
    "'''"
   ]
  },
  {
   "cell_type": "code",
   "execution_count": 30,
   "metadata": {},
   "outputs": [
    {
     "name": "stdout",
     "output_type": "stream",
     "text": [
      "10    3628800\n",
      "9      362880\n",
      "5         120\n",
      "3           6\n",
      "2           2\n",
      "4          24\n",
      "1           1\n",
      "8       40320\n",
      "6         720\n",
      "7        5040\n",
      "dtype: int64\n"
     ]
    }
   ],
   "source": [
    "# Codigo final\n",
    "arr = np.arange(1, 11, 1) # array entre 1 e 10, a passos de 1\n",
    "np.random.shuffle(arr)    # shuffle\n",
    "import math\n",
    "fatoriais = [] # lista para armazenar os fatoriais\n",
    "for element in arr:\n",
    "    fatoriais.append(math.factorial(element)) # calcula e armazena o fatorial\n",
    "\n",
    "sFatoriais = pd.Series(data=fatoriais, index=arr) # cria uma Series\n",
    "print(sFatoriais)"
   ]
  }
 ],
 "metadata": {
  "kernelspec": {
   "display_name": "Python 3",
   "language": "python",
   "name": "python3"
  },
  "language_info": {
   "codemirror_mode": {
    "name": "ipython",
    "version": 3
   },
   "file_extension": ".py",
   "mimetype": "text/x-python",
   "name": "python",
   "nbconvert_exporter": "python",
   "pygments_lexer": "ipython3",
   "version": "3.9.5"
  }
 },
 "nbformat": 4,
 "nbformat_minor": 4
}
