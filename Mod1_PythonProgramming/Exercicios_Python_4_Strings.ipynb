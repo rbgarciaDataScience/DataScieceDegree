{
 "cells": [
  {
   "cell_type": "markdown",
   "metadata": {},
   "source": [
    "Módulo: Lógica de programação (Python)<br>\n",
    "Lista: Strings<br>\n",
    "Data: 06/2021<br>"
   ]
  },
  {
   "cell_type": "markdown",
   "metadata": {},
   "source": [
    "**Q1:** Faça um programa que peça para o usuário digitar uma palavra e imprima cada letra em uma linha."
   ]
  },
  {
   "cell_type": "code",
   "execution_count": 1,
   "metadata": {},
   "outputs": [
    {
     "name": "stdout",
     "output_type": "stream",
     "text": [
      "Digite uma palavra: casa\n",
      "c\n",
      "a\n",
      "s\n",
      "a\n"
     ]
    }
   ],
   "source": [
    "# Por indexador\n",
    "palavra = input('Digite uma palavra: ')\n",
    "for i in range(len(palavra)): \n",
    "    print(palavra[i])"
   ]
  },
  {
   "cell_type": "code",
   "execution_count": 2,
   "metadata": {},
   "outputs": [
    {
     "name": "stdout",
     "output_type": "stream",
     "text": [
      "Digite uma palavra: moto\n",
      "m\n",
      "o\n",
      "t\n",
      "o\n"
     ]
    }
   ],
   "source": [
    "# Por elemento\n",
    "palavra = input('Digite uma palavra: ') \n",
    "for letra in palavra: \n",
    "    print(letra)"
   ]
  },
  {
   "cell_type": "markdown",
   "metadata": {},
   "source": [
    "**Q2:** Faça um programa que pede para o usuário digitar uma palavra e cria uma nova string igual, copiando letra por letra a palavra digitada, depois imprima a nova string."
   ]
  },
  {
   "cell_type": "code",
   "execution_count": 3,
   "metadata": {},
   "outputs": [
    {
     "name": "stdout",
     "output_type": "stream",
     "text": [
      "Digite uma palavra: copiando\n",
      "copiando\n"
     ]
    }
   ],
   "source": [
    "palavra = input('Digite uma palavra: ') \n",
    "palavra2 = '' \n",
    "for letra in palavra: \n",
    "    palavra2 += letra\n",
    "\n",
    "print(palavra2)"
   ]
  },
  {
   "cell_type": "markdown",
   "metadata": {},
   "source": [
    "**Q3:** Altere o exercício anterior para que a string copiada alterne entre letras maiúsculas e minúsculas.\n",
    "\n",
    "Exemplo: se o usuário digitar \"latex\" o programa deve imprimir \"LaTeX\".\n"
   ]
  },
  {
   "cell_type": "code",
   "execution_count": 4,
   "metadata": {},
   "outputs": [
    {
     "name": "stdout",
     "output_type": "stream",
     "text": [
      "Digite uma palavra: latex\n",
      "LaTeX\n"
     ]
    }
   ],
   "source": [
    "palavra = input('Digite uma palavra: ') \n",
    "palavra2 = '' \n",
    "for idx, char in enumerate(palavra): \n",
    "    if (idx % 2) == 0: \n",
    "        palavra2 += char.upper() \n",
    "    else: \n",
    "        palavra2 += char.lower()\n",
    "print(palavra2)"
   ]
  },
  {
   "cell_type": "code",
   "execution_count": 5,
   "metadata": {},
   "outputs": [
    {
     "name": "stdout",
     "output_type": "stream",
     "text": [
      "Digite uma palavra: teste\n",
      "TeStE\n"
     ]
    }
   ],
   "source": [
    "# Outra maneira\n",
    "palavra = input(\"Digite uma palavra: \")\n",
    "nova_palavra = \"\"\n",
    "for i in range(len(palavra)):\n",
    "    letra = palavra[i]\n",
    "    if i%2 == 0:\n",
    "        nova_palavra += letra.upper()\n",
    "    else:\n",
    "        nova_palavra += letra.lower()\n",
    "print(nova_palavra)"
   ]
  },
  {
   "cell_type": "markdown",
   "metadata": {},
   "source": [
    "**Q4:** Faça um programa que pede para o usuário digitar uma palavra e cria uma nova string igual, porém com espaço entre cada letra, depois imprima a nova string:\n",
    "\n",
    "Exemplo: se o usuário digitar \"python\" o programa deve imprimir \"p y t h o n \""
   ]
  },
  {
   "cell_type": "code",
   "execution_count": 6,
   "metadata": {},
   "outputs": [
    {
     "name": "stdout",
     "output_type": "stream",
     "text": [
      "Digite uma palavra: casa\n",
      "c a s a \n"
     ]
    }
   ],
   "source": [
    "palavra = input('Digite uma palavra: ') \n",
    "palavra2 = '' \n",
    "for char in palavra: \n",
    "    palavra2 += char + ' '\n",
    "print(palavra2)"
   ]
  },
  {
   "cell_type": "markdown",
   "metadata": {},
   "source": [
    "**Q5:** Faça uma função que receba uma string e retorne uma nova string substituindo:\n",
    "\n",
    "'a' por '4'\n",
    "\n",
    "'e' por '3'\n",
    "\n",
    "'I' por '1'\n",
    "\n",
    "'t' por '7'"
   ]
  },
  {
   "cell_type": "code",
   "execution_count": 7,
   "metadata": {},
   "outputs": [],
   "source": [
    "def questao5(entrada): \n",
    "    saida = '' \n",
    "    for letra in entrada: \n",
    "        if letra == 'a': \n",
    "            letra = '4' \n",
    "        elif letra == 'e': \n",
    "            letra = '3' \n",
    "        elif letra == 'l': \n",
    "            letra = '1' \n",
    "        elif letra =='t': \n",
    "            letra = '7' \n",
    "        saida += letra\n",
    "    return(saida)"
   ]
  },
  {
   "cell_type": "code",
   "execution_count": 8,
   "metadata": {},
   "outputs": [
    {
     "data": {
      "text/plain": [
       "'4p3n4s 73s74ndo 3s73 progr4m4'"
      ]
     },
     "execution_count": 8,
     "metadata": {},
     "output_type": "execute_result"
    }
   ],
   "source": [
    "questao5('apenas testando este programa')"
   ]
  },
  {
   "cell_type": "code",
   "execution_count": 9,
   "metadata": {},
   "outputs": [
    {
     "name": "stdout",
     "output_type": "stream",
     "text": [
      "137r4s\n"
     ]
    }
   ],
   "source": [
    "print(questao5('letras'))"
   ]
  },
  {
   "cell_type": "markdown",
   "metadata": {},
   "source": [
    "**Q6:** Faça uma função que recebe uma string e retorna ela ao contrário.\n",
    "\n",
    "Exemplo: Recebe \"teste\" e retorna \"etset\"."
   ]
  },
  {
   "cell_type": "code",
   "execution_count": 10,
   "metadata": {},
   "outputs": [],
   "source": [
    "#Função mais simples \n",
    "def questao6a(entrada): \n",
    "    string_inv = entrada[::-1]\n",
    "    return string_inv"
   ]
  },
  {
   "cell_type": "code",
   "execution_count": 11,
   "metadata": {},
   "outputs": [
    {
     "name": "stdout",
     "output_type": "stream",
     "text": [
      "odnatset\n"
     ]
    }
   ],
   "source": [
    "print(questao6a('testando'))"
   ]
  },
  {
   "cell_type": "code",
   "execution_count": 12,
   "metadata": {},
   "outputs": [],
   "source": [
    "# Pode ser resumida em:\n",
    "def questao6(entrada):\n",
    "    return entrada[::-1]"
   ]
  },
  {
   "cell_type": "code",
   "execution_count": 13,
   "metadata": {},
   "outputs": [
    {
     "name": "stdout",
     "output_type": "stream",
     "text": [
      "oasrevni\n"
     ]
    }
   ],
   "source": [
    "print(questao6('inversao'))"
   ]
  },
  {
   "cell_type": "markdown",
   "metadata": {},
   "source": [
    "**Q7:** Agora faça uma função que recebe uma palavra e diz se ela é um palíndromo, ou seja, se ela é igual a ela mesma ao contrário.\n",
    "\n",
    "Dica: Use a função do exercício 6."
   ]
  },
  {
   "cell_type": "code",
   "execution_count": 14,
   "metadata": {},
   "outputs": [],
   "source": [
    "# Uma maneira\n",
    "def palindromo(entrada): \n",
    "    entrada_inv = entrada[::-1] \n",
    "    if entrada_inv == entrada: \n",
    "        return f'A palavra {entrada} é um palíndromo!' \n",
    "    else: \n",
    "        return f'A palavra {entrada} não é um palíndromo.'"
   ]
  },
  {
   "cell_type": "code",
   "execution_count": 15,
   "metadata": {},
   "outputs": [
    {
     "data": {
      "text/plain": [
       "'A palavra casa não é um palíndromo.'"
      ]
     },
     "execution_count": 15,
     "metadata": {},
     "output_type": "execute_result"
    }
   ],
   "source": [
    "palindromo('casa')"
   ]
  },
  {
   "cell_type": "code",
   "execution_count": 16,
   "metadata": {},
   "outputs": [
    {
     "data": {
      "text/plain": [
       "'A palavra bauab é um palíndromo!'"
      ]
     },
     "execution_count": 16,
     "metadata": {},
     "output_type": "execute_result"
    }
   ],
   "source": [
    "palindromo('bauab')"
   ]
  },
  {
   "cell_type": "markdown",
   "metadata": {},
   "source": [
    "**Q8:** Faça uma função que receba um texto e uma palavra, então verifique se a palavra está no texto, retornando True ou False."
   ]
  },
  {
   "cell_type": "code",
   "execution_count": 17,
   "metadata": {},
   "outputs": [],
   "source": [
    "# Resolução original\n",
    "def procura_palavra(texto, palavra): \n",
    "    texto_sep = texto.split() \n",
    "    for item in texto_sep: \n",
    "        if palavra == item: \n",
    "            saida = True \n",
    "            break \n",
    "        else: \n",
    "            saida = False\n",
    "    return saida"
   ]
  },
  {
   "cell_type": "code",
   "execution_count": 18,
   "metadata": {},
   "outputs": [
    {
     "data": {
      "text/plain": [
       "False"
      ]
     },
     "execution_count": 18,
     "metadata": {},
     "output_type": "execute_result"
    }
   ],
   "source": [
    "procura_palavra('Exemplo de uma passagem de texto', 'um')"
   ]
  },
  {
   "cell_type": "code",
   "execution_count": 19,
   "metadata": {},
   "outputs": [],
   "source": [
    "# Resolução otimizada:\n",
    "def pertence(texto, palavra):\n",
    "    return palavra in texto"
   ]
  },
  {
   "cell_type": "code",
   "execution_count": 20,
   "metadata": {},
   "outputs": [
    {
     "data": {
      "text/plain": [
       "True"
      ]
     },
     "execution_count": 20,
     "metadata": {},
     "output_type": "execute_result"
    }
   ],
   "source": [
    "pertence('Exemplo de uma passagem de texto', 'um')"
   ]
  },
  {
   "cell_type": "markdown",
   "metadata": {},
   "source": [
    "Solução otimizada proposta pelo professor parece não funcionar tão bem!"
   ]
  },
  {
   "cell_type": "markdown",
   "metadata": {},
   "source": [
    "**Q9:** **Desafio** - Faça uma função que receba uma string e uma letra e:\n",
    "\n",
    "a. imprima quantas vezes a letra aparece na string;\n",
    "\n",
    "b. imprima todas as posições em que a letra aparece na string;\n",
    "\n",
    "c. retorne a distância entre a primeira e a última aparição dessa letra na string."
   ]
  },
  {
   "cell_type": "code",
   "execution_count": 21,
   "metadata": {},
   "outputs": [],
   "source": [
    "def verifica(string, letra): \n",
    "    contagem = 0 # inicializa contador de letras\n",
    "    posicoes = [] # inicializa lista para guardar índices\n",
    "    for i in range(len(string)): # Percorre a string\n",
    "        if string[i] == letra: # compara cada caractere com a letra desejada\n",
    "            contagem += 1 # se encontrou, incremente a contagem\n",
    "            posicoes.append(i) # armazena a posição\n",
    "    \n",
    "    if contagem == 0: # Caso a letra não tenha aparecido no texto\n",
    "        print(f'A letra \"{letra}\" não aparece no texto.')\n",
    "        return -1\n",
    "    \n",
    "    # Caso a letra tenha aparecido no texto:\n",
    "    print(f'A letra \"{letra}\" apareceu', contagem, 'vezes no texto.')\n",
    "    print('As posições em que a letra apareceu são:', posicoes)\n",
    "    \n",
    "    return posicoes[-1] - posicoes[0] # retorna a distância entre a primeira e a última aparição"
   ]
  },
  {
   "cell_type": "code",
   "execution_count": 22,
   "metadata": {},
   "outputs": [],
   "source": [
    "texto = 'lorem ipsum dolor sit amet, consectetur adipiscing elit'\n",
    "letra = 'o'"
   ]
  },
  {
   "cell_type": "code",
   "execution_count": 23,
   "metadata": {},
   "outputs": [
    {
     "name": "stdout",
     "output_type": "stream",
     "text": [
      "A letra \"o\" apareceu 4 vezes no texto.\n",
      "As posições em que a letra apareceu são: [1, 13, 15, 29]\n"
     ]
    },
    {
     "data": {
      "text/plain": [
       "28"
      ]
     },
     "execution_count": 23,
     "metadata": {},
     "output_type": "execute_result"
    }
   ],
   "source": [
    "verifica(texto, letra)"
   ]
  },
  {
   "cell_type": "markdown",
   "metadata": {},
   "source": [
    "**Q10: Super Desafio!** - faça uma função que criptografa uma mensagem substituindo cada letra pela letra oposta do dicionário:\n",
    "\n",
    "'a' por 'z'\n",
    "\n",
    "'b' por 'y'\n",
    "\n",
    "'c' por 'x'\n",
    "\n",
    "..."
   ]
  },
  {
   "cell_type": "code",
   "execution_count": 24,
   "metadata": {},
   "outputs": [],
   "source": [
    "import string"
   ]
  },
  {
   "cell_type": "code",
   "execution_count": 25,
   "metadata": {},
   "outputs": [],
   "source": [
    "# Proposta 1 (feita somente para lower case):\n",
    "def encriptador(texto): \n",
    "    a_to_z = string.ascii_lowercase # letras do alfabeto em lower case\n",
    "    z_to_a = a_to_z[::-1]  # alfabeto invertido\n",
    "    criptografia = str.maketrans(a_to_z, z_to_a) # Cria uma tabela de mapeamento \n",
    "    texto_criptografado = texto.translate(criptografia) # Traduz pelo mapeamento\n",
    "    return texto_criptografado"
   ]
  },
  {
   "cell_type": "code",
   "execution_count": 26,
   "metadata": {},
   "outputs": [
    {
     "data": {
      "text/plain": [
       "'olivn rkhfn wloli hrg znvg, xlmhvxgvgfi zwrkrhxrmt vorg'"
      ]
     },
     "execution_count": 26,
     "metadata": {},
     "output_type": "execute_result"
    }
   ],
   "source": [
    "encriptador(texto)"
   ]
  },
  {
   "cell_type": "code",
   "execution_count": 27,
   "metadata": {},
   "outputs": [
    {
     "name": "stdout",
     "output_type": "stream",
     "text": [
      "lorem ipsum dolor sit amet, consectetur adipiscing elit\n",
      "olivn rkhfn wloli hrg znvg, xlmhvxgvgfi zwrkrhxrmt vorg\n",
      "lorem ipsum dolor sit amet, consectetur adipiscing elit\n"
     ]
    }
   ],
   "source": [
    "print(texto)\n",
    "print(encriptador(texto))\n",
    "print(encriptador(encriptador(texto)))"
   ]
  },
  {
   "cell_type": "code",
   "execution_count": 28,
   "metadata": {},
   "outputs": [],
   "source": [
    "# Proposta professor (considera lower e upper case):\n",
    "def criptografa(mensagem):\n",
    "    alfabeto1 = string.ascii_lowercase #retorna uma string com todas as letras do alfabeto minúsculas = abcdefghijklmnopqrstuvwxyz\n",
    "    alfabeto2 = string.ascii_uppercase #retorna uma string com todas as letras do alfabeto maiúsculas = ABCDEFGHIJKLMNOPQRSTUVWXYZ\n",
    "    nova_mensagem = \"\"\n",
    "    for item in mensagem:\n",
    "        if item in alfabeto1:\n",
    "            indice = alfabeto1.index(item)\n",
    "            letra_oposta = alfabeto1[-1 - indice]\n",
    "            nova_mensagem += letra_oposta\n",
    "        elif item in alfabeto2:\n",
    "            indice = alfabeto2.index(item)\n",
    "            letra_oposta = alfabeto2[-1 - indice]\n",
    "            nova_mensagem += letra_oposta\n",
    "        else:\n",
    "            nova_mensagem += item\n",
    "    return nova_mensagem"
   ]
  },
  {
   "cell_type": "code",
   "execution_count": 29,
   "metadata": {},
   "outputs": [
    {
     "data": {
      "text/plain": [
       "'olivn rkhfn wloli hrg znvg, xlmhvxgvgfi zwrkrhxrmt vorg'"
      ]
     },
     "execution_count": 29,
     "metadata": {},
     "output_type": "execute_result"
    }
   ],
   "source": [
    "criptografa(texto)"
   ]
  },
  {
   "cell_type": "code",
   "execution_count": 30,
   "metadata": {},
   "outputs": [
    {
     "data": {
      "text/plain": [
       "'lorem ipsum dolor sit amet, consectetur adipiscing elit'"
      ]
     },
     "execution_count": 30,
     "metadata": {},
     "output_type": "execute_result"
    }
   ],
   "source": [
    "criptografa(criptografa(texto))"
   ]
  }
 ],
 "metadata": {
  "kernelspec": {
   "display_name": "Python 3",
   "language": "python",
   "name": "python3"
  },
  "language_info": {
   "codemirror_mode": {
    "name": "ipython",
    "version": 3
   },
   "file_extension": ".py",
   "mimetype": "text/x-python",
   "name": "python",
   "nbconvert_exporter": "python",
   "pygments_lexer": "ipython3",
   "version": "3.9.5"
  }
 },
 "nbformat": 4,
 "nbformat_minor": 4
}
