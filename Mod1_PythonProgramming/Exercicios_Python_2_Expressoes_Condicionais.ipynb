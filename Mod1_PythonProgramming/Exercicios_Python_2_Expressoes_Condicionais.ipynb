{
 "cells": [
  {
   "cell_type": "markdown",
   "metadata": {},
   "source": [
    "Módulo: Lógica de programação (Python)<br>\n",
    "Lista: Estruturas Condicionais<br>\n",
    "Data: 06/2021<br>"
   ]
  },
  {
   "cell_type": "markdown",
   "metadata": {},
   "source": [
    "**Q1:** Faça um programa que peça a idade do usuário e imprima se ele é maior ou menor de 18 anos."
   ]
  },
  {
   "cell_type": "code",
   "execution_count": 1,
   "metadata": {},
   "outputs": [
    {
     "name": "stdout",
     "output_type": "stream",
     "text": [
      "Informe a idade do usuário: 15\n",
      "O usuário é menor de idade.\n"
     ]
    }
   ],
   "source": [
    "idade = int(input('Informe a idade do usuário: '))\n",
    "\n",
    "if idade >= 18: \n",
    "    print('O usuário é maior de idade.') \n",
    "else: \n",
    "    print('O usuário é menor de idade.')"
   ]
  },
  {
   "cell_type": "markdown",
   "metadata": {},
   "source": [
    "**Q2:** Faça um programa que peça um número e mostre se ele é positivo ou negativo."
   ]
  },
  {
   "cell_type": "code",
   "execution_count": 2,
   "metadata": {},
   "outputs": [
    {
     "name": "stdout",
     "output_type": "stream",
     "text": [
      "Informe um número inteiro: 3\n",
      "positivo\n"
     ]
    }
   ],
   "source": [
    "num = int(input('Informe um número inteiro: '))\n",
    "\n",
    "if num < 0: \n",
    "    print('negativo')\n",
    "elif num == 0:\n",
    "    print('nulo')        \n",
    "else: \n",
    "    print('positivo')"
   ]
  },
  {
   "cell_type": "markdown",
   "metadata": {},
   "source": [
    "**Q3:** Faça um programa que peça dois números e mostre o maior deles."
   ]
  },
  {
   "cell_type": "code",
   "execution_count": 3,
   "metadata": {},
   "outputs": [
    {
     "name": "stdout",
     "output_type": "stream",
     "text": [
      "Informe um número inteiro: 7\n",
      "Informe outro número inteiro: 3\n",
      "O número 7 é o maior\n"
     ]
    }
   ],
   "source": [
    "num1 = int(input('Informe um número inteiro: ')) \n",
    "num2 = int(input('Informe outro número inteiro: '))\n",
    "\n",
    "if num1 < num2: \n",
    "    print('O número', num2, 'é o maior') \n",
    "elif num2 < num1: \n",
    "    print('O número', num1, 'é o maior')\n",
    "else:\n",
    "    print('Os números são iguais')"
   ]
  },
  {
   "cell_type": "markdown",
   "metadata": {},
   "source": [
    "**Q4:** Faça um programa que leia a validade das informações:\n",
    "\n",
    "a. Idade: entre 0 e 150;\n",
    "\n",
    "b. Salário: maior que 0;\n",
    "\n",
    "c. Sexo: M, F ou Outro;\n",
    "\n",
    "O programa deve imprimir uma mensagem de erro para cada informação inválida.\n"
   ]
  },
  {
   "cell_type": "code",
   "execution_count": 4,
   "metadata": {},
   "outputs": [
    {
     "name": "stdout",
     "output_type": "stream",
     "text": [
      "Digite a idade: 160\n",
      "Erro! Idade deve estar entre 0 e 150!\n",
      "Digite a idade: 38\n",
      "Idade registrada\n",
      "Digite o salário: 0\n",
      "Erro! Salário deve ser maior que 0!\n",
      "Digite o salário: 5000\n",
      "Salário registrado\n",
      "Informe seu sexo (M, F, Outro): m\n",
      "Erro! Insira \"M\", \"F\" ou \"Outro\"!\n",
      "Informe seu sexo (M, F, Outro): M\n",
      "Sexo registrado\n"
     ]
    }
   ],
   "source": [
    "# Usando while\n",
    "\n",
    "idade = int(input('Digite a idade: '))\n",
    "while idade < 0 or idade > 150: \n",
    "    print('Erro! Idade deve estar entre 0 e 150!') \n",
    "    idade = int(input('Digite a idade: '))\n",
    "print('Idade registrada')\n",
    "\n",
    "\n",
    "salario = float(input('Digite o salário: '))\n",
    "while salario <= 0: \n",
    "    print('Erro! Salário deve ser maior que 0!') \n",
    "    salario = float(input('Digite o salário: '))\n",
    "print('Salário registrado')\n",
    "\n",
    "\n",
    "sexo = input('Informe seu sexo (M, F, Outro): ')\n",
    "while sexo != 'M' and sexo != 'F' and sexo != 'Outro': \n",
    "    print('Erro! Insira \"M\", \"F\" ou \"Outro\"!') \n",
    "    sexo = input('Informe seu sexo (M, F, Outro): ')\n",
    "print('Sexo registrado')"
   ]
  },
  {
   "cell_type": "markdown",
   "metadata": {},
   "source": [
    "**Q5:** Escreva um programa que peça a nota de 3 provas de um aluno e verifique se ele passou ou não de ano.\n",
    "\n",
    "Obs.: O aluno irá passar de ano se sua média for maior que 6.\n"
   ]
  },
  {
   "cell_type": "code",
   "execution_count": 5,
   "metadata": {},
   "outputs": [
    {
     "name": "stdout",
     "output_type": "stream",
     "text": [
      "Insira a nota da primeira prova: 6.7\n",
      "Insira a nota da segunda prova: 8.2\n",
      "Insira a nota da terceira prova: 7\n",
      "O aluno foi aprovado.\n"
     ]
    }
   ],
   "source": [
    "p1 = float(input('Insira a nota da primeira prova: ')) \n",
    "p2 = float(input('Insira a nota da segunda prova: ')) \n",
    "p3 = float(input('Insira a nota da terceira prova: '))\n",
    "\n",
    "media = (p1 + p2 + p3)/3\n",
    "\n",
    "if media >= 6: \n",
    "    print('O aluno foi aprovado.') \n",
    "else: \n",
    "    print('O aluno foi reprovado.')"
   ]
  },
  {
   "cell_type": "markdown",
   "metadata": {},
   "source": [
    "**Q6:** Faça um programa que mostre uma questão de múltipla escolha com 5 opções (letras a, b, c, d, e). Sabendo a resposta certa, o programa deve receber a opção do usuário e informar a letra que o usuário marcou e se a resposta está certa ou errada. "
   ]
  },
  {
   "cell_type": "code",
   "execution_count": 6,
   "metadata": {},
   "outputs": [
    {
     "name": "stdout",
     "output_type": "stream",
     "text": [
      "Qual o resultado da seguinte operação em Python: a**b para b = 2, a = 5\n",
      "a. 10 \n",
      "b. 7 \n",
      "c. 2 \n",
      "d. 25 \n",
      "e. 32\n",
      "Informe a alternativa: d\n",
      "Reposta correta.\n"
     ]
    }
   ],
   "source": [
    "print('Qual o resultado da seguinte operação em Python: a**b para b = 2, a = 5')\n",
    "print('a. 10 \\nb. 7 \\nc. 2 \\nd. 25 \\ne. 32') \n",
    "\n",
    "resposta = input(\"Informe a alternativa: \")\n",
    "if resposta == 'd' or resposta == 'D':\n",
    "    print('Reposta correta.') \n",
    "else: \n",
    "    print('Resposta incorreta.')"
   ]
  },
  {
   "cell_type": "markdown",
   "metadata": {},
   "source": [
    "**Q7:** Vamos fazer um programa para verificar quem é o assassino de um crime. Para descobrir o assassino, a polícia faz um pequeno questionário com 5 perguntas onde a resposta só pode ser sim ou não:\n",
    "\n",
    "a. Mora perto da vítima?\n",
    "\n",
    "b. Já trabalhou com a vítima?\n",
    "\n",
    "c. Telefonou para a vítima?\n",
    "\n",
    "d. Esteve no local do crime?\n",
    "\n",
    "e. Devia para a vítima?\n",
    "\n",
    "Cada resposta sim dá um ponto para o suspeito. A polícia considera que os suspeitos com 5 pontos são os assassinos, com 4 a 3 pontos são cúmplices e 2 pontos são apenas suspeitos, necessitando outras investigações. Valores iguais ou abaixo de 1 são liberados.\n"
   ]
  },
  {
   "cell_type": "code",
   "execution_count": 7,
   "metadata": {},
   "outputs": [
    {
     "name": "stdout",
     "output_type": "stream",
     "text": [
      "Responda \"sim\" ou \"não\" para cada uma das seguintes perguntas sobre o suspeito:\n",
      "Mora perto da vítima? sim\n",
      "Já trabalhou com a vítima? não\n",
      "Telefonou para a vítima? não\n",
      "Esteve no local do crime? sim\n",
      "Devia para a vítima? sim\n",
      "O suspeito é cúmplice.\n"
     ]
    }
   ],
   "source": [
    "score = 0 # inicializa a pontuação em 0 \n",
    "print('Responda \"sim\" ou \"não\" para cada uma das seguintes perguntas sobre o suspeito:')\n",
    "\n",
    "a = input('Mora perto da vítima? ') \n",
    "if a == 'sim': \n",
    "    score += 1\n",
    "\n",
    "b = input('Já trabalhou com a vítima? ') \n",
    "if b == 'sim': \n",
    "    score += 1\n",
    "\n",
    "c = input('Telefonou para a vítima? ') \n",
    "if c == 'sim': \n",
    "    score += 1\n",
    "\n",
    "d = input('Esteve no local do crime? ') \n",
    "if d == 'sim': \n",
    "    score += 1\n",
    "\n",
    "e = input('Devia para a vítima? ') \n",
    "if e == 'sim': \n",
    "    score += 1\n",
    "\n",
    "if score == 5: \n",
    "    print('O suspeito é o assassino.') \n",
    "elif score >= 3: \n",
    "    print('O suspeito é cúmplice.') \n",
    "elif score == 2: \n",
    "    print('Investigações adicionais são necessárias.') \n",
    "else: \n",
    "    print('A pontuação foi menor ou igual a 1.')"
   ]
  },
  {
   "cell_type": "markdown",
   "metadata": {},
   "source": [
    "**Q8:** Um produto vai sofrer aumento de acordo com a Tabela 1 abaixo. Faça um programa que peça para o usuário digitar o valor do produto de acordo com o preço antigo e escreva uma das mensagens da Tabela 2, de acordo com o preço reajustado:<br>\n",
    "<br>\n",
    "Tabela 1<br>\n",
    "Até 50 reais: \t5%<br>\n",
    "Entre 50 e 100 reais: \t10%<br>\n",
    "De 100 a 150 reais: \t13%<br>\n",
    "Acima de 150 reais: \t15%<br>\n",
    "<br>\n",
    "Tabela 2<br>\n",
    "Até 80 reais: \tBarato<br>\n",
    "Entre 80 e 115 reais: \tRazoável<br>\n",
    "Entre 115 e 150 reais: \tNormal<br>\n",
    "Entre 150 e 170 reais: \tCaro<br>\n",
    "Acima de 170 reais: \tMuito Caro<br>"
   ]
  },
  {
   "cell_type": "code",
   "execution_count": 8,
   "metadata": {},
   "outputs": [
    {
     "name": "stdout",
     "output_type": "stream",
     "text": [
      "Digite o preço do produto: 78\n",
      "O preço foi reajustado para  85.8\n",
      "Razoável\n"
     ]
    }
   ],
   "source": [
    "preco = float(input('Digite o preço do produto: '))\n",
    "\n",
    "if preco < 50: \n",
    "    preco_atual = preco * 1.05 \n",
    "elif preco < 100: \n",
    "    preco_atual = preco * 1.10 \n",
    "elif preco < 150: \n",
    "    preco_atual = preco * 1.13 \n",
    "else: \n",
    "    preco_atual = preco * 1.15\n",
    "\n",
    "print('O preço foi reajustado para ', round(preco_atual, 2))\n",
    "\n",
    "if preco_atual <= 80: \n",
    "    print('Barato') \n",
    "elif preco_atual <= 115: \n",
    "    print('Razoável') \n",
    "elif preco_atual <= 150: \n",
    "    print('Normal') \n",
    "elif preco_atual <= 170: \n",
    "    print('Caro') \n",
    "else: \n",
    "    print('Muito caro')"
   ]
  },
  {
   "cell_type": "markdown",
   "metadata": {},
   "source": [
    "**Desafio 1:** Faça um programa que leia 3 números e informe o maior deles."
   ]
  },
  {
   "cell_type": "code",
   "execution_count": 9,
   "metadata": {},
   "outputs": [
    {
     "name": "stdout",
     "output_type": "stream",
     "text": [
      "Este programa compara três números inteiros e informa o maior.\n",
      "Informe o primeiro número: 4\n",
      "Informe o segundo número: 15\n",
      "Informe o terceiro número: 12\n",
      "O número 15 é o maior\n"
     ]
    }
   ],
   "source": [
    "print('Este programa compara três números inteiros e informa o maior.') \n",
    "a = int(input('Informe o primeiro número: ')) \n",
    "b = int(input('Informe o segundo número: ')) \n",
    "c = int(input('Informe o terceiro número: '))\n",
    "\n",
    "if a > b and a > c: \n",
    "    print('O número', a, 'é o maior') \n",
    "elif b > a and b > c: \n",
    "    print('O número', b, 'é o maior') \n",
    "elif c > a and c > b: \n",
    "    print('O número', c, 'é o maior')"
   ]
  },
  {
   "cell_type": "code",
   "execution_count": 10,
   "metadata": {},
   "outputs": [
    {
     "name": "stdout",
     "output_type": "stream",
     "text": [
      "Digite o primeiro número: 7\n",
      "Digite o segundo número: 2\n",
      "Digite o terceiro número: 9\n",
      "O maior é: 9\n"
     ]
    }
   ],
   "source": [
    "# Outra maneira\n",
    "num1 = int(input('Digite o primeiro número: '))\n",
    "num2 = int(input('Digite o segundo número: '))\n",
    "num3 = int(input('Digite o terceiro número: '))\n",
    "if num1 > num2:\n",
    "    if num1 > num3:\n",
    "        print('O maior é:', num1)\n",
    "    else:\n",
    "        print('O maior é:', num3)\n",
    "else:\n",
    "    if numero2 > numero3:\n",
    "        print('O maior é:', num2)\n",
    "    else:\n",
    "        print('O maior é:', num3)"
   ]
  },
  {
   "cell_type": "markdown",
   "metadata": {},
   "source": [
    "**Desafio 2:** Faça o mesmo programa do exercício anterior, porém com 4 números."
   ]
  },
  {
   "cell_type": "code",
   "execution_count": 11,
   "metadata": {},
   "outputs": [
    {
     "name": "stdout",
     "output_type": "stream",
     "text": [
      "Este programa compara quatro números inteiros e informa o maior.\n",
      "Informe o primeiro número: 45\n",
      "Informe o segundo número: 65\n",
      "Informe o terceiro número: 23\n",
      "Informe o quarto número: 55\n",
      "O número 65 é o maior\n"
     ]
    }
   ],
   "source": [
    "print('Este programa compara quatro números inteiros e informa o maior.')\n",
    "a = int(input('Informe o primeiro número: ')) \n",
    "b = int(input('Informe o segundo número: ')) \n",
    "c = int(input('Informe o terceiro número: ')) \n",
    "d = int(input('Informe o quarto número: '))\n",
    "\n",
    "'''  Poderia fazer por 4 ifs, ampliando conforme a primeira proposta no desafio 1:\n",
    "if a > b and a > c and a > d:\n",
    "    print('O número', a, 'é o maior')\n",
    "\n",
    "if b > a and b > c and b > c:\n",
    "    print('O número', b, 'é o maior')\n",
    "\n",
    "if c > a and c > b and c > d:\n",
    "    print('O número', c, 'é o maior')\n",
    "\n",
    "if d > a and d > b and d > c:\n",
    "    print('O número', d, 'é o maior')\n",
    "'''\n",
    "\n",
    "#Podemos criar a variável 'maior' e atualizar seu valor conforme percorremos as entradas:\n",
    "\n",
    "maior = a # a variável maior é inciada pelo primeiro número \n",
    "if b > maior: \n",
    "    maior = b \n",
    "if c > maior: \n",
    "    maior = c \n",
    "if d > maior: \n",
    "    maior = d\n",
    "\n",
    "print('O número', maior, 'é o maior')"
   ]
  },
  {
   "cell_type": "markdown",
   "metadata": {},
   "source": [
    "**Desafio 3:** Um hospital quer fazer o diagnóstico de gripe ou dengue a partir de um questionário de sintomas, tendo as perguntas abaixo, faça um programa que faça o diagnóstico deste hospital:\n",
    "\n",
    "a. Sente dor no corpo?\n",
    "\n",
    "b. Você tem febre?\n",
    "\n",
    "c. Você tem tosse?\n",
    "\n",
    "d. Está com congestão nasal?\n",
    "\n",
    "e. Tem manchas pelo corpo?\n",
    "\n",
    "Para o diagnóstico ele tem a seguinte tabela:<br>\n",
    "A \tB \tC \tD \tE \tResultado<br>\n",
    "Sim \tSim \tNão \tNão \tSim: \tDengue<br>\n",
    "Sim \tSim \tSim \tSim \tNão: \tGripe<br>\n",
    "Não \tSim \tSim \tSim \tNão: \tGripe<br>\n",
    "Sim \tNão \tNão \tNão \tNão: \tSem doenças<br>\n",
    "Não \tNão \tNão \tNão \tNão: \tSem doenças<br>"
   ]
  },
  {
   "cell_type": "code",
   "execution_count": 12,
   "metadata": {},
   "outputs": [
    {
     "name": "stdout",
     "output_type": "stream",
     "text": [
      "Responda \"sim\" ou \"não\" de acordo com seus sintomas:\n",
      "Sente dor no corpo? sim\n",
      "Você tem febre? não\n",
      "Você tem tosse? sim\n",
      "Está com congestão nasal? não\n",
      "Tem manchas pelo corpo? não\n",
      "Sem diagnóstico possível\n"
     ]
    }
   ],
   "source": [
    "print('Responda \"sim\" ou \"não\" de acordo com seus sintomas:')\n",
    "\n",
    "a = input('Sente dor no corpo? ')\n",
    "b = input('Você tem febre? ') \n",
    "c = input('Você tem tosse? ') \n",
    "d = input('Está com congestão nasal? ') \n",
    "e = input('Tem manchas pelo corpo? ')\n",
    "\n",
    "# Uma das formas de resolver o problema:\n",
    "if b == 'Não' and c == 'Não' and d == 'Não' and e == 'Não':\n",
    "    print(\"Sem doenças\")\n",
    "elif b == 'Sim' and c == 'Sim' and d == 'Sim' and e == 'Não':\n",
    "    print(\"Gripe\")\n",
    "elif a == 'Sim' and b == 'Sim' and c == 'Não' and d == 'Não' and e == 'Sim':\n",
    "    print(\"Dengue\")\n",
    "else:\n",
    "    print(\"Sem diagnóstico possível\")"
   ]
  }
 ],
 "metadata": {
  "kernelspec": {
   "display_name": "Python 3",
   "language": "python",
   "name": "python3"
  },
  "language_info": {
   "codemirror_mode": {
    "name": "ipython",
    "version": 3
   },
   "file_extension": ".py",
   "mimetype": "text/x-python",
   "name": "python",
   "nbconvert_exporter": "python",
   "pygments_lexer": "ipython3",
   "version": "3.9.5"
  }
 },
 "nbformat": 4,
 "nbformat_minor": 4
}
