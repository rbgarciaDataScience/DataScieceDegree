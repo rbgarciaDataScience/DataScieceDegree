{
 "cells": [
  {
   "cell_type": "markdown",
   "metadata": {},
   "source": [
    "Módulo: Lógica de programação (Python)<br>\n",
    "Lista: Métodos e atributos estáticos<br>\n",
    "Data: 07/2021<br>"
   ]
  },
  {
   "cell_type": "markdown",
   "metadata": {},
   "source": [
    "**Q1:** O que faz um método construtor? Crie uma classe Pessoa e defina seu construtor."
   ]
  },
  {
   "cell_type": "code",
   "execution_count": 1,
   "metadata": {},
   "outputs": [],
   "source": [
    "'''\n",
    "O método construtor é uma função especial que contém os atributos necessários para a\n",
    "criação de objetos (instâncias) de uma classe. Essa função pode aceitar argumentos e essas\n",
    "#informações de entrada são atribuídas ao objeto instanciado. \n",
    "Outros atributos podem ser definidos com informações 'default' \n",
    "para posteriormente serem modificadas se necessário.\n",
    "'''\n",
    "# Criação da classe Pessoa\n",
    "class Pessoa(): \n",
    "    def __init__(self, nome, sexo, idade): # Método construtor da classe Pessoa \n",
    "        self.nome = nome \n",
    "        self.sexo = sexo \n",
    "        self.idade = idade"
   ]
  },
  {
   "cell_type": "code",
   "execution_count": 2,
   "metadata": {},
   "outputs": [],
   "source": [
    "# criando uma instância 'a' da classe Pessoa \n",
    "a = Pessoa('Fulano', 'M', 20) "
   ]
  },
  {
   "cell_type": "code",
   "execution_count": 3,
   "metadata": {},
   "outputs": [
    {
     "name": "stdout",
     "output_type": "stream",
     "text": [
      "Fulano\n",
      "M\n",
      "20\n"
     ]
    }
   ],
   "source": [
    "# Verificando os atributos do objeto 'a' da classe 'Pessoa':\n",
    "print(a.nome)\n",
    "print(a.sexo)\n",
    "print(a.idade)"
   ]
  },
  {
   "cell_type": "markdown",
   "metadata": {},
   "source": [
    "**Q2:** Escreva um programa que lê nome e idade de 5 pessoas e ao final informa quem é o mais novo, o mais velho e qual a média de idade. Faça o cálculo incluindo um método estático que leva em consideração um atributo estático com a lista de todas as pessoas."
   ]
  },
  {
   "cell_type": "code",
   "execution_count": 4,
   "metadata": {},
   "outputs": [],
   "source": [
    "class Pessoas: \n",
    "    cadastradas = {} # Atributo estático para armazenar as pessoas 'nome: idade'\n",
    "\n",
    "    def __init__(self, nome, idade):    # Método construtor pega o nome e idade da pessoa\n",
    "        self.nome = nome\n",
    "        self.idade = idade\n",
    "        Pessoas.cadastradas[self.nome] = self.idade # par pessoa:idade armazenada no dicionário \n",
    "    \n",
    "    @staticmethod\n",
    "    def resumo():\n",
    "        import statistics\n",
    "        mais_novo = min(Pessoas.cadastradas, key=Pessoas.cadastradas.get)\n",
    "        mais_velho = max(Pessoas.cadastradas, key=Pessoas.cadastradas.get)\n",
    "        media = statistics.mean(Pessoas.cadastradas.values())\n",
    "        print(f'A pessoa mais nova é {mais_novo} e a mais velha é {mais_velho}.')\n",
    "        print(f'A média de idade das pessoas cadastradas é {media}')\n",
    "    \n",
    "    @staticmethod\n",
    "    def listar():\n",
    "        for obj in Pessoas.cadastradas.items():\n",
    "            print(obj)"
   ]
  },
  {
   "cell_type": "code",
   "execution_count": 5,
   "metadata": {},
   "outputs": [],
   "source": [
    "# Usando a classe:\n",
    "# Dicionário para criar as instâncias da classe Pessoa\n",
    "entrada = {'João':24,'Pedro':22,'Maria':37,'Joaquim':14,'Marta':35}\n",
    "\n",
    "# Criando as instâncias a partir do dicionário 'entrada'\n",
    "for chave, valor in entrada.items(): \n",
    "    pessoas_5 = Pessoas(chave, valor)"
   ]
  },
  {
   "cell_type": "code",
   "execution_count": 6,
   "metadata": {},
   "outputs": [
    {
     "name": "stdout",
     "output_type": "stream",
     "text": [
      "A pessoa mais nova é Joaquim e a mais velha é Maria.\n",
      "A média de idade das pessoas cadastradas é 26.4\n"
     ]
    }
   ],
   "source": [
    "# Verificando:\n",
    "pessoas_5.resumo()"
   ]
  },
  {
   "cell_type": "code",
   "execution_count": 7,
   "metadata": {},
   "outputs": [
    {
     "name": "stdout",
     "output_type": "stream",
     "text": [
      "('João', 24)\n",
      "('Pedro', 22)\n",
      "('Maria', 37)\n",
      "('Joaquim', 14)\n",
      "('Marta', 35)\n"
     ]
    }
   ],
   "source": [
    "# Lista de pessoas\n",
    "pessoas_5.listar()"
   ]
  },
  {
   "cell_type": "markdown",
   "metadata": {},
   "source": [
    "**Q3:** Escreva um programa que lê nome, peso e altura de 5 pessoas, calcula o IMC de cada um e ao final informa se alguém está fora do peso ideal (o IMC ideal é entre 18,5 e 25). Novamente implemente um método estático para realizar este cálculo."
   ]
  },
  {
   "cell_type": "code",
   "execution_count": 8,
   "metadata": {},
   "outputs": [],
   "source": [
    "class IMC: \n",
    "    cadastro = {} # Atributo estático para armazenar as pessoas 'nome: IMC' \n",
    "    alerta = {} # Atributo estático para armazenar as pessoas com IMC fora do intervalo ideal\n",
    "\n",
    "    def __init__(self, nome, altura, peso):    # Método construtor pega o nome e idade da pessoa\n",
    "        self.nome = nome\n",
    "        self.altura = altura\n",
    "        self.peso = peso\n",
    "        self.imc = round(self.peso / (self.altura**2),2)\n",
    "        IMC.cadastro[self.nome] = self.imc    # par pessoa:imc armazenado no dicionário IMC.cadastro\n",
    "        if self.imc < 18.5 or self.imc > 25:\n",
    "            IMC.alerta[self.nome] = self.imc # par pessoa:imc armazenado no dicionário IMC.alerta\n",
    "    \n",
    "    @staticmethod\n",
    "    def resumo():\n",
    "        if IMC.alerta != {}:\n",
    "            for chave in IMC.alerta:\n",
    "                print(f'{chave} está fora do peso ideal.')\n",
    "    \n",
    "        print('Exibindo as pessoas cadastradas e seus respectivos IMC:')\n",
    "        print(IMC.cadastro)"
   ]
  },
  {
   "cell_type": "code",
   "execution_count": 9,
   "metadata": {},
   "outputs": [],
   "source": [
    "# Usando a classe\n",
    "\n",
    "# Dicionário para preencher os dados\n",
    "pessoas_alturapeso = {\n",
    "    'João':[1.8, 70],\n",
    "    'Pedro':[1.65, 100],\n",
    "    'Maria':[1.7, 79],\n",
    "    'Joaquim':[1.78, 73],\n",
    "    'Marta':[1.68, 50]\n",
    "} \n",
    "\n",
    "# Preenchendo os dados em uma instância da Classe IMC\n",
    "for chave, valor in pessoas_alturapeso.items(): \n",
    "    nutri = IMC(chave, valor[0], valor[1])"
   ]
  },
  {
   "cell_type": "code",
   "execution_count": 10,
   "metadata": {},
   "outputs": [
    {
     "name": "stdout",
     "output_type": "stream",
     "text": [
      "Pedro está fora do peso ideal.\n",
      "Maria está fora do peso ideal.\n",
      "Marta está fora do peso ideal.\n",
      "Exibindo as pessoas cadastradas e seus respectivos IMC:\n",
      "{'João': 21.6, 'Pedro': 36.73, 'Maria': 27.34, 'Joaquim': 23.04, 'Marta': 17.72}\n"
     ]
    }
   ],
   "source": [
    "IMC.resumo()"
   ]
  }
 ],
 "metadata": {
  "kernelspec": {
   "display_name": "Python 3",
   "language": "python",
   "name": "python3"
  },
  "language_info": {
   "codemirror_mode": {
    "name": "ipython",
    "version": 3
   },
   "file_extension": ".py",
   "mimetype": "text/x-python",
   "name": "python",
   "nbconvert_exporter": "python",
   "pygments_lexer": "ipython3",
   "version": "3.9.5"
  }
 },
 "nbformat": 4,
 "nbformat_minor": 4
}
