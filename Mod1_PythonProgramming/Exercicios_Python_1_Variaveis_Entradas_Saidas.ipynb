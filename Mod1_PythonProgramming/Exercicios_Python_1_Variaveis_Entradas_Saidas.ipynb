{
 "cells": [
  {
   "cell_type": "markdown",
   "metadata": {},
   "source": [
    "Módulo: Lógica de programação (Python)<br>\n",
    "Lista: Variáveis, Entradas e Saídas<br>\n",
    "Data: 06/2021<br>"
   ]
  },
  {
   "cell_type": "markdown",
   "metadata": {},
   "source": [
    "**Q1:** Faça um programa que mostre a mensagem \"Olá, mundo!\" na tela. Essa é a primeira função que aprendemos ao programar em Python e serve para imprimir um determinado conteúdo na tela."
   ]
  },
  {
   "cell_type": "code",
   "execution_count": 1,
   "metadata": {},
   "outputs": [
    {
     "name": "stdout",
     "output_type": "stream",
     "text": [
      "Olá, mundo!\n"
     ]
    }
   ],
   "source": [
    "print('Olá, mundo!')"
   ]
  },
  {
   "cell_type": "markdown",
   "metadata": {},
   "source": [
    "**Q2:** Faça um programa que peça um número e mostre a mensagem \"O número informado foi [número]\"."
   ]
  },
  {
   "cell_type": "code",
   "execution_count": 2,
   "metadata": {},
   "outputs": [
    {
     "name": "stdout",
     "output_type": "stream",
     "text": [
      "Digite um número: 25\n",
      "O número informado foi 25\n"
     ]
    }
   ],
   "source": [
    "num = input('Digite um número: ') # Função input solicita uma entrada e a armazena na variável 'num'\n",
    "print('O número informado foi', num)"
   ]
  },
  {
   "cell_type": "markdown",
   "metadata": {},
   "source": [
    "**Q3:** Faça um programa que peça um número para o usuário (string), converta-o para float e depois imprima-o na tela. Você consegue fazer a mesma coisa, porém convertendo para int?"
   ]
  },
  {
   "cell_type": "code",
   "execution_count": 3,
   "metadata": {},
   "outputs": [
    {
     "name": "stdout",
     "output_type": "stream",
     "text": [
      "Digite um número que será convertido em float: 2.5\n",
      "O número informado foi 2.5\n"
     ]
    }
   ],
   "source": [
    "# Conversão para float\n",
    "num = input('Digite um número que será convertido em float: ')\n",
    "num = float(num)\n",
    "print('O número informado foi', num)"
   ]
  },
  {
   "cell_type": "code",
   "execution_count": 4,
   "metadata": {},
   "outputs": [
    {
     "name": "stdout",
     "output_type": "stream",
     "text": [
      "Digite um número que será convertido em int: 3.14\n",
      "O número informado foi 3\n"
     ]
    }
   ],
   "source": [
    "# Conversão para int\n",
    "num = input('Digite um número que será convertido em int: ')\n",
    "num = int(float(num)) # converte string em número float e converte float em inteiro\n",
    "print('O número informado foi', num)"
   ]
  },
  {
   "cell_type": "markdown",
   "metadata": {},
   "source": [
    "**Q4:** Faça um programa que peça dois números inteiros e imprima a soma deles."
   ]
  },
  {
   "cell_type": "code",
   "execution_count": 5,
   "metadata": {},
   "outputs": [
    {
     "name": "stdout",
     "output_type": "stream",
     "text": [
      "Digite um número inteiro: 5\n",
      "Digite outro número inteiro: 2\n",
      "Soma = 7\n"
     ]
    }
   ],
   "source": [
    "a = int(input('Digite um número inteiro: ')) \n",
    "b = int(input('Digite outro número inteiro: ')) \n",
    "print('Soma =', a + b)"
   ]
  },
  {
   "cell_type": "markdown",
   "metadata": {},
   "source": [
    "**Q5:** Faça um programa que peça as 4 notas bimestrais de um aluno e mostre a média aritmética delas."
   ]
  },
  {
   "cell_type": "code",
   "execution_count": 6,
   "metadata": {},
   "outputs": [
    {
     "name": "stdout",
     "output_type": "stream",
     "text": [
      "Informe suas 4 notas bimestrais para calcular a média aritmética.\n",
      "\n",
      "Insira a primeira nota: 5.2\n",
      "Insira a segunda nota: 6.8\n",
      "Insira a terceira nota:7.2\n",
      "Insira a quarta nota: 8.8\n",
      "A média das notas é 7.0\n"
     ]
    }
   ],
   "source": [
    "print('Informe suas 4 notas bimestrais para calcular a média aritmética.\\n')\n",
    "p1 = float(input('Insira a primeira nota: ')) \n",
    "p2 = float(input('Insira a segunda nota: ')) \n",
    "p3 = float(input('Insira a terceira nota:')) \n",
    "p4 = float(input('Insira a quarta nota: ')) \n",
    "media = (p1 + p2 + p3 + p4)/4 \n",
    "print('A média das notas é', media)"
   ]
  },
  {
   "cell_type": "markdown",
   "metadata": {},
   "source": [
    "**Q6:** Faça um programa que peça o raio de um círculo, calcule e mostre sua área.\n",
    "\n",
    "Obs: Fórmula da área de um círculo: A = 3,14*(r^2), onde r é o raio. "
   ]
  },
  {
   "cell_type": "code",
   "execution_count": 7,
   "metadata": {},
   "outputs": [
    {
     "name": "stdout",
     "output_type": "stream",
     "text": [
      "Informe o raio do círculo: 2\n",
      "A área do círculo é 12.56\n"
     ]
    }
   ],
   "source": [
    "raio = float(input('Informe o raio do círculo: ')) \n",
    "area = 3.14*(raio**2) \n",
    "print('A área do círculo é', area)"
   ]
  },
  {
   "cell_type": "markdown",
   "metadata": {},
   "source": [
    "**Q7:** Faça um programa que pergunte quanto você ganha por hora e o número de horas trabalhadas no mês e depois, calcule e mostre o total do seu salário no referido mês."
   ]
  },
  {
   "cell_type": "code",
   "execution_count": 8,
   "metadata": {},
   "outputs": [
    {
     "name": "stdout",
     "output_type": "stream",
     "text": [
      "Informe quanto você ganha por hora trabalhada: 60\n",
      "Informe o número de horas que você trabalha por mês: 150\n",
      "Seu salário no mês é 9000.0\n"
     ]
    }
   ],
   "source": [
    "salario = float(input('Informe quanto você ganha por hora trabalhada: ')) \n",
    "horas = int(input('Informe o número de horas que você trabalha por mês: ')) \n",
    "print('Seu salário no mês é',salario*horas)"
   ]
  },
  {
   "cell_type": "markdown",
   "metadata": {},
   "source": [
    "**Q8:** Faça um programa que peça a temperatura em graus Fahrenheit (F), transforme e mostre a temperatura em graus Celsius (°C).\n",
    "\n",
    "°C = (5 * (F-32) / 9)\n",
    "\n",
    "Obs: Tente também fazer um programa que faça o inverso: peça a temperatura em graus Celsius e a transforme em graus Fahrenheit."
   ]
  },
  {
   "cell_type": "code",
   "execution_count": 10,
   "metadata": {},
   "outputs": [
    {
     "name": "stdout",
     "output_type": "stream",
     "text": [
      "Informe a temperatura em graus Fahrenheit: 212\n",
      "A temperatura em graus Celsius é: 100.0\n"
     ]
    }
   ],
   "source": [
    "# Fahrenheit (F) para Celsius:\n",
    "f = float(input('Informe a temperatura em graus Fahrenheit: ')) \n",
    "c = 5*(f-32)/9 \n",
    "print('A temperatura em graus Celsius é:', c)"
   ]
  },
  {
   "cell_type": "code",
   "execution_count": 9,
   "metadata": {},
   "outputs": [
    {
     "name": "stdout",
     "output_type": "stream",
     "text": [
      "Informe a temperatura em graus Celsius: 100\n",
      "A temperatura em graus Fahrenheit é: 212.0\n"
     ]
    }
   ],
   "source": [
    "# Celsius para Fahrenheit \n",
    "c = float(input('Informe a temperatura em graus Celsius: ')) \n",
    "f = 1.8*c + 32 \n",
    "print('A temperatura em graus Fahrenheit é:', f)"
   ]
  },
  {
   "cell_type": "markdown",
   "metadata": {},
   "source": [
    "**Q9:** Faça um programa que peça o dia, o mês e o ano para o usuário e imprima a data completa no formato dd/mm/aaaa. "
   ]
  },
  {
   "cell_type": "code",
   "execution_count": 11,
   "metadata": {},
   "outputs": [
    {
     "name": "stdout",
     "output_type": "stream",
     "text": [
      "Informe o dia (dd): 05\n",
      "Informe o mês (mm): 08\n",
      "Informe o ano (aaaa): 2021\n",
      "A data é: 05 / 08 / 2021\n",
      "A data é: 05/08/2021\n",
      "A data é: 05/08/2021\n"
     ]
    }
   ],
   "source": [
    "# Propósito é exercitar maneiras de fazer o print\n",
    "dia = input('Informe o dia (dd): ') \n",
    "mes = input('Informe o mês (mm): ') \n",
    "ano = input('Informe o ano (aaaa): ') \n",
    "# Usando argumentos\n",
    "print('A data é:', dia, '/', mes, '/', ano)\n",
    "# Usando argumentos\n",
    "print('A data é: ', dia, '/', mes, '/', ano, sep='')\n",
    "# Usando concatenação com de strings '+'\n",
    "print('A data é:', dia + '/' + mes + '/' + ano)"
   ]
  },
  {
   "cell_type": "markdown",
   "metadata": {},
   "source": [
    "**Q10:** Faça um programa que peça 2 números inteiros e um número real, calcule e mostre:\n",
    "\n",
    "a) o produto do dobro do primeiro com metade do segundo.\n",
    "\n",
    "b) a soma do triplo do primeiro com o terceiro.\n",
    "\n",
    "c) o terceiro elevado ao cubo.\n"
   ]
  },
  {
   "cell_type": "code",
   "execution_count": 12,
   "metadata": {},
   "outputs": [
    {
     "name": "stdout",
     "output_type": "stream",
     "text": [
      "Insira um número inteiro: 2\n",
      "Insira outro número inteiro: 5\n",
      "Insira um número real: 3.5\n",
      "Produto do dobro do primeiro com metade do segundo: 10.0\n",
      "Soma do triplo do primeiro com o terceiro: 9.5\n",
      "O terceiro número elevado ao cubo: 42.875\n"
     ]
    }
   ],
   "source": [
    "int1 = int(input('Insira um número inteiro: ')) \n",
    "int2 = int(input('Insira outro número inteiro: ')) \n",
    "real = float(input('Insira um número real: '))\n",
    "\n",
    "a = (2*int1) * (int2/2)\n",
    "b = (3*int1) + real\n",
    "c = real**3\n",
    "\n",
    "print('Produto do dobro do primeiro com metade do segundo:', a) \n",
    "print('Soma do triplo do primeiro com o terceiro:', b) \n",
    "print('O terceiro número elevado ao cubo:', c)"
   ]
  },
  {
   "cell_type": "markdown",
   "metadata": {},
   "source": [
    "**Q11:** Faça um programa que peça o peso e altura de uma pessoa e calcule seu IMC (Índice de Massa Corporal).\n",
    "\n",
    "Obs: IMC = Peso/Altura**2"
   ]
  },
  {
   "cell_type": "code",
   "execution_count": 13,
   "metadata": {},
   "outputs": [
    {
     "name": "stdout",
     "output_type": "stream",
     "text": [
      "Este programa calcula o seu IMC.\n",
      "Informe seu peso em kg: 70\n",
      "Informe sua altura em metros: 1.80\n",
      "Seu IMC é 21.6\n"
     ]
    }
   ],
   "source": [
    "print('Este programa calcula o seu IMC.') \n",
    "peso = float(input('Informe seu peso em kg: ')) \n",
    "altura = float(input('Informe sua altura em metros: ')) \n",
    "imc = round(peso/altura**2, 2) \n",
    "print('Seu IMC é', imc)"
   ]
  },
  {
   "cell_type": "markdown",
   "metadata": {},
   "source": [
    "**Q12:** Faça um programa que peça um valor monetário e aumente-o em 15%. Seu programa deve imprimir a mensagem “O novo valor é [valor]”."
   ]
  },
  {
   "cell_type": "code",
   "execution_count": 14,
   "metadata": {},
   "outputs": [
    {
     "name": "stdout",
     "output_type": "stream",
     "text": [
      "Informe um valor monetário e este programa o aumenta em 15%: 45.50\n",
      "O novo valor é:  52.32\n"
     ]
    }
   ],
   "source": [
    "valor = float(input(\"Informe um valor monetário e este programa o aumenta em 15%: \")) \n",
    "print('O novo valor é: ', round(valor*1.15, 2))"
   ]
  },
  {
   "cell_type": "markdown",
   "metadata": {},
   "source": [
    "**Q13:** Faça um programa que peça um valor monetário e diminua-o em 15%. Seu programa deve imprimir a mensagem “O novo valor é [valor]”."
   ]
  },
  {
   "cell_type": "code",
   "execution_count": 15,
   "metadata": {},
   "outputs": [
    {
     "name": "stdout",
     "output_type": "stream",
     "text": [
      "Informe um valor monetário e este programa o reduz em 15%: 82.50\n",
      "O novo valor é:  70.12\n"
     ]
    }
   ],
   "source": [
    "valor = float(input(\"Informe um valor monetário e este programa o reduz em 15%: \")) \n",
    "print('O novo valor é: ', round(valor*0.85, 2))"
   ]
  },
  {
   "cell_type": "markdown",
   "metadata": {},
   "source": [
    "**Desafio 1:** Peça para o usuário digitar uma velocidade inicial (em m/s), uma posição inicial (em m) e um instante de tempo (em s) e imprima a posição de um projétil nesse instante de tempo.\n",
    "\n",
    "Use a fórmula matemática:\n",
    "\n",
    "y(t) = y(0) + v(0)*t + (g*(t**2)/2)\n",
    "\n",
    "Onde, g é a aceleração da gravidade (-10m/s²), y(t) é a posição final, y(0) é a posição inicial, v(0) é a velocidade inicial e t é o instante de tempo.\n",
    "\n",
    "Motivação: A computação passou por um importante período de desenvolvimento durante a Segunda Guerra Mundial e um dos primeiros computadores eletromecânicos criados tinha como objetivo justamente realizar cálculos balísticos. O nome dele é ENIAC (Electronic Numerical Integrator and Computer), pesava 30 toneladas e ocupava 180m² além de não ter poder maior que uma calculadora de bolso hoje em dia.\n"
   ]
  },
  {
   "cell_type": "code",
   "execution_count": 16,
   "metadata": {},
   "outputs": [
    {
     "name": "stdout",
     "output_type": "stream",
     "text": [
      "Este programa calcula o deslocamento horizontal de um projétil.\n",
      "Informe a posição inicial (em m): 0\n",
      "Informe a velocidade inicial (em m/s): 100\n",
      "Informe um instante de tempo (em s): 10\n",
      "A posição de um projétil nesse instante de tempo é 500.0\n"
     ]
    }
   ],
   "source": [
    "print('Este programa calcula o deslocamento horizontal de um projétil.') \n",
    "y0 = float(input(\"Informe a posição inicial (em m): \"))\n",
    "v0 = float(input(\"Informe a velocidade inicial (em m/s): \")) \n",
    "t = float(input(\"Informe um instante de tempo (em s): \"))\n",
    "g = -10\n",
    "\n",
    "y = y0 + v0*t + 0.5*g*t**2\n",
    "\n",
    "print('A posição de um projétil nesse instante de tempo é', y)"
   ]
  },
  {
   "cell_type": "markdown",
   "metadata": {},
   "source": [
    "**Desafio 2:** Faça um programa que informe a data e a hora para o usuário. Para isso use a função datetime.now() do módulo datetime.\n",
    "\n",
    "Motivação: usar DateTime e explorar diferentes maneiras de extrair a informação desejada."
   ]
  },
  {
   "cell_type": "code",
   "execution_count": 17,
   "metadata": {},
   "outputs": [
    {
     "name": "stdout",
     "output_type": "stream",
     "text": [
      "Data e hora atuais: 11/01/22 16:37:18\n"
     ]
    }
   ],
   "source": [
    "from datetime import datetime # Importação da biblioteca datetime\n",
    "data_hora_atual = datetime.now() # Uso da função now() da biblioteca datetime\n",
    "data_hora_atual_texto = data_hora_atual.strftime('%d/%m/%y %H:%M:%S') # extração da data e hora formatadas\n",
    "print('Data e hora atuais:', data_hora_atual_texto)"
   ]
  },
  {
   "cell_type": "code",
   "execution_count": 18,
   "metadata": {},
   "outputs": [
    {
     "name": "stdout",
     "output_type": "stream",
     "text": [
      "11/1/2022 16:37:25\n"
     ]
    }
   ],
   "source": [
    "# Outra maneira\n",
    "agora = datetime.now() # Uso da função now() da biblioteca datetime\n",
    "\n",
    "# Extração das informações desejadas\n",
    "ano = agora.year\n",
    "mes = agora.month\n",
    "dia = agora.day\n",
    "hora = agora.hour\n",
    "minuto = agora.minute\n",
    "segundo = agora.second\n",
    "\n",
    "# Imprimimos o resultado \n",
    "print(dia, \"/\", mes, \"/\", ano, \" \", hora, \":\", minuto, \":\", segundo, sep=\"\")"
   ]
  },
  {
   "cell_type": "code",
   "execution_count": 19,
   "metadata": {},
   "outputs": [
    {
     "name": "stdout",
     "output_type": "stream",
     "text": [
      "11/01/2022 16:37:29\n"
     ]
    }
   ],
   "source": [
    "# Outra maneira\n",
    "agora = datetime.now()\n",
    "formato = \"%d/%m/%Y %H:%M:%S\" # Definimos um formato \n",
    "agora_formatado = datetime.strftime(agora,formato) # Usamos a função strftime(), que formata automaticamente o texto\n",
    "print(agora_formatado)"
   ]
  }
 ],
 "metadata": {
  "kernelspec": {
   "display_name": "Python 3",
   "language": "python",
   "name": "python3"
  },
  "language_info": {
   "codemirror_mode": {
    "name": "ipython",
    "version": 3
   },
   "file_extension": ".py",
   "mimetype": "text/x-python",
   "name": "python",
   "nbconvert_exporter": "python",
   "pygments_lexer": "ipython3",
   "version": "3.9.5"
  }
 },
 "nbformat": 4,
 "nbformat_minor": 4
}
