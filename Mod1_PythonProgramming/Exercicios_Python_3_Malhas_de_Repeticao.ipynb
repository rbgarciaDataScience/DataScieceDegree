{
 "cells": [
  {
   "cell_type": "markdown",
   "metadata": {},
   "source": [
    "Módulo: Lógica de programação (Python)<br>\n",
    "Lista: Malhas de repetição<br>\n",
    "Data: 06/2021<br>"
   ]
  },
  {
   "cell_type": "markdown",
   "metadata": {},
   "source": [
    "**Q1:** Faça um programa que peça ao usuário um número e imprima todos os números de um até o número dado.\n",
    "\n",
    "Exemplo:\n",
    "\n",
    "digite: 5\n",
    "\n",
    "imprime: 1 2 3 4 5\n"
   ]
  },
  {
   "cell_type": "code",
   "execution_count": 1,
   "metadata": {},
   "outputs": [
    {
     "name": "stdout",
     "output_type": "stream",
     "text": [
      "Este programa imprime de 1 até o número informado pelo usuário.\n",
      "Informe um número: 5\n",
      "1\n",
      "2\n",
      "3\n",
      "4\n",
      "5\n"
     ]
    }
   ],
   "source": [
    "print('Este programa imprime de 1 até o número informado pelo usuário.') \n",
    "fim = int(input('Informe um número: ')) \n",
    "contador = 1 \n",
    "while contador <= fim: \n",
    "    print(contador) \n",
    "    contador += 1"
   ]
  },
  {
   "cell_type": "markdown",
   "metadata": {},
   "source": [
    "**Q2:** Peça ao usuário para digitar um número e imprima o fatorial de n."
   ]
  },
  {
   "cell_type": "code",
   "execution_count": 2,
   "metadata": {},
   "outputs": [
    {
     "name": "stdout",
     "output_type": "stream",
     "text": [
      "Informe um número n para calcularmos seu fatorial n!: 5\n",
      "O fatorial é: 120\n"
     ]
    }
   ],
   "source": [
    "n = int(input('Informe um número n para calcularmos seu fatorial n!: ')) \n",
    "contador = 1 \n",
    "fatorial = 1 \n",
    "while contador <= n: \n",
    "    fatorial = fatorial * contador \n",
    "    contador += 1\n",
    "print('O fatorial é:',fatorial)"
   ]
  },
  {
   "cell_type": "markdown",
   "metadata": {},
   "source": [
    "**Q3:** Peça ao usuário para digitar um número N e some todos os números de 1 a N utilizando o laço de repetição while."
   ]
  },
  {
   "cell_type": "code",
   "execution_count": 3,
   "metadata": {},
   "outputs": [
    {
     "name": "stdout",
     "output_type": "stream",
     "text": [
      "Digite um número: 8\n",
      "A soma de 1 até 8 é igual a 36\n"
     ]
    }
   ],
   "source": [
    "n = int(input('Digite um número: ')) \n",
    "contador = 1 \n",
    "soma = 0 \n",
    "while contador <= n: \n",
    "    soma = soma + contador \n",
    "    contador += 1 \n",
    "print('A soma de 1 até', n, 'é igual a', soma)"
   ]
  },
  {
   "cell_type": "markdown",
   "metadata": {},
   "source": [
    "**Q4:** Faça um programa que imprima a tabuada do 9 (de 9x1 a 9x10) usando loops.<br>\n",
    "Objetivo: comparar loop while e for"
   ]
  },
  {
   "cell_type": "code",
   "execution_count": 4,
   "metadata": {},
   "outputs": [
    {
     "name": "stdout",
     "output_type": "stream",
     "text": [
      "Este programa imprime a tabuada do 9.\n",
      "Usando \"while\"\n",
      "9 x 1 = 9\n",
      "9 x 2 = 18\n",
      "9 x 3 = 27\n",
      "9 x 4 = 36\n",
      "9 x 5 = 45\n",
      "9 x 6 = 54\n",
      "9 x 7 = 63\n",
      "9 x 8 = 72\n",
      "9 x 9 = 81\n",
      "9 x 10 = 90\n",
      "\n",
      "Usando \"for\"\n",
      "9 x 1 = 9\n",
      "9 x 2 = 18\n",
      "9 x 3 = 27\n",
      "9 x 4 = 36\n",
      "9 x 5 = 45\n",
      "9 x 6 = 54\n",
      "9 x 7 = 63\n",
      "9 x 8 = 72\n",
      "9 x 9 = 81\n",
      "9 x 10 = 90\n"
     ]
    }
   ],
   "source": [
    "print('Este programa imprime a tabuada do 9.') \n",
    "print('Usando \"while\"') \n",
    "contador = 1\n",
    "while contador <= 10: \n",
    "    produto = 9 * contador \n",
    "    print('9 x', contador, '=', produto) \n",
    "    contador += 1\n",
    "\n",
    "print('\\nUsando \"for\"') \n",
    "for n in range(1, 11): \n",
    "    produto = 9 * n \n",
    "    print('9 x', n, '=', produto)"
   ]
  },
  {
   "cell_type": "markdown",
   "metadata": {},
   "source": [
    "**Q5:** Faça um programa, usando loops, que peça para um usuário digitar um número e que só finaliza quando o usuário digitar 0. Ao final imprima a soma de todos os números digitados.\n"
   ]
  },
  {
   "cell_type": "code",
   "execution_count": 5,
   "metadata": {},
   "outputs": [
    {
     "name": "stdout",
     "output_type": "stream",
     "text": [
      "Este programa soma os números informados pelo usuário (digite 0 para finalizar).\n",
      "Informe um número: 1\n",
      "Informe um número: 2\n",
      "Informe um número: 3\n",
      "Informe um número: 4\n",
      "Informe um número: 5\n",
      "Informe um número: 6\n",
      "Informe um número: 7\n",
      "Informe um número: 8\n",
      "Informe um número: 0\n",
      "A soma dos números informados é 36.0\n"
     ]
    }
   ],
   "source": [
    "print('Este programa soma os números informados pelo usuário (digite 0 para finalizar).') \n",
    "\n",
    "soma = 0\n",
    "x = float(input('Informe um número: ')) \n",
    "while x != 0: \n",
    "    soma = soma + x \n",
    "    x = float(input('Informe um número: '))\n",
    "\n",
    "print('A soma dos números informados é', soma)"
   ]
  },
  {
   "cell_type": "markdown",
   "metadata": {},
   "source": [
    "**Q6:** Faça um programa que sorteia um número N e peça para o usuário adivinhar o número sorteado. A cada resposta errada, o seu programa deve imprimir um aviso dizendo que a resposta está errada e pedir novamente uma resposta ao usuário.\n",
    "\n",
    "Para a realização desse exercício, utilize alguma função da biblioteca random (e.g. randint())."
   ]
  },
  {
   "cell_type": "code",
   "execution_count": 6,
   "metadata": {},
   "outputs": [
    {
     "name": "stdout",
     "output_type": "stream",
     "text": [
      "Tente adivinhar o número N sorteado entre 0 e 10: 3\n",
      "Acertou! O número sorteado foi 3\n"
     ]
    }
   ],
   "source": [
    "import random \n",
    "N = random.randint(0, 10) \n",
    "x = int(input('Tente adivinhar o número N sorteado entre 0 e 10: '))\n",
    "\n",
    "while x != N: \n",
    "    x = int(input('Resposta errada. Tente novamente: '))\n",
    "\n",
    "print('Acertou! O número sorteado foi', N)"
   ]
  },
  {
   "cell_type": "markdown",
   "metadata": {},
   "source": [
    "**Q7:** Faça um programa que peça para o usuário digitar a idade, o salário e o sexo de uma pessoa até que as entradas digitadas sejam válidas.\n",
    "\n",
    "a. Idade: entre 0 e 150;\n",
    "\n",
    "b. Salário: maior que 0;\n",
    "\n",
    "c. Sexo: M, F ou Outro.\n"
   ]
  },
  {
   "cell_type": "code",
   "execution_count": 7,
   "metadata": {},
   "outputs": [
    {
     "name": "stdout",
     "output_type": "stream",
     "text": [
      "Informe a idade: 0\n",
      "Informe o salário: 0\n",
      "Informe um salário válido (maior que 0): 1\n",
      "Informe o sexo (M, F ou Outro): M\n",
      "Idade inserida: 0\n",
      "Salário inserido: 1.0\n",
      "Sexo inserido: M\n"
     ]
    }
   ],
   "source": [
    "a = int(input('Informe a idade: ')) \n",
    "while a < 0 or a > 150: \n",
    "    a = int(input('Por favor, informe uma idade válida (entre 0 e 150): '))\n",
    "\n",
    "b = float(input('Informe o salário: ')) \n",
    "while b <= 0: \n",
    "    b = float(input('Informe um salário válido (maior que 0): '))\n",
    "    \n",
    "c = input('Informe o sexo (M, F ou Outro): ') \n",
    "while c != 'M' and c != 'F' and c != 'Outro': \n",
    "    c = input('Infome uma entrada válida (M, F ou Outro): ')\n",
    "\n",
    "print('Idade inserida:', a)\n",
    "print('Salário inserido:', b)\n",
    "print('Sexo inserido:', c)"
   ]
  },
  {
   "cell_type": "markdown",
   "metadata": {},
   "source": [
    "**Q8:** Desafio! - Calcule a soma de até mil termos da série 1 + 1/2 + 1/4 + 1/8 + 1/16 + ...\n",
    "\n",
    "Dica: Use três variáveis:\n",
    "\n",
    "• um contador, que começa em zero;\n",
    "\n",
    "• uma variável para a soma de todos os termos, que também começa em zero;\n",
    "\n",
    "• uma variável para cada termo, que começa em 1 e a cada loop é dividida por 2.\n",
    "\n",
    "A repetição da soma de mil termos pode ser feita com a função while contador < 1000."
   ]
  },
  {
   "cell_type": "code",
   "execution_count": 8,
   "metadata": {},
   "outputs": [
    {
     "name": "stdout",
     "output_type": "stream",
     "text": [
      "2.0\n"
     ]
    }
   ],
   "source": [
    "contador = 0 \n",
    "soma = 0\n",
    "\n",
    "while contador < 1000: \n",
    "    soma = soma + 1/(2**contador) \n",
    "    contador += 1\n",
    "\n",
    "print(soma)"
   ]
  },
  {
   "cell_type": "code",
   "execution_count": 9,
   "metadata": {},
   "outputs": [
    {
     "name": "stdout",
     "output_type": "stream",
     "text": [
      "2.0\n"
     ]
    }
   ],
   "source": [
    "# Outra maneira (usando 3 termos)\n",
    "contador = 0\n",
    "soma = 0\n",
    "valor = 1 \n",
    "\n",
    "while contador < 1000:\n",
    "    soma += valor\n",
    "    valor /= 2\n",
    "    contador +=1 \n",
    "\n",
    "print(soma)"
   ]
  },
  {
   "cell_type": "markdown",
   "metadata": {},
   "source": [
    "**Q9:** Super Desafio! - Calcule a soma de mil termos dos inversos dos fatoriais: 1/(1!) + 1/(2!) + 1/(3!) + 1/(4!) + ...\n",
    "\n",
    "Dica: Assim como no exercício anterior use três variáveis: um contador; uma variável para a soma; e uma variável para os termos. Lembre-se de que 4! = 4*3*2*1 que também é igual a 4*3!."
   ]
  },
  {
   "cell_type": "code",
   "execution_count": 10,
   "metadata": {},
   "outputs": [
    {
     "name": "stdout",
     "output_type": "stream",
     "text": [
      "1.7182818284590455\n"
     ]
    }
   ],
   "source": [
    "contador = 1 \n",
    "soma = 0 \n",
    "fatorial = 1\n",
    "\n",
    "while contador <= 1000: \n",
    "    fatorial = fatorial*contador \n",
    "    soma = soma + 1/fatorial\n",
    "    contador += 1\n",
    "\n",
    "print(soma)"
   ]
  },
  {
   "cell_type": "code",
   "execution_count": 11,
   "metadata": {},
   "outputs": [
    {
     "name": "stdout",
     "output_type": "stream",
     "text": [
      "1.7182818284590455\n"
     ]
    }
   ],
   "source": [
    "# Outra maneira:\n",
    "contador = 1\n",
    "soma = 0\n",
    "valor = 1 \n",
    "fatorial = 1\n",
    "\n",
    "while contador < 1000:\n",
    "  fatorial *= contador\n",
    "  valor = 1/fatorial\n",
    "  soma += valor\n",
    "  contador +=1 \n",
    "\n",
    "print(soma)"
   ]
  }
 ],
 "metadata": {
  "kernelspec": {
   "display_name": "Python 3",
   "language": "python",
   "name": "python3"
  },
  "language_info": {
   "codemirror_mode": {
    "name": "ipython",
    "version": 3
   },
   "file_extension": ".py",
   "mimetype": "text/x-python",
   "name": "python",
   "nbconvert_exporter": "python",
   "pygments_lexer": "ipython3",
   "version": "3.9.5"
  }
 },
 "nbformat": 4,
 "nbformat_minor": 4
}
