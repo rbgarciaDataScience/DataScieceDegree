{
 "cells": [
  {
   "cell_type": "markdown",
   "metadata": {},
   "source": [
    "Módulo: Lógica de programação (Python)<br>\n",
    "Lista: Classes e Objetos<br>\n",
    "Data: 07/2021<br>"
   ]
  },
  {
   "cell_type": "markdown",
   "metadata": {},
   "source": [
    "**Q1:** Crie uma classe Bola cujos atributos são cor e raio. Crie um método que imprime a cor da bola. Crie um método para calcular a área dessa bola. Crie um método para calcular o volume da bola. Crie um objeto dessa classe e calcule a área e o volume, imprimindo ambos em seguida.\n",
    "\n",
    "Obs.:\n",
    "\n",
    "Área da esfera = 4*3.14*r*r;\n",
    "\n",
    "Volume da esfera = 4*3.14*r*r*r/3\n"
   ]
  },
  {
   "cell_type": "code",
   "execution_count": 1,
   "metadata": {},
   "outputs": [],
   "source": [
    "class Bola:\n",
    "    def __init__(self, cor, raio):\n",
    "        self.cor = cor\n",
    "        self.raio = raio\n",
    "        \n",
    "    def cor_bola(self):\n",
    "        return print(self.cor)\n",
    "    \n",
    "    def calcular_area(self):\n",
    "        return 4 * 3.14 * self.raio**2\n",
    "    \n",
    "    def calcular_volume(self):\n",
    "        return (4 * 3.14 * self.raio**3)/3"
   ]
  },
  {
   "cell_type": "code",
   "execution_count": 2,
   "metadata": {},
   "outputs": [
    {
     "name": "stdout",
     "output_type": "stream",
     "text": [
      "Vermelha\n",
      "Área da bola: 314.0\n",
      "Volume da bola: 523.3333333333334\n"
     ]
    }
   ],
   "source": [
    "# Instanciando um objeto da classe bola\n",
    "b1 = Bola('Vermelha', 5)\n",
    "b1.cor_bola()\n",
    "a = b1.calcular_area()\n",
    "v = b1.calcular_volume()\n",
    "print('Área da bola:', a)\n",
    "print('Volume da bola:', v)"
   ]
  },
  {
   "cell_type": "markdown",
   "metadata": {},
   "source": [
    "**Q2:** Crie uma classe Retângulo cujos atributos são lado_a e lado_b. Crie um método para calcular a área desse retângulo. Crie um objeto dessa classe e calcule a área e a imprima em seguida."
   ]
  },
  {
   "cell_type": "code",
   "execution_count": 3,
   "metadata": {},
   "outputs": [],
   "source": [
    "class Retangulo:\n",
    "    \n",
    "    def __init__(self, lado_a, lado_b):\n",
    "        self.lado_a = lado_a\n",
    "        self.lado_b = lado_b\n",
    "    \n",
    "    def area(self):\n",
    "        return self.lado_a * self.lado_b"
   ]
  },
  {
   "cell_type": "code",
   "execution_count": 4,
   "metadata": {},
   "outputs": [
    {
     "name": "stdout",
     "output_type": "stream",
     "text": [
      "Área do retângulo: 8\n"
     ]
    }
   ],
   "source": [
    "# Instanciando um objeto da classe Retangulo\n",
    "ret = Retangulo(2, 4)\n",
    "print('Área do retângulo:',ret.area())"
   ]
  },
  {
   "cell_type": "markdown",
   "metadata": {},
   "source": [
    "**Q3:** Crie uma classe Funcionario cujos atributos são nome e e-mail. Guarde as horas trabalhadas em um dicionário cujas chaves são o mês em questão e, em outro dicionário, guarde o salário por hora relativo ao mês em questão. Crie um método que retorna o salário mensal do funcionário."
   ]
  },
  {
   "cell_type": "code",
   "execution_count": 5,
   "metadata": {},
   "outputs": [],
   "source": [
    "class Funcionario:\n",
    "    def __init__(self, nome, email):\n",
    "        self.nome = nome\n",
    "        self.email = email\n",
    "        self.horas_trabalhadas_mes = {}\n",
    "        self.salario_hora_mes = {}\n",
    "    \n",
    "    def horas_trabalhadas(self, mes, horas):\n",
    "        self.horas_trabalhadas_mes[mes] = horas\n",
    "    \n",
    "    def salario_hora(self, mes, salario_hora):\n",
    "        self.salario_hora_mes[mes] = salario_hora\n",
    "    \n",
    "    def salario_mensal(self, mes):\n",
    "        salario = self.horas_trabalhadas_mes[mes] * self.salario_hora_mes[mes]\n",
    "        return print(f'O salário de {mes} foi R$', salario)"
   ]
  },
  {
   "cell_type": "code",
   "execution_count": 6,
   "metadata": {},
   "outputs": [],
   "source": [
    "# Instanciando o objeto 'Pedro' da classe 'Funcionario':\n",
    "Pedro = Funcionario('Pedro', 'pedro@gmail.com')\n",
    "\n",
    "# Preenchendo informações sobre Pedro\n",
    "Pedro.horas_trabalhadas('Janeiro', 150)\n",
    "Pedro.horas_trabalhadas('Fevereiro', 170)\n",
    "Pedro.horas_trabalhadas('Março', 110)\n",
    "Pedro.horas_trabalhadas('Abril', 130)\n",
    "Pedro.horas_trabalhadas('Maio', 150)\n",
    "Pedro.horas_trabalhadas('Junho', 180)\n",
    "Pedro.salario_hora('Janeiro', 50)\n",
    "Pedro.salario_hora('Fevereiro', 50)\n",
    "Pedro.salario_hora('Março', 50)\n",
    "Pedro.salario_hora('Abril', 50)\n",
    "Pedro.salario_hora('Maio', 50)\n",
    "Pedro.salario_hora('Junho', 50)"
   ]
  },
  {
   "cell_type": "code",
   "execution_count": 7,
   "metadata": {},
   "outputs": [
    {
     "name": "stdout",
     "output_type": "stream",
     "text": [
      "{'Janeiro': 150, 'Fevereiro': 170, 'Março': 110, 'Abril': 130, 'Maio': 150, 'Junho': 180}\n",
      "{'Janeiro': 50, 'Fevereiro': 50, 'Março': 50, 'Abril': 50, 'Maio': 50, 'Junho': 50}\n",
      "O salário de Maio foi R$ 7500\n"
     ]
    }
   ],
   "source": [
    "# Verificando as informações sobre o objeto 'Pedro'\n",
    "print(Pedro.horas_trabalhadas_mes)\n",
    "print(Pedro.salario_hora_mes)\n",
    "Pedro.salario_mensal('Maio')"
   ]
  },
  {
   "cell_type": "markdown",
   "metadata": {},
   "source": [
    "**Q4:** Crie uma classe Televisor cujos atributos são:\n",
    "\n",
    "a. fabricante;\n",
    "\n",
    "b. modelo;\n",
    "\n",
    "c. canal atual;\n",
    "\n",
    "d. lista de canais; e\n",
    "\n",
    "e. volume.\n",
    "\n",
    "Faça métodos para aumentar/diminuir volume, trocar o canal e sintonizar um novo canal, que adiciona um novo canal à lista de canais (somente se esse canal não estiver nessa lista). No atributo lista de canais, devem estar armazenados todos os canais já sintonizados dessa TV.\n",
    "\n",
    "Obs.: O volume não pode ser menor que zero e maior que cem; só se pode trocar para um canal que já esteja na lista de canais.\n"
   ]
  },
  {
   "cell_type": "code",
   "execution_count": 8,
   "metadata": {},
   "outputs": [],
   "source": [
    "class Televisor:\n",
    "    def __init__(self, fabricante, modelo):\n",
    "        self.fabricante = fabricante\n",
    "        self.modelo = modelo\n",
    "        self.canal_atual = None\n",
    "        self.lista_canais = []\n",
    "        self.volume = 20\n",
    "        \n",
    "    def aumentar_volume(self, valor):\n",
    "        if self.volume + valor >= 100:\n",
    "            self.volume = 100\n",
    "        else:\n",
    "            self.volume += valor\n",
    "        return self.volume\n",
    "    \n",
    "    def diminuir_volume(self,valor):\n",
    "        if self.volume - valor <= 0:\n",
    "            self.volume = 0\n",
    "        else:\n",
    "            self.volume -= valor\n",
    "        return self.volume\n",
    "    \n",
    "    def trocar_canal(self, canal):\n",
    "        if canal in self.lista_canais:\n",
    "            self.canal_atual = canal\n",
    "            return self.canal_atual\n",
    "    \n",
    "    def sintonizar_canal(self, canal):\n",
    "        if canal not in self.lista_canais: \n",
    "            self.lista_canais.append(canal)\n",
    "            return 'Canal adicionado'\n",
    "        else:\n",
    "            return 'Adicione um novo canal'"
   ]
  },
  {
   "cell_type": "code",
   "execution_count": 9,
   "metadata": {},
   "outputs": [
    {
     "name": "stdout",
     "output_type": "stream",
     "text": [
      "Canal atual: None\n",
      "Canal atual: SBT\n",
      "Canal atual: GLOBO\n"
     ]
    }
   ],
   "source": [
    "# Instanciando um objeto da classe Televisor:\n",
    "tv = Televisor('Samsung', 'Modelo XRS')\n",
    "\n",
    "# Sintonizando canais\n",
    "tv.sintonizar_canal('GLOBO')\n",
    "tv.sintonizar_canal('SBT')\n",
    "print('Canal atual:', tv.canal_atual)\n",
    "tv.trocar_canal('SBT')\n",
    "print('Canal atual:', tv.canal_atual)\n",
    "tv.trocar_canal('GLOBO')\n",
    "print('Canal atual:', tv.canal_atual)"
   ]
  },
  {
   "cell_type": "code",
   "execution_count": 10,
   "metadata": {},
   "outputs": [
    {
     "name": "stdout",
     "output_type": "stream",
     "text": [
      "['GLOBO', 'SBT']\n"
     ]
    }
   ],
   "source": [
    "print(tv.lista_canais)"
   ]
  },
  {
   "cell_type": "code",
   "execution_count": 11,
   "metadata": {},
   "outputs": [
    {
     "name": "stdout",
     "output_type": "stream",
     "text": [
      "Volume: 20\n",
      "Volume: 100\n"
     ]
    }
   ],
   "source": [
    "print('Volume:', tv.volume)\n",
    "tv.aumentar_volume(90)\n",
    "print('Volume:', tv.volume)"
   ]
  },
  {
   "cell_type": "markdown",
   "metadata": {},
   "source": [
    "**Q5:** Crie uma classe ControleRemoto cujo atributo é televisão (isso é, recebe um objeto da classe do exercício 4). Crie métodos para aumentar/diminuir volume, trocar o canal e sintonizar um novo canal, que adiciona um novo canal à lista de canais (somente se esse canal não estiver nessa lista)."
   ]
  },
  {
   "cell_type": "code",
   "execution_count": 12,
   "metadata": {},
   "outputs": [],
   "source": [
    "class ControleRemoto:\n",
    "    def __init__(self, tv):\n",
    "        self.tv = tv\n",
    "    \n",
    "    def aumentar_volume(self):\n",
    "        tv.aumentar_volume(1)\n",
    "    \n",
    "    def diminuir_volume(self):\n",
    "        tv.diminuir_volume(1)\n",
    "    \n",
    "    def trocar_canal(self, nome):\n",
    "        tv.trocar_canal(nome)\n",
    "    \n",
    "    def sintonizar_canal(self, nome):\n",
    "        tv.sintonizar_canal(nome)"
   ]
  },
  {
   "cell_type": "code",
   "execution_count": 13,
   "metadata": {},
   "outputs": [
    {
     "name": "stdout",
     "output_type": "stream",
     "text": [
      "100\n",
      "99\n"
     ]
    }
   ],
   "source": [
    "# Instanciando um objeto da classe ControleRemoto associado ao objeto TV:\n",
    "controle = ControleRemoto(tv)\n",
    "# Alterando o volume\n",
    "print(tv.volume)\n",
    "controle.diminuir_volume()\n",
    "print(tv.volume)"
   ]
  },
  {
   "cell_type": "code",
   "execution_count": 14,
   "metadata": {},
   "outputs": [
    {
     "name": "stdout",
     "output_type": "stream",
     "text": [
      "GLOBO\n",
      "SBT\n"
     ]
    }
   ],
   "source": [
    "# Alterando o canal do objeto tv da classe Televisor\n",
    "print(tv.canal_atual)\n",
    "controle.trocar_canal('SBT')\n",
    "print(tv.canal_atual)"
   ]
  },
  {
   "cell_type": "markdown",
   "metadata": {},
   "source": [
    "**Q6:** O módulo time possui a função time.sleep(x), que faz seu programa “dormir” por x segundos. Utilizando essa função, crie uma classe Cronômetro e faça um programa que cronometre o tempo."
   ]
  },
  {
   "cell_type": "code",
   "execution_count": 15,
   "metadata": {},
   "outputs": [],
   "source": [
    "import time\n",
    "class Cronometro:\n",
    "    def __init__(self, segundos = 0, minutos = 0, horas = 0):\n",
    "        self.segundos = segundos\n",
    "        self.minutos = minutos\n",
    "        self.horas = horas\n",
    "        \n",
    "    # Método mágico    \n",
    "    def __repr__(self):\n",
    "        texto = \"%.2d:%.2d:%.2d\" %(self.horas, self.minutos, self.segundos)\n",
    "        return texto\n",
    "    \n",
    "    def incremento(self):\n",
    "        if self.segundos >= 60:\n",
    "            self.segundos = 0\n",
    "            self.minutos += 1\n",
    "        if self.minutos >= 60:\n",
    "            self.minutos = 0\n",
    "            self.horas += 1\n",
    "        self.segundos += 1\n",
    "    def run(self):\n",
    "        while True:\n",
    "            print(self)\n",
    "            self.incremento()\n",
    "            time.sleep(1)"
   ]
  },
  {
   "cell_type": "code",
   "execution_count": 16,
   "metadata": {},
   "outputs": [
    {
     "name": "stdout",
     "output_type": "stream",
     "text": [
      "00:00:00\n",
      "00:00:01\n",
      "00:00:02\n"
     ]
    },
    {
     "ename": "KeyboardInterrupt",
     "evalue": "",
     "output_type": "error",
     "traceback": [
      "\u001b[1;31m---------------------------------------------------------------------------\u001b[0m",
      "\u001b[1;31mKeyboardInterrupt\u001b[0m                         Traceback (most recent call last)",
      "\u001b[1;32m<ipython-input-16-11c5a92aa8d9>\u001b[0m in \u001b[0;36m<module>\u001b[1;34m\u001b[0m\n\u001b[0;32m      1\u001b[0m \u001b[0mcronometro1\u001b[0m \u001b[1;33m=\u001b[0m \u001b[0mCronometro\u001b[0m\u001b[1;33m(\u001b[0m\u001b[1;33m)\u001b[0m\u001b[1;33m\u001b[0m\u001b[1;33m\u001b[0m\u001b[0m\n\u001b[1;32m----> 2\u001b[1;33m \u001b[0mcronometro1\u001b[0m\u001b[1;33m.\u001b[0m\u001b[0mrun\u001b[0m\u001b[1;33m(\u001b[0m\u001b[1;33m)\u001b[0m\u001b[1;33m\u001b[0m\u001b[1;33m\u001b[0m\u001b[0m\n\u001b[0m",
      "\u001b[1;32m<ipython-input-15-7ca5b92b4335>\u001b[0m in \u001b[0;36mrun\u001b[1;34m(self)\u001b[0m\n\u001b[0;32m     23\u001b[0m             \u001b[0mprint\u001b[0m\u001b[1;33m(\u001b[0m\u001b[0mself\u001b[0m\u001b[1;33m)\u001b[0m\u001b[1;33m\u001b[0m\u001b[1;33m\u001b[0m\u001b[0m\n\u001b[0;32m     24\u001b[0m             \u001b[0mself\u001b[0m\u001b[1;33m.\u001b[0m\u001b[0mincremento\u001b[0m\u001b[1;33m(\u001b[0m\u001b[1;33m)\u001b[0m\u001b[1;33m\u001b[0m\u001b[1;33m\u001b[0m\u001b[0m\n\u001b[1;32m---> 25\u001b[1;33m             \u001b[0mtime\u001b[0m\u001b[1;33m.\u001b[0m\u001b[0msleep\u001b[0m\u001b[1;33m(\u001b[0m\u001b[1;36m1\u001b[0m\u001b[1;33m)\u001b[0m\u001b[1;33m\u001b[0m\u001b[1;33m\u001b[0m\u001b[0m\n\u001b[0m",
      "\u001b[1;31mKeyboardInterrupt\u001b[0m: "
     ]
    }
   ],
   "source": [
    "cronometro1 = Cronometro()\n",
    "cronometro1.run()"
   ]
  },
  {
   "cell_type": "markdown",
   "metadata": {},
   "source": [
    "**Q7:** Crie uma modelagem de classes para uma agenda capaz de armazenar contatos. Através dessa agenda é possível incluir, remover, buscar e listar contatos já cadastrados."
   ]
  },
  {
   "cell_type": "code",
   "execution_count": 17,
   "metadata": {},
   "outputs": [],
   "source": [
    "class Agenda:\n",
    "    def __init__(self):\n",
    "        self.contatos = {}\n",
    "        \n",
    "    def incluir(self, nome, email, telefone):\n",
    "        self.contatos[nome] = [email, telefone]\n",
    "    \n",
    "    def excluir(self, nome):\n",
    "        del self.contatos[nome]\n",
    "    \n",
    "    def buscar(self, nome):\n",
    "        if nome in self.contatos:\n",
    "            print(f'Contato encontrado: {nome} - {self.contatos[nome]}')\n",
    "        else:\n",
    "            print('Contato não encontrado')\n",
    "    \n",
    "    def listar(self):\n",
    "        print(self.contatos)  "
   ]
  },
  {
   "cell_type": "code",
   "execution_count": 18,
   "metadata": {},
   "outputs": [],
   "source": [
    "# Instanciando um objeto da classe Agenda\n",
    "agenda = Agenda()\n",
    "agenda.incluir('Fulano', 'fulano@email.com', 111111111)\n",
    "agenda.incluir('Beltrano', 'beltrano@email.com', 222222222)"
   ]
  },
  {
   "cell_type": "code",
   "execution_count": 19,
   "metadata": {},
   "outputs": [
    {
     "name": "stdout",
     "output_type": "stream",
     "text": [
      "{'Fulano': ['fulano@email.com', 111111111], 'Beltrano': ['beltrano@email.com', 222222222]}\n"
     ]
    }
   ],
   "source": [
    "agenda.listar()"
   ]
  },
  {
   "cell_type": "code",
   "execution_count": 20,
   "metadata": {},
   "outputs": [
    {
     "name": "stdout",
     "output_type": "stream",
     "text": [
      "Contato encontrado: Fulano - ['fulano@email.com', 111111111]\n"
     ]
    }
   ],
   "source": [
    "# Fazendo uma busca na agenda:\n",
    "agenda.buscar('Fulano')"
   ]
  },
  {
   "cell_type": "code",
   "execution_count": 21,
   "metadata": {},
   "outputs": [
    {
     "name": "stdout",
     "output_type": "stream",
     "text": [
      "Contato não encontrado\n"
     ]
    }
   ],
   "source": [
    "# Fazendo uma busca na agenda:\n",
    "agenda.buscar('Pedro')"
   ]
  },
  {
   "cell_type": "markdown",
   "metadata": {},
   "source": [
    "**Q8:** Crie uma classe Cliente cujos atributos são nome, idade e e-mail. Construa um método que imprima as informações tal como abaixo:\n",
    "\n",
    "Nome: Fulano de Tal\n",
    "\n",
    "Idade: 40\n",
    "\n",
    "E-mail: fulano@mail.com"
   ]
  },
  {
   "cell_type": "code",
   "execution_count": 22,
   "metadata": {},
   "outputs": [],
   "source": [
    "class Cliente:\n",
    "    def __init__(self, nome, idade, email):\n",
    "        self.nome = nome\n",
    "        self.idade = idade\n",
    "        self.email = email\n",
    "    \n",
    "    def info(self):\n",
    "        print(f'Nome:', self.nome)\n",
    "        print(f'\\nIdade:', self.idade)\n",
    "        print(f'\\nE-mail:', self.email)"
   ]
  },
  {
   "cell_type": "code",
   "execution_count": 23,
   "metadata": {},
   "outputs": [
    {
     "name": "stdout",
     "output_type": "stream",
     "text": [
      "Nome: João da Silva\n",
      "\n",
      "Idade: 49\n",
      "\n",
      "E-mail: jsilva@gmail.com\n"
     ]
    }
   ],
   "source": [
    "# Instanciando um objeto da classe Cliente\n",
    "c1 = Cliente('João da Silva', 49, 'jsilva@gmail.com')\n",
    "c1.info()"
   ]
  },
  {
   "cell_type": "markdown",
   "metadata": {},
   "source": [
    "**Q9:** Com base no exercício anterior, crie um sistema de cadastro e a classe Cliente. Seu programa deve perguntar se o usuário quer cadastrar um novo cliente, alterar um cadastro ou sair.\n",
    "\n",
    "Dica: Você pode fazer esse exercício criando uma classe Sistema, que irá controlar o sistema de cadastros. Essa classe deve ter o atributo cadastro e os métodos para imprimir os cadastrados, cadastrar um novo cliente, alterar um cadastro ou sair.\n"
   ]
  },
  {
   "cell_type": "code",
   "execution_count": 24,
   "metadata": {},
   "outputs": [],
   "source": [
    "# Para rodar, instanciar lojinha = Cadastro()\n",
    "class Cliente: # Pegar os dados do cliente a ser cadastrado\n",
    "    def __init__(self):\n",
    "        self.nome = input('Nome do cliente: ')\n",
    "        self.idade = input('Idade : ')\n",
    "        self.email = input('E-mail: ')\n",
    "\n",
    "class Cadastro:\n",
    "    def __init__(self):\n",
    "        self.cadastro = {}  # Dicionário para armazenar os clientes\n",
    "        op = 1\n",
    "        while op != 0:\n",
    "            op = int(input('Digite 1 para cadastrar, 2 para modificar, 3 para exibir cadastrados, 0 para sair: '))\n",
    "            if op == 1:\n",
    "                self.cadastrar()\n",
    "            elif op == 2:\n",
    "                self.modificar()\n",
    "            elif op == 3:\n",
    "                self.listar()\n",
    "                \n",
    "    def cadastrar(self):  # Método para cadastrar cliente\n",
    "        self.cliente = Cliente()\n",
    "        self.cadastro[self.cliente.nome] = [self.cliente.idade, self.cliente.email]\n",
    "        \n",
    "    def modificar(self): # Método para modificar cadastro de cliente\n",
    "        self.cliente.nome = input('Informe o nome do cliente a ser modificado: ')\n",
    "        self.cliente.idade = int(input('Atualize a idade: '))\n",
    "        self.cliente.email = input('Atualize o email: ')\n",
    "        self.cadastro[self.cliente.nome] = [self.cliente.idade, self.cliente.email]\n",
    "        \n",
    "    def listar(self):  # Método para exibir o dicionário de clientes cadastrados\n",
    "        print(self.cadastro)"
   ]
  },
  {
   "cell_type": "code",
   "execution_count": 25,
   "metadata": {},
   "outputs": [
    {
     "name": "stdout",
     "output_type": "stream",
     "text": [
      "Digite 1 para cadastrar, 2 para modificar, 3 para exibir cadastrados, 0 para sair: 1\n",
      "Nome do cliente: Maria\n",
      "Idade : 23\n",
      "E-mail: maria@email.com.br\n",
      "Digite 1 para cadastrar, 2 para modificar, 3 para exibir cadastrados, 0 para sair: 1\n",
      "Nome do cliente: João\n",
      "Idade : 38\n",
      "E-mail: joao@email.com\n",
      "Digite 1 para cadastrar, 2 para modificar, 3 para exibir cadastrados, 0 para sair: 3\n",
      "{'Maria': ['23', 'maria@email.com.br'], 'João': ['38', 'joao@email.com']}\n",
      "Digite 1 para cadastrar, 2 para modificar, 3 para exibir cadastrados, 0 para sair: 0\n"
     ]
    }
   ],
   "source": [
    "lojinha = Cadastro()"
   ]
  },
  {
   "cell_type": "markdown",
   "metadata": {},
   "source": [
    "**Q10:** Crie uma classe ContaCorrente com os atributos cliente (que deve ser um objeto da classe Cliente) e saldo. Crie métodos para depósito, saque e transferência. Os métodos de saque e transferência devem verificar se é possível realizar a transação."
   ]
  },
  {
   "cell_type": "code",
   "execution_count": 26,
   "metadata": {},
   "outputs": [],
   "source": [
    "class ContaCorrente:\n",
    "    def __init__(self, cliente, saldo):\n",
    "        self.cliente = cliente\n",
    "        self.saldo = saldo\n",
    "    \n",
    "    def depositar(self, deposito):\n",
    "        self.saldo += deposito\n",
    "        return self.saldo\n",
    "    \n",
    "    def sacar(self, saque):\n",
    "        if self.saldo >= saque:\n",
    "            self.saldo -= saque\n",
    "            return self.saldo\n",
    "        else:\n",
    "            print('Saldo insuficiente.')\n",
    "            \n",
    "    def transferir(self, transferencia, contato_cc):\n",
    "        if self.saldo >= transferencia:\n",
    "            self.saldo -= transferencia\n",
    "            contato_cc.saldo += transferencia\n",
    "            return contato_cc.saldo\n",
    "        \n",
    "    def mostrar_saldo(self):\n",
    "        return self.saldo\n",
    "        \n",
    "class Cliente:\n",
    "    def __init__(self, nome, cpf, telefone):\n",
    "        self.nome = nome\n",
    "        self.cpf = cpf\n",
    "        self.telefone = telefone\n",
    "        \n",
    "    def visualizar_informacoes(self):\n",
    "        print(f'Nome: {self.nome}\\nCPF: {self.cpf}\\nTelefone: {self.telefone}')"
   ]
  },
  {
   "cell_type": "code",
   "execution_count": 27,
   "metadata": {},
   "outputs": [],
   "source": [
    "# Instanciar objetos da classe cliente\n",
    "paulo = Cliente('Paulo', 111222333, 10101010)\n",
    "bete = Cliente('Bete',999888777, 20202020)\n",
    "# Instanciar objetos da classe ContaCorrente\n",
    "cc_paulo = ContaCorrente(paulo, 500)\n",
    "cc_bete = ContaCorrente(bete,1000)"
   ]
  },
  {
   "cell_type": "code",
   "execution_count": 28,
   "metadata": {},
   "outputs": [
    {
     "data": {
      "text/plain": [
       "1000"
      ]
     },
     "execution_count": 28,
     "metadata": {},
     "output_type": "execute_result"
    }
   ],
   "source": [
    "cc_bete.saldo"
   ]
  },
  {
   "cell_type": "code",
   "execution_count": 30,
   "metadata": {},
   "outputs": [
    {
     "data": {
      "text/plain": [
       "1000"
      ]
     },
     "execution_count": 30,
     "metadata": {},
     "output_type": "execute_result"
    }
   ],
   "source": [
    "# Realizar transações\n",
    "cc_bete.transferir(500, cc_paulo)"
   ]
  },
  {
   "cell_type": "code",
   "execution_count": 31,
   "metadata": {},
   "outputs": [
    {
     "data": {
      "text/plain": [
       "500"
      ]
     },
     "execution_count": 31,
     "metadata": {},
     "output_type": "execute_result"
    }
   ],
   "source": [
    "cc_bete.saldo"
   ]
  },
  {
   "cell_type": "code",
   "execution_count": 33,
   "metadata": {},
   "outputs": [
    {
     "data": {
      "text/plain": [
       "1000"
      ]
     },
     "execution_count": 33,
     "metadata": {},
     "output_type": "execute_result"
    }
   ],
   "source": [
    "cc_paulo.saldo"
   ]
  },
  {
   "cell_type": "markdown",
   "metadata": {},
   "source": [
    "**Q11:** Crie uma classe Fração cujos atributos são numerador (número de cima) e denominador (número de baixo).\n",
    "\n",
    "Implemente os métodos de adição, subtração, multiplicação, divisão que retornam objetos do tipo Fração.\n",
    "\n",
    "Implemente também o método _ repr _.\n",
    "\n",
    "Implemente métodos para comparação: igualdade (==) e desigualdades (!=, <=, >=, < e >).\n"
   ]
  },
  {
   "cell_type": "code",
   "execution_count": 34,
   "metadata": {},
   "outputs": [],
   "source": [
    "class Fracao:\n",
    "    def __init__(self, numerador, denominador):\n",
    "        self.numerador = numerador\n",
    "        self.denominador = denominador\n",
    "    \n",
    "    def __repr__(self):\n",
    "        representacao = f'{self.numerador}/{self.denominador}'\n",
    "        \n",
    "        return representacao\n",
    "    \n",
    "    def __add__(self, other):\n",
    "        if self.denominador == other.denominador:\n",
    "            numerador = self.numerador + other.numerador\n",
    "            denominador = self.denominador\n",
    "        else:\n",
    "            denominador = self.denominador * other.denominador\n",
    "            numerador = ((denominador/self.denominador) * self.numerador) + ((denominador/other.denominador) * other.numerador)\n",
    "            \n",
    "        return Fracao(numerador, denominador)\n",
    "        \n",
    "    def __sub__(self, other):\n",
    "        if self.denominador == other.denominador:\n",
    "            numerador = self.numerador - other.numerador\n",
    "            denominador = self.denominador\n",
    "        else:\n",
    "            denominador = self.denominador * other.denominador\n",
    "            numerador = ((denominador/self.denominador) * self.numerador) - ((denominador/other.denominador) * other.numerador)\n",
    "            \n",
    "        return Fracao(numerador, denominador)\n",
    "    \n",
    "    def __mul__(self, other):\n",
    "        numerador = self.numerador * other.numerador\n",
    "        denominador = self.denominador * other.denominador\n",
    "        \n",
    "        return Fracao(numerador, denominador)\n",
    "        \n",
    "    def __truediv__(self, other):\n",
    "        numerador = self.numerador * other.denominador\n",
    "        denominador = self.denominador * other.numerador\n",
    "        \n",
    "        return Fracao(numerador, denominador)\n",
    "    \n",
    "    # Métodos de comparação (Observações):\n",
    "    # Todo objeto por padrão já vem com o __eq__ implementado ('=='' e '!=' já funcionam)\n",
    "    # Método __ge__ \">=\" também implementa seu oposto \"<=\"\n",
    "    def __ge__(self, other):\n",
    "        if self.denominador == other.denominador:\n",
    "            if self.numerador >= other.numerador:\n",
    "                return True\n",
    "            else:\n",
    "                return False\n",
    "        else:\n",
    "            denominador = self.denominador * other.denominador\n",
    "            numerador1 = ((denominador/self.denominador) * self.numerador)\n",
    "            numerador2 = ((denominador/other.denominador) * other.numerador)\n",
    "            if numerador1 >= numerador2:\n",
    "                return True\n",
    "            else:\n",
    "                return False\n",
    "    \n",
    "    # Método __gt__ \">\" também implementa seu oposto \"<\"\n",
    "    def __gt__(self, other):\n",
    "        if self.denominador == other.denominador: #poderia usar and aqui\n",
    "            if self.numerador > other.numerador:\n",
    "                return True\n",
    "            else:\n",
    "                return False\n",
    "        else:\n",
    "            denominador = self.denominador * other.denominador\n",
    "            numerador1 = ((denominador/self.denominador) * self.numerador)\n",
    "            numerador2 = ((denominador/other.denominador) * other.numerador)\n",
    "            if numerador1 > numerador2:\n",
    "                return True\n",
    "            else:\n",
    "                return False"
   ]
  },
  {
   "cell_type": "code",
   "execution_count": 35,
   "metadata": {},
   "outputs": [
    {
     "data": {
      "text/plain": [
       "True"
      ]
     },
     "execution_count": 35,
     "metadata": {},
     "output_type": "execute_result"
    }
   ],
   "source": [
    "f1 = Fracao(2, 4)\n",
    "f2 = Fracao(3, 5)\n",
    "f1 <= f2"
   ]
  },
  {
   "cell_type": "code",
   "execution_count": 36,
   "metadata": {},
   "outputs": [
    {
     "data": {
      "text/plain": [
       "(2/4, 3/5)"
      ]
     },
     "execution_count": 36,
     "metadata": {},
     "output_type": "execute_result"
    }
   ],
   "source": [
    "f1, f2"
   ]
  },
  {
   "cell_type": "code",
   "execution_count": 37,
   "metadata": {},
   "outputs": [],
   "source": [
    "fracao1 = Fracao(1,5)\n",
    "fracao2 = Fracao(1,7)"
   ]
  },
  {
   "cell_type": "code",
   "execution_count": 38,
   "metadata": {},
   "outputs": [
    {
     "data": {
      "text/plain": [
       "(1/5, 1/7)"
      ]
     },
     "execution_count": 38,
     "metadata": {},
     "output_type": "execute_result"
    }
   ],
   "source": [
    "fracao1, fracao2"
   ]
  },
  {
   "cell_type": "code",
   "execution_count": 39,
   "metadata": {},
   "outputs": [
    {
     "data": {
      "text/plain": [
       "False"
      ]
     },
     "execution_count": 39,
     "metadata": {},
     "output_type": "execute_result"
    }
   ],
   "source": [
    "fracao1 == fracao2"
   ]
  },
  {
   "cell_type": "code",
   "execution_count": 40,
   "metadata": {},
   "outputs": [
    {
     "data": {
      "text/plain": [
       "True"
      ]
     },
     "execution_count": 40,
     "metadata": {},
     "output_type": "execute_result"
    }
   ],
   "source": [
    "fracao1 > fracao2"
   ]
  },
  {
   "cell_type": "code",
   "execution_count": 41,
   "metadata": {},
   "outputs": [
    {
     "data": {
      "text/plain": [
       "1/35"
      ]
     },
     "execution_count": 41,
     "metadata": {},
     "output_type": "execute_result"
    }
   ],
   "source": [
    "fracao1 * fracao2"
   ]
  },
  {
   "cell_type": "markdown",
   "metadata": {},
   "source": [
    "**Q12:** Crie uma classe Data cujos atributos são dia, mês e ano. Implemente métodos _ repr _ e para comparação: igualdade (==) e desigualdades (!=, <=, >=, < e >)."
   ]
  },
  {
   "cell_type": "code",
   "execution_count": 42,
   "metadata": {},
   "outputs": [],
   "source": [
    "class Data:\n",
    "    def __init__(self, **dados):\n",
    "        if 'd' in dados:\n",
    "            self.d = dados['d']\n",
    "        else:\n",
    "            self.d = 0\n",
    "        if 'm' in dados:\n",
    "            self.m = dados['m']\n",
    "        else:\n",
    "            self.m = 0\n",
    "        if 'a' in dados:\n",
    "            self.a = dados['a']\n",
    "        else:\n",
    "            self.a = 0\n",
    "    \n",
    "    def __repr__(self):\n",
    "        representacao = f'{self.d:02d}/{self.m:02d}/{self.a:0004d}'\n",
    "        return representacao\n",
    "    \n",
    "    def __ge__(self, other):\n",
    "        if self.a >= other.a and self.m >= other.m and self.d >= other.d: \n",
    "            return True\n",
    "        else:\n",
    "            return False\n",
    "    \n",
    "    def __gt__(self, other):\n",
    "        if self.a > other.a:\n",
    "            return True\n",
    "        elif self.a == other.a and self.m > other.m: \n",
    "            return True\n",
    "        elif self.a == other.a and self.m == other.m and self.d > other.d: \n",
    "            return True\n",
    "        else:\n",
    "            return False"
   ]
  },
  {
   "cell_type": "code",
   "execution_count": 43,
   "metadata": {},
   "outputs": [],
   "source": [
    "d1 = Data(d=31,m=12,a=2022)\n",
    "d2 = Data(d=31,m=12,a=2021)"
   ]
  },
  {
   "cell_type": "code",
   "execution_count": 44,
   "metadata": {},
   "outputs": [
    {
     "data": {
      "text/plain": [
       "(31/12/2022, 31/12/2021)"
      ]
     },
     "execution_count": 44,
     "metadata": {},
     "output_type": "execute_result"
    }
   ],
   "source": [
    "d1, d2"
   ]
  },
  {
   "cell_type": "code",
   "execution_count": 45,
   "metadata": {},
   "outputs": [
    {
     "data": {
      "text/plain": [
       "True"
      ]
     },
     "execution_count": 45,
     "metadata": {},
     "output_type": "execute_result"
    }
   ],
   "source": [
    "d1 > d2"
   ]
  },
  {
   "cell_type": "markdown",
   "metadata": {},
   "source": [
    "**Q13:** Nos exercícios 1, 2, 3 e 4, implemente o método _ repr _ para exibir as informações desejadas de cada uma das classes."
   ]
  },
  {
   "cell_type": "code",
   "execution_count": 46,
   "metadata": {},
   "outputs": [],
   "source": [
    "# Exercício 1\n",
    "class Bola:\n",
    "    def __init__(self, cor, raio):\n",
    "        self.cor = cor\n",
    "        self.raio = raio\n",
    "        \n",
    "    def __repr__(self):\n",
    "        representacao = f'Bola {self.cor} de raio {self.raio}'\n",
    "        return representacao\n",
    "    \n",
    "# Exercício 2\n",
    "class Retangulo:\n",
    "    \n",
    "    def __init__(self, lado_a, lado_b):\n",
    "        self.lado_a = lado_a\n",
    "        self.lado_b = lado_b\n",
    "    \n",
    "    def __repr__(self):\n",
    "        representacao = f'Retângulo de lados medindo {self.lado_a} e {self.lado_b}'\n",
    "        return representacao\n",
    "\n",
    "# Exercício 3\n",
    "class Funcionario:\n",
    "    \n",
    "    def __init__(self, nome, email):\n",
    "        self.nome = nome\n",
    "        self.email = email\n",
    "        self.horas_trabalhadas_mes = {}\n",
    "        self.salario_hora_mes = {}\n",
    "    \n",
    "    def __repr__(self):\n",
    "        representacao = f'Funcionário: {self.nome}, e-mail {self.email}'\n",
    "        return representacao\n",
    "    \n",
    "# Exercício 4\n",
    "class Televisor:\n",
    "    \n",
    "    def __init__(self, fabricante, modelo):\n",
    "        self.fabricante = fabricante\n",
    "        self.modelo = modelo\n",
    "        self.canal_atual = None\n",
    "        self.lista_canais = []\n",
    "        self.volume = 20\n",
    "    \n",
    "    def __repr__(self):\n",
    "        representacao = f'Televisor fabricado por {self.fabricante}, modelo {self.modelo}'\n",
    "        return representacao"
   ]
  },
  {
   "cell_type": "code",
   "execution_count": 47,
   "metadata": {},
   "outputs": [],
   "source": [
    "# Verificando um caso do método __repr__\n",
    "bolinha = Bola('Azul', 3)"
   ]
  },
  {
   "cell_type": "code",
   "execution_count": 48,
   "metadata": {},
   "outputs": [
    {
     "data": {
      "text/plain": [
       "Bola Azul de raio 3"
      ]
     },
     "execution_count": 48,
     "metadata": {},
     "output_type": "execute_result"
    }
   ],
   "source": [
    "bolinha"
   ]
  },
  {
   "cell_type": "markdown",
   "metadata": {},
   "source": [
    "**Q14:** Faça uma classe ContaVip que difere da ContaCorrente por ter cheque especial (novo atributo) e é filha da classe ContaCorrente. Você precisa implementar os métodos para saque, transferência ou depósito?"
   ]
  },
  {
   "cell_type": "code",
   "execution_count": 49,
   "metadata": {},
   "outputs": [],
   "source": [
    "# A classe mãe ContaCorrente está no exercício 10, assim como a classe Cliente\n",
    "\n",
    "class ContaVip(ContaCorrente):    # Classe ContaVip filha da classe ContaCorrente\n",
    "    def __init__(self, cliente, saldo, cheque_especial):\n",
    "        self.cheque_especial = cheque_especial    # Novo atributo chamado cheque_especial\n",
    "        super().__init__(cliente, saldo)  # Usar os atributos do método construtor da classe mãe\n",
    "        self.saldo += self.cheque_especial    # Incrementar o saldo com o valor do cheque_especial\n",
    "        \n",
    "# Os métodos de saque, transferência e depósito não precisam ser implementados na classe filha, pois\n",
    "# a classe filha herda os métodos da classe mãe"
   ]
  },
  {
   "cell_type": "code",
   "execution_count": 50,
   "metadata": {},
   "outputs": [],
   "source": [
    "# Instanciando objeto da classe Cliente\n",
    "maria = Cliente('Maria', 111222333, 120120120)\n",
    "\n",
    "# Instanciando objeto da classe ContaVip assocada ao objeto maria\n",
    "maria_ccv = ContaVip(maria, 1000, 500) # 1000 de saldo e 500 de cheque especial"
   ]
  },
  {
   "cell_type": "code",
   "execution_count": 51,
   "metadata": {},
   "outputs": [
    {
     "data": {
      "text/plain": [
       "300"
      ]
     },
     "execution_count": 51,
     "metadata": {},
     "output_type": "execute_result"
    }
   ],
   "source": [
    "# realizando um saque\n",
    "maria_ccv.sacar(1200) # saque de 1200"
   ]
  },
  {
   "cell_type": "code",
   "execution_count": 52,
   "metadata": {},
   "outputs": [
    {
     "data": {
      "text/plain": [
       "300"
      ]
     },
     "execution_count": 52,
     "metadata": {},
     "output_type": "execute_result"
    }
   ],
   "source": [
    "maria_ccv.saldo # saldo de 300 pelo cheque especial"
   ]
  },
  {
   "cell_type": "markdown",
   "metadata": {},
   "source": [
    "**Q15:** Crie uma classe Quadrado, filha da classe Retângulo do exercício 2."
   ]
  },
  {
   "cell_type": "code",
   "execution_count": 53,
   "metadata": {},
   "outputs": [],
   "source": [
    "class Retangulo:\n",
    "    def __init__(self, lado_a, lado_b):\n",
    "        self.lado_a = lado_a\n",
    "        self.lado_b = lado_b\n",
    "    \n",
    "    def area(self):\n",
    "        return self.lado_a * self.lado_b\n",
    "\n",
    "    def __repr__(self):\n",
    "        representacao = f'Retângulo de lados medindo {self.lado_a} e {self.lado_b}'\n",
    "        return representacao\n",
    "\n",
    "class Quadrado(Retangulo):\n",
    "    def __init__(self, lado):\n",
    "        super().__init__(lado, lado)\n",
    "    \n",
    "    def __repr__(self):\n",
    "        representacao = f'Quadrado de lados medindo {self.lado_a}'\n",
    "        return representacao"
   ]
  },
  {
   "cell_type": "code",
   "execution_count": 54,
   "metadata": {},
   "outputs": [],
   "source": [
    "# Instanciando um objeto da classe Quadrado\n",
    "quadradinho = Quadrado(1)"
   ]
  },
  {
   "cell_type": "code",
   "execution_count": 55,
   "metadata": {},
   "outputs": [
    {
     "data": {
      "text/plain": [
       "Quadrado de lados medindo 1"
      ]
     },
     "execution_count": 55,
     "metadata": {},
     "output_type": "execute_result"
    }
   ],
   "source": [
    "# Verificando o objeto\n",
    "quadradinho"
   ]
  },
  {
   "cell_type": "code",
   "execution_count": 56,
   "metadata": {},
   "outputs": [
    {
     "data": {
      "text/plain": [
       "1"
      ]
     },
     "execution_count": 56,
     "metadata": {},
     "output_type": "execute_result"
    }
   ],
   "source": [
    "quadradinho.area()"
   ]
  }
 ],
 "metadata": {
  "kernelspec": {
   "display_name": "Python 3",
   "language": "python",
   "name": "python3"
  },
  "language_info": {
   "codemirror_mode": {
    "name": "ipython",
    "version": 3
   },
   "file_extension": ".py",
   "mimetype": "text/x-python",
   "name": "python",
   "nbconvert_exporter": "python",
   "pygments_lexer": "ipython3",
   "version": "3.9.5"
  }
 },
 "nbformat": 4,
 "nbformat_minor": 4
}
