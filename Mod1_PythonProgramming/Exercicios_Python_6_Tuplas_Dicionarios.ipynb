{
 "cells": [
  {
   "cell_type": "markdown",
   "metadata": {},
   "source": [
    "Módulo: Lógica de programação (Python)<br>\n",
    "Lista: Tuplas e Dicionários<br>\n",
    "Data: 07/2021<br>"
   ]
  },
  {
   "cell_type": "markdown",
   "metadata": {},
   "source": [
    "**Q1:** Crie uma tupla com todos os números de 0 a 9. Explore a sintaxe: use e depois não use parênteses."
   ]
  },
  {
   "cell_type": "code",
   "execution_count": 1,
   "metadata": {},
   "outputs": [
    {
     "data": {
      "text/plain": [
       "(0, 1, 2, 3, 4, 5, 6, 7, 8, 9)"
      ]
     },
     "execution_count": 1,
     "metadata": {},
     "output_type": "execute_result"
    }
   ],
   "source": [
    "# Criando com parênteses\n",
    "tupla1 = (0, 1, 2, 3, 4, 5, 6, 7, 8, 9)\n",
    "tupla1"
   ]
  },
  {
   "cell_type": "code",
   "execution_count": 2,
   "metadata": {},
   "outputs": [
    {
     "data": {
      "text/plain": [
       "(0, 1, 2, 3, 4, 5, 6, 7, 8, 9)"
      ]
     },
     "execution_count": 2,
     "metadata": {},
     "output_type": "execute_result"
    }
   ],
   "source": [
    "# Criando sem parênteses\n",
    "tupla2 = 0, 1, 2, 3, 4, 5, 6, 7, 8, 9\n",
    "tupla2"
   ]
  },
  {
   "cell_type": "code",
   "execution_count": 3,
   "metadata": {},
   "outputs": [
    {
     "data": {
      "text/plain": [
       "(0, 1, 2, 3, 4, 5, 6, 7, 8, 9)"
      ]
     },
     "execution_count": 3,
     "metadata": {},
     "output_type": "execute_result"
    }
   ],
   "source": [
    "# Criando a partir de lista\n",
    "lista = [0, 1, 2, 3, 4, 5, 6, 7, 8, 9]\n",
    "tupla3 = tuple(lista)\n",
    "tupla3"
   ]
  },
  {
   "cell_type": "code",
   "execution_count": 4,
   "metadata": {},
   "outputs": [
    {
     "name": "stdout",
     "output_type": "stream",
     "text": [
      "(0, 1, 2, 3, 4, 5, 6, 7, 8, 9)\n",
      "(0, 1, 2, 3, 4, 5, 6, 7, 8, 9)\n",
      "(0, 1, 2, 3, 4, 5, 6, 7, 8, 9)\n"
     ]
    }
   ],
   "source": [
    "print(tupla1)\n",
    "print(tupla2)\n",
    "print(tupla3)"
   ]
  },
  {
   "cell_type": "markdown",
   "metadata": {},
   "source": [
    "**Q2:** Crie uma função que recebe uma lista de números e devolve, nesta ordem, o mínimo, a média, o desvio padrão e o máximo.\n",
    "\n",
    "Dica: Use a biblioteca statistics (import statistics) para calcular o desvio padrão: desvio = statistics.stdev(lista)\n"
   ]
  },
  {
   "cell_type": "code",
   "execution_count": 5,
   "metadata": {},
   "outputs": [],
   "source": [
    "import statistics\n",
    "def listanumeros(lista): \n",
    "    minimo = min(lista) \n",
    "    media = statistics.mean(lista) \n",
    "    desvpad = statistics.stdev(lista) \n",
    "    maximo = max(lista)\n",
    "    return minimo, media, desvpad, maximo"
   ]
  },
  {
   "cell_type": "code",
   "execution_count": 6,
   "metadata": {},
   "outputs": [],
   "source": [
    "teste = [8, 6, 3, 1, 2, 4, 9, 7]"
   ]
  },
  {
   "cell_type": "code",
   "execution_count": 7,
   "metadata": {},
   "outputs": [
    {
     "data": {
      "text/plain": [
       "(1, 5, 2.9277002188455996, 9)"
      ]
     },
     "execution_count": 7,
     "metadata": {},
     "output_type": "execute_result"
    }
   ],
   "source": [
    "listanumeros(teste)"
   ]
  },
  {
   "cell_type": "code",
   "execution_count": 8,
   "metadata": {},
   "outputs": [
    {
     "name": "stdout",
     "output_type": "stream",
     "text": [
      "Mínimo: 1\n",
      "Média: 5\n",
      "Desvio: 2.9277002188455996\n",
      "Máximo: 9\n"
     ]
    }
   ],
   "source": [
    "minimo, media, dp, maximo = listanumeros(teste)\n",
    "print('Mínimo:',minimo)\n",
    "print('Média:',media)\n",
    "print('Desvio:',dp)\n",
    "print('Máximo:',maximo)"
   ]
  },
  {
   "cell_type": "markdown",
   "metadata": {},
   "source": [
    "**Q3:** Crie uma função que recebe uma lista e retorna True se todos os seus elementos forem numéricos (int, float ou string contendo um int ou float) ou False do contrário. A função deve também retornar a lista tratada: transformar todas as entradas não numéricas em numéricas ou, no melhor caso, devolver a lista apenas."
   ]
  },
  {
   "cell_type": "code",
   "execution_count": 9,
   "metadata": {},
   "outputs": [],
   "source": [
    "def listaNumerica(lista): \n",
    "    lista2 = [] \n",
    "    falsos = 0 \n",
    "    for elemento in lista: \n",
    "        try: \n",
    "            n = float(elemento) \n",
    "            lista2.append(n) \n",
    "        except: \n",
    "            falsos += 1 \n",
    "            lista2.append(elemento)\n",
    "            \n",
    "    if falsos == 0:\n",
    "        return True, lista2\n",
    "    else:\n",
    "        return False, lista        "
   ]
  },
  {
   "cell_type": "code",
   "execution_count": 10,
   "metadata": {},
   "outputs": [
    {
     "data": {
      "text/plain": [
       "(True, [0.0, 1.0, 2.0, 3.0, 4.0])"
      ]
     },
     "execution_count": 10,
     "metadata": {},
     "output_type": "execute_result"
    }
   ],
   "source": [
    "listaNumerica(['0',1,'2',3,'4'])"
   ]
  },
  {
   "cell_type": "code",
   "execution_count": 11,
   "metadata": {},
   "outputs": [
    {
     "data": {
      "text/plain": [
       "(False, ['a', '0', 1, '2', 3, '4'])"
      ]
     },
     "execution_count": 11,
     "metadata": {},
     "output_type": "execute_result"
    }
   ],
   "source": [
    "listaNumerica(['a','0',1,'2',3,'4'])"
   ]
  },
  {
   "cell_type": "markdown",
   "metadata": {},
   "source": [
    "**Q4:** Faça uma função que recebe valores a, b e c, resolve a equação quadrática a*x**2 + b*x + c = 0 e retorna:\n",
    "\n",
    "a. o valor de Δ onde Δ = b**2- 4*a*c\n",
    "\n",
    "b. uma tupla com o valor do ponto de mínimo ou máximo: x_m = -b/(2*a) e y_m = -Δ/(4*a);\n",
    "\n",
    "c. uma lista contendo as raízes (a lista pode ser vazia, caso Δ<0; pode conter apenas um elemento, caso Δ = 0; ou conter duas raízes, caso Δ> 0).\n"
   ]
  },
  {
   "cell_type": "code",
   "execution_count": 12,
   "metadata": {},
   "outputs": [],
   "source": [
    "def quadratica(a, b, c): \n",
    "    # Item a: delta\n",
    "    delta = b**2 - 4*a*c\n",
    "    # Item b: xm e ym\n",
    "    xm = -b/(2*a) \n",
    "    ym = -delta/(4*a) \n",
    "    pontos = (xm,ym)\n",
    "    # Item c: raízes\n",
    "    raizes = []\n",
    "    if delta == 0:\n",
    "        raizes.append(xm)\n",
    "    elif delta > 0:\n",
    "        r1 = ((-b + delta**0.5)/(2*a))\n",
    "        r2 = ((-b - delta**0.5)/(2*a))\n",
    "        raizes.append(r1)\n",
    "        raizes.append(r2)\n",
    "\n",
    "    return delta, pontos, raizes  "
   ]
  },
  {
   "cell_type": "code",
   "execution_count": 13,
   "metadata": {},
   "outputs": [
    {
     "data": {
      "text/plain": [
       "(-7, (-0.25, 0.875), [])"
      ]
     },
     "execution_count": 13,
     "metadata": {},
     "output_type": "execute_result"
    }
   ],
   "source": [
    "quadratica(2,1,1) # uma com delta negativo"
   ]
  },
  {
   "cell_type": "code",
   "execution_count": 14,
   "metadata": {},
   "outputs": [
    {
     "data": {
      "text/plain": [
       "(9, (0.25, 1.125), [-0.5, 1.0])"
      ]
     },
     "execution_count": 14,
     "metadata": {},
     "output_type": "execute_result"
    }
   ],
   "source": [
    "quadratica(-2,1,1) # uma com delta positivo"
   ]
  },
  {
   "cell_type": "code",
   "execution_count": 15,
   "metadata": {},
   "outputs": [
    {
     "data": {
      "text/plain": [
       "(0, (-1.0, 0.0), [-1.0])"
      ]
     },
     "execution_count": 15,
     "metadata": {},
     "output_type": "execute_result"
    }
   ],
   "source": [
    "quadratica(1,2,1) # uma com delta nulo"
   ]
  },
  {
   "cell_type": "markdown",
   "metadata": {},
   "source": [
    "**Q5:** Crie um dicionário cujas chaves são os meses do ano e os valores são a duração (em dias) de cada mês."
   ]
  },
  {
   "cell_type": "code",
   "execution_count": 16,
   "metadata": {},
   "outputs": [
    {
     "data": {
      "text/plain": [
       "{'Janeiro': 31,\n",
       " 'Fevereiro': 28,\n",
       " 'Março': 31,\n",
       " 'Abril': 30,\n",
       " 'Maio': 31,\n",
       " 'Junho': 30,\n",
       " 'Julho': 31,\n",
       " 'Agosto': 31,\n",
       " 'Setembro': 30,\n",
       " 'Outubro': 31,\n",
       " 'Novembro': 30,\n",
       " 'Dezembro': 31}"
      ]
     },
     "execution_count": 16,
     "metadata": {},
     "output_type": "execute_result"
    }
   ],
   "source": [
    "meses = { \n",
    "    'Janeiro':31,\n",
    "    'Fevereiro':28,\n",
    "    'Março':31,\n",
    "    'Abril':30,\n",
    "    'Maio':31,\n",
    "    'Junho':30,\n",
    "    'Julho':31,\n",
    "    'Agosto':31,\n",
    "    'Setembro':30,\n",
    "    'Outubro':31,\n",
    "    'Novembro':30,\n",
    "    'Dezembro':31\n",
    "}\n",
    "meses"
   ]
  },
  {
   "cell_type": "markdown",
   "metadata": {},
   "source": [
    "**Q6:** Imprima as chaves seguidas dos seus valores para dicionário criado no exercício anterior. Exemplo:<br>\n",
    "Janeiro - 31\n",
    "\n",
    "Fevereiro - 28\n",
    "\n",
    "Março - 31"
   ]
  },
  {
   "cell_type": "code",
   "execution_count": 17,
   "metadata": {},
   "outputs": [
    {
     "name": "stdout",
     "output_type": "stream",
     "text": [
      "Usando um método:\n",
      "Janeiro - 31\n",
      "Fevereiro - 28\n",
      "Março - 31\n",
      "Abril - 30\n",
      "Maio - 31\n",
      "Junho - 30\n",
      "Julho - 31\n",
      "Agosto - 31\n",
      "Setembro - 30\n",
      "Outubro - 31\n",
      "Novembro - 30\n",
      "Dezembro - 31\n",
      "\n",
      "Usando outro método:\n",
      "Janeiro - 31\n",
      "Fevereiro - 28\n",
      "Março - 31\n",
      "Abril - 30\n",
      "Maio - 31\n",
      "Junho - 30\n",
      "Julho - 31\n",
      "Agosto - 31\n",
      "Setembro - 30\n",
      "Outubro - 31\n",
      "Novembro - 30\n",
      "Dezembro - 31\n"
     ]
    }
   ],
   "source": [
    "# Exercitando diferentes maneiras\n",
    "print('Usando um método:') \n",
    "for item in meses: \n",
    "    print(item, '-', meses[item])\n",
    "\n",
    "print('\\nUsando outro método:') \n",
    "for chave, valor in meses.items(): print(chave, valor, sep=' - ')"
   ]
  },
  {
   "cell_type": "markdown",
   "metadata": {},
   "source": [
    "**Q7:** Crie um dicionário para as seguintes relações:\n",
    "\n",
    "‘Banana’: 3.0\n",
    "\n",
    "‘Cebola’: 4.0\n",
    "\n",
    "‘Maçã’: 5.7\n",
    "\n",
    "‘Abacaxi’: 8.0"
   ]
  },
  {
   "cell_type": "code",
   "execution_count": 18,
   "metadata": {},
   "outputs": [
    {
     "data": {
      "text/plain": [
       "{'Banana': 3.0, 'Cebola': 4.0, 'Maçã': 5.7, 'Abacaxi': 8.0}"
      ]
     },
     "execution_count": 18,
     "metadata": {},
     "output_type": "execute_result"
    }
   ],
   "source": [
    "itens = { 'Banana': 3.0, 'Cebola': 4.0, 'Maçã': 5.7, 'Abacaxi': 8.0, }\n",
    "itens"
   ]
  },
  {
   "cell_type": "markdown",
   "metadata": {},
   "source": [
    "**Q8:** Altere o valor da chave ‘Maçã’ no dicionário do exercício anterior para 8.6."
   ]
  },
  {
   "cell_type": "code",
   "execution_count": 19,
   "metadata": {},
   "outputs": [
    {
     "data": {
      "text/plain": [
       "{'Banana': 3.0, 'Cebola': 4.0, 'Maçã': 8.6, 'Abacaxi': 8.0}"
      ]
     },
     "execution_count": 19,
     "metadata": {},
     "output_type": "execute_result"
    }
   ],
   "source": [
    "itens['Maçã'] = 8.6\n",
    "itens"
   ]
  },
  {
   "cell_type": "markdown",
   "metadata": {},
   "source": [
    "**Q9:** Crie uma função que receba os valores do nome, idade e e-mail de uma pessoa e guarde-os em um dicionário com as chaves ‘nome’, ‘idade’ e ‘email’, respectivamente. Sua função deve retornar esse dicionário."
   ]
  },
  {
   "cell_type": "code",
   "execution_count": 20,
   "metadata": {},
   "outputs": [],
   "source": [
    "def cadastraUsuario(nome, idade, email):\n",
    "    return {'nome': nome, 'idade': idade, 'email': email}"
   ]
  },
  {
   "cell_type": "code",
   "execution_count": 21,
   "metadata": {},
   "outputs": [],
   "source": [
    "nome = 'Ada Lovelace'\n",
    "idade = 28\n",
    "email = 'primeira@programadora.com'\n",
    "ada = cadastraUsuario(nome, idade, email)"
   ]
  },
  {
   "cell_type": "code",
   "execution_count": 22,
   "metadata": {},
   "outputs": [
    {
     "data": {
      "text/plain": [
       "{'nome': 'Ada Lovelace', 'idade': 28, 'email': 'primeira@programadora.com'}"
      ]
     },
     "execution_count": 22,
     "metadata": {},
     "output_type": "execute_result"
    }
   ],
   "source": [
    "ada"
   ]
  },
  {
   "cell_type": "markdown",
   "metadata": {},
   "source": [
    "**Q10:** Como você armazenaria a seguinte tabela usando apenas dicionários? Tente imprimir o valor correspondente da linha Pedro x Coluna B.<br>\n",
    "Coluna A        Coluna B<br>\n",
    "Maria1     \t5<br>\n",
    "Pedro \t0.5 \t    3<br>\n",
    "João \t3.2 \t1<br>"
   ]
  },
  {
   "cell_type": "code",
   "execution_count": 23,
   "metadata": {},
   "outputs": [
    {
     "name": "stdout",
     "output_type": "stream",
     "text": [
      "{'Maria': (1, 5), 'Pedro': (0.5, 3), 'João': (3.2, 1)}\n",
      "3\n"
     ]
    }
   ],
   "source": [
    "nomes = { 'Maria': (1, 5), 'Pedro': (0.5, 3), 'João': (3.2, 1), }\n",
    "print(nomes)\n",
    "print(nomes['Pedro'][1])"
   ]
  },
  {
   "cell_type": "code",
   "execution_count": 24,
   "metadata": {},
   "outputs": [
    {
     "name": "stdout",
     "output_type": "stream",
     "text": [
      "{'Maria': {'Coluna A': 1, 'Coluna B': 5}, 'Pedro': {'Coluna A': 0.5, 'Coluna B': 3}, 'João': {'Coluna A': 3.2, 'Coluna B': 1}}\n",
      "3\n"
     ]
    }
   ],
   "source": [
    "# Outra maneira\n",
    "tabela = {}\n",
    "tabela[\"Maria\"] = { \"Coluna A\": 1, \"Coluna B\": 5 }\n",
    "tabela[\"Pedro\"] = { \"Coluna A\": 0.5, \"Coluna B\": 3 }\n",
    "tabela[\"João\"] = { \"Coluna A\": 3.2, \"Coluna B\": 1 }\n",
    "print(tabela)\n",
    "print(tabela[\"Pedro\"][\"Coluna B\"])"
   ]
  },
  {
   "cell_type": "markdown",
   "metadata": {},
   "source": [
    "**Q11:** Faça uma função que receba uma lista e conte quantas vezes cada elemento apareceu nessa lista. Essa função deverá guardar os dados em um dicionário no qual as chaves são os elementos da lista e os valores são a contagem de quantas vezes esse elemento aparece."
   ]
  },
  {
   "cell_type": "code",
   "execution_count": 25,
   "metadata": {},
   "outputs": [],
   "source": [
    "# Usando a função .count()\n",
    "def processaLista(lista):\n",
    "    itens_lista = {}\n",
    "    for elemento in lista: \n",
    "        itens_lista[elemento] = lista.count(elemento) \n",
    "    return itens_lista"
   ]
  },
  {
   "cell_type": "code",
   "execution_count": 26,
   "metadata": {},
   "outputs": [],
   "source": [
    "lista1 = ['carro', 'moto', 'casa', 'carro', 'avião']\n",
    "lista2 = [1, 2, 3, 1, 4, 5, 6, 1, 1, 2]"
   ]
  },
  {
   "cell_type": "code",
   "execution_count": 27,
   "metadata": {},
   "outputs": [
    {
     "data": {
      "text/plain": [
       "{'carro': 2, 'moto': 1, 'casa': 1, 'avião': 1}"
      ]
     },
     "execution_count": 27,
     "metadata": {},
     "output_type": "execute_result"
    }
   ],
   "source": [
    "processaLista(lista1)"
   ]
  },
  {
   "cell_type": "code",
   "execution_count": 28,
   "metadata": {},
   "outputs": [
    {
     "data": {
      "text/plain": [
       "{1: 4, 2: 2, 3: 1, 4: 1, 5: 1, 6: 1}"
      ]
     },
     "execution_count": 28,
     "metadata": {},
     "output_type": "execute_result"
    }
   ],
   "source": [
    "processaLista(lista2)"
   ]
  },
  {
   "cell_type": "code",
   "execution_count": 29,
   "metadata": {},
   "outputs": [],
   "source": [
    "# Outra maneira: fazendo a contagem\n",
    "def contaElementos(lista):\n",
    "    contagem = {}\n",
    "    for e in lista:\n",
    "        if e not in contagem.keys():\n",
    "            contagem[e] = 1\n",
    "        else:\n",
    "            contagem[e] += 1\n",
    "    return contagem"
   ]
  },
  {
   "cell_type": "code",
   "execution_count": 30,
   "metadata": {},
   "outputs": [
    {
     "name": "stdout",
     "output_type": "stream",
     "text": [
      "{'Banana': 2, 'Maçã': 1, 'Abacaxi': 1}\n"
     ]
    }
   ],
   "source": [
    "lista_teste = [\"Banana\", \"Maçã\", \"Banana\", \"Abacaxi\"]\n",
    "print(contaElementos(lista_teste))"
   ]
  },
  {
   "cell_type": "code",
   "execution_count": 31,
   "metadata": {},
   "outputs": [
    {
     "name": "stdout",
     "output_type": "stream",
     "text": [
      "{'carro': 2, 'moto': 1, 'casa': 1, 'avião': 1}\n"
     ]
    }
   ],
   "source": [
    "print(contaElementos(lista1))"
   ]
  },
  {
   "cell_type": "markdown",
   "metadata": {},
   "source": [
    "**Q12:** Faça um programa que fique pedindo uma resposta do usuário, entre 1, 2 e 3. Se o usuário digitar 1, o programa deve cadastrar um novo usuário nos moldes do exercício 9 e guardar esse cadastro num dicionário cuja chave será o CPF da pessoa. Quando o usuário digitar 2, o programa deve imprimir os usuários cadastrados; e se o usuário digitar 3, o programa deve fechar.\n",
    "\n",
    "Exemplo do dicionário:\n",
    "\n",
    "‘987.654.321-00’: {‘nome’: Maria, ‘idade’: 20, ‘email’ : maria@mail.com}"
   ]
  },
  {
   "cell_type": "code",
   "execution_count": 32,
   "metadata": {},
   "outputs": [
    {
     "name": "stdout",
     "output_type": "stream",
     "text": [
      "Digite 1 para cadastrar usuário, 2 para imprimir os usuários cadastrados e 3 para fechar: 1\n",
      "Insira o nome: Fulano\n",
      "Insira o cpf: 11122233344455\n",
      "Insira a idade: 30\n",
      "Insira o email: fulano@bol.com.br\n",
      "Digite 1 para cadastrar usuário, 2 para imprimir os usuários cadastrados e 3 para fechar: 1\n",
      "Insira o nome: Beltrano\n",
      "Insira o cpf: 99988877766655\n",
      "Insira a idade: 40\n",
      "Insira o email: beltrano@aol.com\n",
      "Digite 1 para cadastrar usuário, 2 para imprimir os usuários cadastrados e 3 para fechar: 2\n",
      "{'11122233344455': ['Fulano', 30, 'fulano@bol.com.br'], '99988877766655': ['Beltrano', 40, 'beltrano@aol.com']}\n",
      "Digite 1 para cadastrar usuário, 2 para imprimir os usuários cadastrados e 3 para fechar: 3\n"
     ]
    }
   ],
   "source": [
    "entrada = 0 \n",
    "usuarios = {} \n",
    "while entrada !=3: \n",
    "    entrada = int(input('Digite 1 para cadastrar usuário, 2 para imprimir os usuários cadastrados e 3 para fechar: '))\n",
    "\n",
    "    if entrada == 1:\n",
    "        nome = input('Insira o nome: ')\n",
    "        cpf = input('Insira o cpf: ')\n",
    "        idade = int(input('Insira a idade: '))\n",
    "        email = input('Insira o email: ')\n",
    "        usuarios[cpf] = [nome, idade, email]\n",
    "    \n",
    "    elif entrada == 2:\n",
    "        print(usuarios)"
   ]
  },
  {
   "cell_type": "markdown",
   "metadata": {},
   "source": [
    "**Q13:** Implemente um sistema de busca para o programa do exercício anterior. Isto é, se o usuário digitar 4, procure um determinado usuário pelo seu CPF."
   ]
  },
  {
   "cell_type": "code",
   "execution_count": 35,
   "metadata": {},
   "outputs": [
    {
     "name": "stdout",
     "output_type": "stream",
     "text": [
      "Digite 1 para cadastrar usuário, 2 para imprimir os usuários, 4 para consultar e 3 para fechar: 1\n",
      "Insira o nome: Fulano\n",
      "Insira o cpf: 11122233344455\n",
      "Insira a idade: 30\n",
      "Insira o email: fulano@bol.com.br\n",
      "Digite 1 para cadastrar usuário, 2 para imprimir os usuários, 4 para consultar e 3 para fechar: 1\n",
      "Insira o nome: Beltrano\n",
      "Insira o cpf: 99988877766655\n",
      "Insira a idade: 40\n",
      "Insira o email: beltrano@aol.com\n",
      "Digite 1 para cadastrar usuário, 2 para imprimir os usuários, 4 para consultar e 3 para fechar: 4\n",
      "Insira o cpf para consultar o cadastro: 88877766655544\n",
      "Usuário não encontrado\n",
      "Digite 1 para cadastrar usuário, 2 para imprimir os usuários, 4 para consultar e 3 para fechar: 4\n",
      "Insira o cpf para consultar o cadastro: 99988877766655\n",
      "Usuário encontrado:  ['Beltrano', 40, 'beltrano@aol.com']\n",
      "Digite 1 para cadastrar usuário, 2 para imprimir os usuários, 4 para consultar e 3 para fechar: 3\n"
     ]
    }
   ],
   "source": [
    "entrada = 0 \n",
    "usuarios = {} \n",
    "while entrada !=3:\n",
    "    entrada = int(input('Digite 1 para cadastrar usuário, 2 para imprimir os usuários, 4 para consultar e 3 para fechar: '))\n",
    "\n",
    "    if entrada == 1:\n",
    "        nome = input('Insira o nome: ')\n",
    "        cpf = input('Insira o cpf: ')\n",
    "        idade = int(input('Insira a idade: '))\n",
    "        email = input('Insira o email: ')\n",
    "        usuarios[cpf] = [nome, idade, email]\n",
    "    \n",
    "    elif entrada == 2:\n",
    "        print(usuarios)\n",
    "    \n",
    "    elif entrada == 4:\n",
    "        cpf_c = input('Insira o cpf para consultar o cadastro: ')\n",
    "        if cpf_c in usuarios:\n",
    "            print('Usuário encontrado: ',usuarios[cpf_c])\n",
    "        else:\n",
    "            print('Usuário não encontrado')"
   ]
  }
 ],
 "metadata": {
  "kernelspec": {
   "display_name": "Python 3",
   "language": "python",
   "name": "python3"
  },
  "language_info": {
   "codemirror_mode": {
    "name": "ipython",
    "version": 3
   },
   "file_extension": ".py",
   "mimetype": "text/x-python",
   "name": "python",
   "nbconvert_exporter": "python",
   "pygments_lexer": "ipython3",
   "version": "3.9.5"
  }
 },
 "nbformat": 4,
 "nbformat_minor": 4
}
